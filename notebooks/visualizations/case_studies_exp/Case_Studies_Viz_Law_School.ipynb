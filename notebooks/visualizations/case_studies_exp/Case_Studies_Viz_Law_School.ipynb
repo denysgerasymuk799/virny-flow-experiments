{
 "cells": [
  {
   "cell_type": "code",
   "execution_count": 1,
   "id": "initial_id",
   "metadata": {
    "ExecuteTime": {
     "end_time": "2025-02-09T14:10:12.684046Z",
     "start_time": "2025-02-09T14:10:12.197920Z"
    }
   },
   "outputs": [],
   "source": [
    "%matplotlib inline\n",
    "%load_ext autoreload\n",
    "%autoreload 2"
   ]
  },
  {
   "cell_type": "code",
   "execution_count": 2,
   "id": "4b8df197bfac13ea",
   "metadata": {
    "ExecuteTime": {
     "end_time": "2024-12-23T20:19:57.079105Z",
     "start_time": "2024-12-23T20:19:57.070937Z"
    }
   },
   "outputs": [],
   "source": [
    "import os\n",
    "import warnings\n",
    "\n",
    "warnings.filterwarnings('ignore')\n",
    "os.environ[\"PYTHONWARNINGS\"] = \"ignore\""
   ]
  },
  {
   "cell_type": "code",
   "execution_count": 3,
   "id": "795bc03809b0bd76",
   "metadata": {
    "ExecuteTime": {
     "end_time": "2024-12-23T20:19:57.201303Z",
     "start_time": "2024-12-23T20:19:57.192566Z"
    }
   },
   "outputs": [
    {
     "name": "stdout",
     "output_type": "stream",
     "text": [
      "Current location:  /Users/denys_herasymuk/Research/NYU/VirnyFlow_Project/Code/virny-flow-experiments\n"
     ]
    }
   ],
   "source": [
    "cur_folder_name = os.getcwd().split('/')[-1]\n",
    "if cur_folder_name != \"virny-flow-experiments\":\n",
    "    os.chdir(\"../../..\")\n",
    "\n",
    "print('Current location: ', os.getcwd())"
   ]
  },
  {
   "cell_type": "markdown",
   "id": "f82a3d9884591691",
   "metadata": {},
   "source": [
    "# Case Studies Visualizations"
   ]
  },
  {
   "cell_type": "code",
   "execution_count": 4,
   "id": "7355907a9d999068",
   "metadata": {
    "ExecuteTime": {
     "end_time": "2024-12-23T20:19:57.640626Z",
     "start_time": "2024-12-23T20:19:57.275517Z"
    }
   },
   "outputs": [],
   "source": [
    "from duckdb import query as sqldf\n",
    "from source.visualizations.use_case_queries import get_best_lps_per_exp_config\n",
    "from source.visualizations.cost_model_viz import create_box_plot_per_dataset_and_case_study"
   ]
  },
  {
   "cell_type": "markdown",
   "id": "a41c1d9ce97655db",
   "metadata": {},
   "source": [
    "## Prepare data for visualizations"
   ]
  },
  {
   "cell_type": "code",
   "execution_count": 5,
   "id": "7010681237f5c94a",
   "metadata": {
    "ExecuteTime": {
     "end_time": "2024-12-23T20:20:34.264169Z",
     "start_time": "2024-12-23T20:20:34.250698Z"
    }
   },
   "outputs": [],
   "source": [
    "SECRETS_PATH = os.path.join(os.getcwd(), \"scripts\", \"configs\", \"secrets.env\")\n",
    "EXP_NAME = 'case_studies_exp'\n",
    "DATASET_NAME = 'law_school'\n",
    "EXP_CONFIG_NAMES = [\n",
    "    \"case_studies_exp_law_school_cs1_w_acc_0_25_w_fair_0_75\",\n",
    "    \"case_studies_exp_law_school_cs1_w_acc_0_5_w_fair_0_5\",\n",
    "    \"case_studies_exp_law_school_cs1_w_acc_0_75_w_fair_0_25\",\n",
    "    \"case_studies_exp_law_school_cs2_w_acc_0_25_w_fair_0_75\",\n",
    "    \"case_studies_exp_law_school_cs2_w_acc_0_5_w_fair_0_5\",\n",
    "    \"case_studies_exp_law_school_cs2_w_acc_0_75_w_fair_0_25\",\n",
    "    \"case_studies_exp_law_school_cs3_w_acc_0_25_w_fair1_0_25_w_fair2_0_5\",\n",
    "    \"case_studies_exp_law_school_cs3_w_acc_0_25_w_fair1_0_5_w_fair2_0_25\",\n",
    "    \"case_studies_exp_law_school_cs3_w_acc_0_33_w_fair1_0_33_w_fair2_0_33\",\n",
    "    \"case_studies_exp_law_school_cs3_w_acc_0_5_w_fair1_0_25_w_fair2_0_25\",\n",
    "]"
   ]
  },
  {
   "cell_type": "code",
   "execution_count": 6,
   "id": "8219596d0fdfa897",
   "metadata": {
    "ExecuteTime": {
     "end_time": "2024-12-23T20:20:42.790084Z",
     "start_time": "2024-12-23T20:20:34.696383Z"
    }
   },
   "outputs": [
    {
     "name": "stdout",
     "output_type": "stream",
     "text": [
      "Extracting metrics for case_studies_exp_law_school_cs1_w_acc_0_25_w_fair_0_75...\n",
      "best_pps_per_lp_and_run_num_df.shape: (63, 19)\n",
      "max_lp_avg_compound_pp_quality: 0.982587440464737\n",
      "best_logical_pipeline_uuid: Tm9uZSZOT19GQUlSTkVTU19JTlRFUlZFTlRJT04mZ2FuZGFsZl9jbGY=\n",
      "Extracted metrics for case_studies_exp_law_school_cs1_w_acc_0_25_w_fair_0_75\n",
      "\n",
      "Extracting metrics for case_studies_exp_law_school_cs1_w_acc_0_5_w_fair_0_5...\n",
      "best_pps_per_lp_and_run_num_df.shape: (54, 19)\n",
      "max_lp_avg_compound_pp_quality: 0.9725568533647984\n",
      "best_logical_pipeline_uuid: Tm9uZSZOT19GQUlSTkVTU19JTlRFUlZFTlRJT04mZ2FuZGFsZl9jbGY=\n",
      "Extracted metrics for case_studies_exp_law_school_cs1_w_acc_0_5_w_fair_0_5\n",
      "\n",
      "Extracting metrics for case_studies_exp_law_school_cs1_w_acc_0_75_w_fair_0_25...\n",
      "best_pps_per_lp_and_run_num_df.shape: (45, 19)\n",
      "max_lp_avg_compound_pp_quality: 0.9609385168058482\n",
      "best_logical_pipeline_uuid: Tm9uZSZOT19GQUlSTkVTU19JTlRFUlZFTlRJT04mbGdibV9jbGY=\n",
      "Extracted metrics for case_studies_exp_law_school_cs1_w_acc_0_75_w_fair_0_25\n",
      "\n",
      "Extracting metrics for case_studies_exp_law_school_cs2_w_acc_0_25_w_fair_0_75...\n",
      "best_pps_per_lp_and_run_num_df.shape: (36, 19)\n",
      "max_lp_avg_compound_pp_quality: 0.9840696246725746\n",
      "best_logical_pipeline_uuid: Tm9uZSZOT19GQUlSTkVTU19JTlRFUlZFTlRJT04mZ2FuZGFsZl9jbGY=\n",
      "Extracted metrics for case_studies_exp_law_school_cs2_w_acc_0_25_w_fair_0_75\n",
      "\n",
      "Extracting metrics for case_studies_exp_law_school_cs2_w_acc_0_5_w_fair_0_5...\n",
      "best_pps_per_lp_and_run_num_df.shape: (54, 19)\n",
      "max_lp_avg_compound_pp_quality: 0.9224723426312048\n",
      "best_logical_pipeline_uuid: Tm9uZSZOT19GQUlSTkVTU19JTlRFUlZFTlRJT04mbHJfY2xm\n",
      "Extracted metrics for case_studies_exp_law_school_cs2_w_acc_0_5_w_fair_0_5\n",
      "\n",
      "Extracting metrics for case_studies_exp_law_school_cs2_w_acc_0_75_w_fair_0_25...\n",
      "best_pps_per_lp_and_run_num_df.shape: (45, 19)\n",
      "max_lp_avg_compound_pp_quality: 0.9557088585065652\n",
      "best_logical_pipeline_uuid: Tm9uZSZOT19GQUlSTkVTU19JTlRFUlZFTlRJT04mZ2FuZGFsZl9jbGY=\n",
      "Extracted metrics for case_studies_exp_law_school_cs2_w_acc_0_75_w_fair_0_25\n",
      "\n",
      "Extracting metrics for case_studies_exp_law_school_cs3_w_acc_0_25_w_fair1_0_25_w_fair2_0_5...\n",
      "best_pps_per_lp_and_run_num_df.shape: (45, 19)\n",
      "max_lp_avg_compound_pp_quality: 0.9648265572373038\n",
      "best_logical_pipeline_uuid: Tm9uZSZOT19GQUlSTkVTU19JTlRFUlZFTlRJT04mZ2FuZGFsZl9jbGY=\n",
      "Extracted metrics for case_studies_exp_law_school_cs3_w_acc_0_25_w_fair1_0_25_w_fair2_0_5\n",
      "\n",
      "Extracting metrics for case_studies_exp_law_school_cs3_w_acc_0_25_w_fair1_0_5_w_fair2_0_25...\n",
      "best_pps_per_lp_and_run_num_df.shape: (18, 19)\n",
      "max_lp_avg_compound_pp_quality: 0.9344375380193719\n"
     ]
    },
    {
     "ename": "IndexError",
     "evalue": "index 0 is out of bounds for axis 0 with size 0",
     "output_type": "error",
     "traceback": [
      "\u001b[0;31m---------------------------------------------------------------------------\u001b[0m",
      "\u001b[0;31mIndexError\u001b[0m                                Traceback (most recent call last)",
      "\u001b[0;32m/var/folders/cg/8lx575sx0rj624gtvw9n3c4h0000gn/T/ipykernel_64521/2371388030.py\u001b[0m in \u001b[0;36m?\u001b[0;34m()\u001b[0m\n\u001b[0;32m----> 1\u001b[0;31m \u001b[0mbest_lp_metrics_per_exp_config_df\u001b[0m \u001b[0;34m=\u001b[0m \u001b[0mget_best_lps_per_exp_config\u001b[0m\u001b[0;34m(\u001b[0m\u001b[0msecrets_path\u001b[0m\u001b[0;34m=\u001b[0m\u001b[0mSECRETS_PATH\u001b[0m\u001b[0;34m,\u001b[0m \u001b[0mexp_config_names\u001b[0m\u001b[0;34m=\u001b[0m\u001b[0mEXP_CONFIG_NAMES\u001b[0m\u001b[0;34m)\u001b[0m\u001b[0;34m\u001b[0m\u001b[0;34m\u001b[0m\u001b[0m\n\u001b[0m",
      "\u001b[0;32m~/Research/NYU/VirnyFlow_Project/Code/virny-flow-experiments/source/visualizations/use_case_queries.py\u001b[0m in \u001b[0;36m?\u001b[0;34m(secrets_path, exp_config_names)\u001b[0m\n\u001b[1;32m     41\u001b[0m \u001b[0;34m\u001b[0m\u001b[0m\n\u001b[1;32m     42\u001b[0m     \u001b[0mbest_lp_metrics_per_exp_config_df\u001b[0m \u001b[0;34m=\u001b[0m \u001b[0mpd\u001b[0m\u001b[0;34m.\u001b[0m\u001b[0mDataFrame\u001b[0m\u001b[0;34m(\u001b[0m\u001b[0;34m)\u001b[0m\u001b[0;34m\u001b[0m\u001b[0;34m\u001b[0m\u001b[0m\n\u001b[1;32m     43\u001b[0m     \u001b[0;32mfor\u001b[0m \u001b[0mexp_config_name\u001b[0m \u001b[0;32min\u001b[0m \u001b[0mexp_config_names\u001b[0m\u001b[0;34m:\u001b[0m\u001b[0;34m\u001b[0m\u001b[0;34m\u001b[0m\u001b[0m\n\u001b[1;32m     44\u001b[0m         \u001b[0mprint\u001b[0m\u001b[0;34m(\u001b[0m\u001b[0;34mf'Extracting metrics for {exp_config_name}...'\u001b[0m\u001b[0;34m)\u001b[0m\u001b[0;34m\u001b[0m\u001b[0;34m\u001b[0m\u001b[0m\n\u001b[0;32m---> 45\u001b[0;31m         \u001b[0mbest_lp_metrics_df\u001b[0m \u001b[0;34m=\u001b[0m \u001b[0mget_best_lps_for_exp_config\u001b[0m\u001b[0;34m(\u001b[0m\u001b[0mdb_client\u001b[0m\u001b[0;34m=\u001b[0m\u001b[0mdb_client\u001b[0m\u001b[0;34m,\u001b[0m \u001b[0mexp_config_name\u001b[0m\u001b[0;34m=\u001b[0m\u001b[0mexp_config_name\u001b[0m\u001b[0;34m)\u001b[0m\u001b[0;34m\u001b[0m\u001b[0;34m\u001b[0m\u001b[0m\n\u001b[0m\u001b[1;32m     46\u001b[0m         \u001b[0mbest_lp_metrics_per_exp_config_df\u001b[0m \u001b[0;34m=\u001b[0m \u001b[0mpd\u001b[0m\u001b[0;34m.\u001b[0m\u001b[0mconcat\u001b[0m\u001b[0;34m(\u001b[0m\u001b[0;34m[\u001b[0m\u001b[0mbest_lp_metrics_per_exp_config_df\u001b[0m\u001b[0;34m,\u001b[0m \u001b[0mbest_lp_metrics_df\u001b[0m\u001b[0;34m]\u001b[0m\u001b[0;34m)\u001b[0m\u001b[0;34m\u001b[0m\u001b[0;34m\u001b[0m\u001b[0m\n\u001b[1;32m     47\u001b[0m         \u001b[0mprint\u001b[0m\u001b[0;34m(\u001b[0m\u001b[0;34mf'Extracted metrics for {exp_config_name}\\n'\u001b[0m\u001b[0;34m)\u001b[0m\u001b[0;34m\u001b[0m\u001b[0;34m\u001b[0m\u001b[0m\n\u001b[1;32m     48\u001b[0m \u001b[0;34m\u001b[0m\u001b[0m\n",
      "\u001b[0;32m~/Research/NYU/VirnyFlow_Project/Code/virny-flow-experiments/source/visualizations/use_case_queries.py\u001b[0m in \u001b[0;36m?\u001b[0;34m(db_client, exp_config_name)\u001b[0m\n\u001b[1;32m     20\u001b[0m         ) AS avg_tbl\n\u001b[1;32m     21\u001b[0m     \"\"\").to_df().iloc[0, 0]\n\u001b[1;32m     22\u001b[0m     \u001b[0mprint\u001b[0m\u001b[0;34m(\u001b[0m\u001b[0;34m'max_lp_avg_compound_pp_quality:'\u001b[0m\u001b[0;34m,\u001b[0m \u001b[0mmax_lp_avg_compound_pp_quality\u001b[0m\u001b[0;34m)\u001b[0m\u001b[0;34m\u001b[0m\u001b[0;34m\u001b[0m\u001b[0m\n\u001b[1;32m     23\u001b[0m \u001b[0;34m\u001b[0m\u001b[0m\n\u001b[0;32m---> 24\u001b[0;31m     best_logical_pipeline_uuid = sqldf(f\"\"\"\n\u001b[0m\u001b[1;32m     25\u001b[0m         \u001b[0mSELECT\u001b[0m \u001b[0mlogical_pipeline_uuid\u001b[0m\u001b[0;34m\u001b[0m\u001b[0;34m\u001b[0m\u001b[0m\n\u001b[1;32m     26\u001b[0m         FROM (\n\u001b[1;32m     27\u001b[0m             \u001b[0mSELECT\u001b[0m \u001b[0mlogical_pipeline_uuid\u001b[0m\u001b[0;34m,\u001b[0m \u001b[0mAVG\u001b[0m\u001b[0;34m(\u001b[0m\u001b[0mcompound_pp_quality\u001b[0m\u001b[0;34m)\u001b[0m \u001b[0mAS\u001b[0m \u001b[0mavg_compound_pp_quality\u001b[0m\u001b[0;34m\u001b[0m\u001b[0;34m\u001b[0m\u001b[0m\n",
      "\u001b[0;32m~/Research/NYU/VirnyFlow_Project/Code/virny-flow-experiments/exps_venv/lib/python3.9/site-packages/pandas/core/indexing.py\u001b[0m in \u001b[0;36m?\u001b[0;34m(self, key)\u001b[0m\n\u001b[1;32m   1062\u001b[0m         \u001b[0;32mif\u001b[0m \u001b[0mtype\u001b[0m\u001b[0;34m(\u001b[0m\u001b[0mkey\u001b[0m\u001b[0;34m)\u001b[0m \u001b[0;32mis\u001b[0m \u001b[0mtuple\u001b[0m\u001b[0;34m:\u001b[0m\u001b[0;34m\u001b[0m\u001b[0;34m\u001b[0m\u001b[0m\n\u001b[1;32m   1063\u001b[0m             \u001b[0mkey\u001b[0m \u001b[0;34m=\u001b[0m \u001b[0mtuple\u001b[0m\u001b[0;34m(\u001b[0m\u001b[0mlist\u001b[0m\u001b[0;34m(\u001b[0m\u001b[0mx\u001b[0m\u001b[0;34m)\u001b[0m \u001b[0;32mif\u001b[0m \u001b[0mis_iterator\u001b[0m\u001b[0;34m(\u001b[0m\u001b[0mx\u001b[0m\u001b[0;34m)\u001b[0m \u001b[0;32melse\u001b[0m \u001b[0mx\u001b[0m \u001b[0;32mfor\u001b[0m \u001b[0mx\u001b[0m \u001b[0;32min\u001b[0m \u001b[0mkey\u001b[0m\u001b[0;34m)\u001b[0m\u001b[0;34m\u001b[0m\u001b[0;34m\u001b[0m\u001b[0m\n\u001b[1;32m   1064\u001b[0m             \u001b[0mkey\u001b[0m \u001b[0;34m=\u001b[0m \u001b[0mtuple\u001b[0m\u001b[0;34m(\u001b[0m\u001b[0mcom\u001b[0m\u001b[0;34m.\u001b[0m\u001b[0mapply_if_callable\u001b[0m\u001b[0;34m(\u001b[0m\u001b[0mx\u001b[0m\u001b[0;34m,\u001b[0m \u001b[0mself\u001b[0m\u001b[0;34m.\u001b[0m\u001b[0mobj\u001b[0m\u001b[0;34m)\u001b[0m \u001b[0;32mfor\u001b[0m \u001b[0mx\u001b[0m \u001b[0;32min\u001b[0m \u001b[0mkey\u001b[0m\u001b[0;34m)\u001b[0m\u001b[0;34m\u001b[0m\u001b[0;34m\u001b[0m\u001b[0m\n\u001b[1;32m   1065\u001b[0m             \u001b[0;32mif\u001b[0m \u001b[0mself\u001b[0m\u001b[0;34m.\u001b[0m\u001b[0m_is_scalar_access\u001b[0m\u001b[0;34m(\u001b[0m\u001b[0mkey\u001b[0m\u001b[0;34m)\u001b[0m\u001b[0;34m:\u001b[0m\u001b[0;34m\u001b[0m\u001b[0;34m\u001b[0m\u001b[0m\n\u001b[0;32m-> 1066\u001b[0;31m                 \u001b[0;32mreturn\u001b[0m \u001b[0mself\u001b[0m\u001b[0;34m.\u001b[0m\u001b[0mobj\u001b[0m\u001b[0;34m.\u001b[0m\u001b[0m_get_value\u001b[0m\u001b[0;34m(\u001b[0m\u001b[0;34m*\u001b[0m\u001b[0mkey\u001b[0m\u001b[0;34m,\u001b[0m \u001b[0mtakeable\u001b[0m\u001b[0;34m=\u001b[0m\u001b[0mself\u001b[0m\u001b[0;34m.\u001b[0m\u001b[0m_takeable\u001b[0m\u001b[0;34m)\u001b[0m\u001b[0;34m\u001b[0m\u001b[0;34m\u001b[0m\u001b[0m\n\u001b[0m\u001b[1;32m   1067\u001b[0m             \u001b[0;32mreturn\u001b[0m \u001b[0mself\u001b[0m\u001b[0;34m.\u001b[0m\u001b[0m_getitem_tuple\u001b[0m\u001b[0;34m(\u001b[0m\u001b[0mkey\u001b[0m\u001b[0;34m)\u001b[0m\u001b[0;34m\u001b[0m\u001b[0;34m\u001b[0m\u001b[0m\n\u001b[1;32m   1068\u001b[0m         \u001b[0;32melse\u001b[0m\u001b[0;34m:\u001b[0m\u001b[0;34m\u001b[0m\u001b[0;34m\u001b[0m\u001b[0m\n\u001b[1;32m   1069\u001b[0m             \u001b[0;31m# we by definition only have the 0th axis\u001b[0m\u001b[0;34m\u001b[0m\u001b[0;34m\u001b[0m\u001b[0;34m\u001b[0m\u001b[0m\n",
      "\u001b[0;32m~/Research/NYU/VirnyFlow_Project/Code/virny-flow-experiments/exps_venv/lib/python3.9/site-packages/pandas/core/frame.py\u001b[0m in \u001b[0;36m?\u001b[0;34m(self, index, col, takeable)\u001b[0m\n\u001b[1;32m   3911\u001b[0m         \u001b[0;31m`\u001b[0m\u001b[0mself\u001b[0m\u001b[0;34m.\u001b[0m\u001b[0mcolumns\u001b[0m\u001b[0;34m.\u001b[0m\u001b[0m_index_as_unique\u001b[0m\u001b[0;31m`\u001b[0m\u001b[0;34m;\u001b[0m \u001b[0mCaller\u001b[0m \u001b[0;32mis\u001b[0m \u001b[0mresponsible\u001b[0m \u001b[0;32mfor\u001b[0m \u001b[0mchecking\u001b[0m\u001b[0;34m.\u001b[0m\u001b[0;34m\u001b[0m\u001b[0;34m\u001b[0m\u001b[0m\n\u001b[1;32m   3912\u001b[0m         \"\"\"\n\u001b[1;32m   3913\u001b[0m         \u001b[0;32mif\u001b[0m \u001b[0mtakeable\u001b[0m\u001b[0;34m:\u001b[0m\u001b[0;34m\u001b[0m\u001b[0;34m\u001b[0m\u001b[0m\n\u001b[1;32m   3914\u001b[0m             \u001b[0mseries\u001b[0m \u001b[0;34m=\u001b[0m \u001b[0mself\u001b[0m\u001b[0;34m.\u001b[0m\u001b[0m_ixs\u001b[0m\u001b[0;34m(\u001b[0m\u001b[0mcol\u001b[0m\u001b[0;34m,\u001b[0m \u001b[0maxis\u001b[0m\u001b[0;34m=\u001b[0m\u001b[0;36m1\u001b[0m\u001b[0;34m)\u001b[0m\u001b[0;34m\u001b[0m\u001b[0;34m\u001b[0m\u001b[0m\n\u001b[0;32m-> 3915\u001b[0;31m             \u001b[0;32mreturn\u001b[0m \u001b[0mseries\u001b[0m\u001b[0;34m.\u001b[0m\u001b[0m_values\u001b[0m\u001b[0;34m[\u001b[0m\u001b[0mindex\u001b[0m\u001b[0;34m]\u001b[0m\u001b[0;34m\u001b[0m\u001b[0;34m\u001b[0m\u001b[0m\n\u001b[0m\u001b[1;32m   3916\u001b[0m \u001b[0;34m\u001b[0m\u001b[0m\n\u001b[1;32m   3917\u001b[0m         \u001b[0mseries\u001b[0m \u001b[0;34m=\u001b[0m \u001b[0mself\u001b[0m\u001b[0;34m.\u001b[0m\u001b[0m_get_item_cache\u001b[0m\u001b[0;34m(\u001b[0m\u001b[0mcol\u001b[0m\u001b[0;34m)\u001b[0m\u001b[0;34m\u001b[0m\u001b[0;34m\u001b[0m\u001b[0m\n\u001b[1;32m   3918\u001b[0m         \u001b[0mengine\u001b[0m \u001b[0;34m=\u001b[0m \u001b[0mself\u001b[0m\u001b[0;34m.\u001b[0m\u001b[0mindex\u001b[0m\u001b[0;34m.\u001b[0m\u001b[0m_engine\u001b[0m\u001b[0;34m\u001b[0m\u001b[0;34m\u001b[0m\u001b[0m\n",
      "\u001b[0;31mIndexError\u001b[0m: index 0 is out of bounds for axis 0 with size 0"
     ]
    }
   ],
   "source": [
    "best_lp_metrics_per_exp_config_df = get_best_lps_per_exp_config(secrets_path=SECRETS_PATH, exp_config_names=EXP_CONFIG_NAMES)"
   ]
  },
  {
   "cell_type": "code",
   "execution_count": null,
   "id": "a71f069356c66137",
   "metadata": {
    "ExecuteTime": {
     "end_time": "2024-12-23T20:20:45.663268Z",
     "start_time": "2024-12-23T20:20:45.646563Z"
    }
   },
   "outputs": [],
   "source": [
    "best_lp_metrics_per_exp_config_df.shape"
   ]
  },
  {
   "cell_type": "code",
   "execution_count": null,
   "id": "c16f8184380a7aab",
   "metadata": {
    "ExecuteTime": {
     "end_time": "2024-12-23T20:20:45.805124Z",
     "start_time": "2024-12-23T20:20:45.786908Z"
    }
   },
   "outputs": [],
   "source": [
    "best_lp_metrics_per_exp_config_df.head()"
   ]
  },
  {
   "cell_type": "markdown",
   "id": "2946fc971262e17f",
   "metadata": {},
   "source": [
    "## Get the best lp per exp config "
   ]
  },
  {
   "cell_type": "code",
   "execution_count": null,
   "id": "cb71d75c8c46e494",
   "metadata": {
    "ExecuteTime": {
     "end_time": "2024-12-23T20:20:46.019742Z",
     "start_time": "2024-12-23T20:20:46.003196Z"
    }
   },
   "outputs": [],
   "source": [
    "# Get best lp per exp config\n",
    "sqldf(\"\"\"\n",
    "    SELECT DISTINCT exp_config_name, logical_pipeline_name\n",
    "    FROM best_lp_metrics_per_exp_config_df\n",
    "\"\"\").to_df()"
   ]
  },
  {
   "cell_type": "markdown",
   "id": "42cd73cdbb27edb5",
   "metadata": {},
   "source": [
    "## Case study 1"
   ]
  },
  {
   "cell_type": "code",
   "execution_count": null,
   "id": "7c1e9837a2a9609d",
   "metadata": {
    "ExecuteTime": {
     "end_time": "2024-12-23T20:20:46.306831Z",
     "start_time": "2024-12-23T20:20:46.294047Z"
    }
   },
   "outputs": [],
   "source": [
    "CASE_STUDY_NAME = 'cs1'"
   ]
  },
  {
   "cell_type": "code",
   "execution_count": null,
   "id": "a70d30d29ecbe50f",
   "metadata": {
    "ExecuteTime": {
     "end_time": "2024-12-23T20:20:46.670321Z",
     "start_time": "2024-12-23T20:20:46.646870Z"
    }
   },
   "outputs": [],
   "source": [
    "to_plot = best_lp_metrics_per_exp_config_df\n",
    "to_plot[(to_plot['dataset_name'] == DATASET_NAME) & (to_plot['exp_config_name'].str.contains(CASE_STUDY_NAME, case=False, na=False))]"
   ]
  },
  {
   "cell_type": "code",
   "execution_count": null,
   "id": "2d13a28d01ca267b",
   "metadata": {
    "ExecuteTime": {
     "end_time": "2024-12-23T20:20:46.998203Z",
     "start_time": "2024-12-23T20:20:46.935776Z"
    }
   },
   "outputs": [],
   "source": [
    "create_box_plot_per_dataset_and_case_study(to_plot=best_lp_metrics_per_exp_config_df,\n",
    "                                           exp_name=EXP_NAME,\n",
    "                                           dataset_name=DATASET_NAME,\n",
    "                                           case_study_name=CASE_STUDY_NAME,\n",
    "                                           metric_name=\"F1\")"
   ]
  },
  {
   "cell_type": "code",
   "execution_count": null,
   "id": "e3d9bb4d6ab4cf37",
   "metadata": {
    "ExecuteTime": {
     "end_time": "2024-12-23T20:20:47.162044Z",
     "start_time": "2024-12-23T20:20:47.111350Z"
    }
   },
   "outputs": [],
   "source": [
    "create_box_plot_per_dataset_and_case_study(to_plot=best_lp_metrics_per_exp_config_df,\n",
    "                                           exp_name=EXP_NAME,\n",
    "                                           dataset_name=DATASET_NAME,\n",
    "                                           case_study_name=CASE_STUDY_NAME,\n",
    "                                           metric_name=\"Selection_Rate_Difference\",\n",
    "                                           group=\"male\")"
   ]
  },
  {
   "cell_type": "markdown",
   "id": "115acb81b4db554c",
   "metadata": {},
   "source": [
    "## Case study 2"
   ]
  },
  {
   "cell_type": "code",
   "execution_count": null,
   "id": "ddbf2df1ce330560",
   "metadata": {
    "ExecuteTime": {
     "end_time": "2024-12-23T20:20:47.316635Z",
     "start_time": "2024-12-23T20:20:47.303821Z"
    }
   },
   "outputs": [],
   "source": [
    "CASE_STUDY_NAME = 'cs2'"
   ]
  },
  {
   "cell_type": "code",
   "execution_count": null,
   "id": "dd89188274598a12",
   "metadata": {
    "ExecuteTime": {
     "end_time": "2024-12-23T20:20:47.461991Z",
     "start_time": "2024-12-23T20:20:47.435798Z"
    }
   },
   "outputs": [],
   "source": [
    "to_plot = best_lp_metrics_per_exp_config_df\n",
    "to_plot[(to_plot['dataset_name'] == DATASET_NAME) & (to_plot['exp_config_name'].str.contains(CASE_STUDY_NAME, case=False, na=False))]"
   ]
  },
  {
   "cell_type": "code",
   "execution_count": null,
   "id": "7f0d8eb9dac608f2",
   "metadata": {
    "ExecuteTime": {
     "end_time": "2024-12-23T20:20:47.988067Z",
     "start_time": "2024-12-23T20:20:47.946124Z"
    }
   },
   "outputs": [],
   "source": [
    "create_box_plot_per_dataset_and_case_study(to_plot=best_lp_metrics_per_exp_config_df,\n",
    "                                           exp_name=EXP_NAME,\n",
    "                                           dataset_name=DATASET_NAME,\n",
    "                                           case_study_name=CASE_STUDY_NAME,\n",
    "                                           metric_name=\"F1\")"
   ]
  },
  {
   "cell_type": "code",
   "execution_count": null,
   "id": "ce615519a8374f22",
   "metadata": {
    "ExecuteTime": {
     "end_time": "2024-12-23T20:20:48.273794Z",
     "start_time": "2024-12-23T20:20:48.219686Z"
    }
   },
   "outputs": [],
   "source": [
    "create_box_plot_per_dataset_and_case_study(to_plot=best_lp_metrics_per_exp_config_df,\n",
    "                                           exp_name=EXP_NAME,\n",
    "                                           dataset_name=DATASET_NAME,\n",
    "                                           case_study_name=CASE_STUDY_NAME,\n",
    "                                           metric_name=\"Selection_Rate_Difference\",\n",
    "                                           group=\"race\")"
   ]
  },
  {
   "cell_type": "markdown",
   "id": "b4e67f2eb175b94b",
   "metadata": {},
   "source": [
    "## Case study 3"
   ]
  },
  {
   "cell_type": "code",
   "execution_count": null,
   "id": "4e2a26df3135c1b1",
   "metadata": {
    "ExecuteTime": {
     "end_time": "2024-12-23T20:20:49.432003Z",
     "start_time": "2024-12-23T20:20:49.412718Z"
    }
   },
   "outputs": [],
   "source": [
    "CASE_STUDY_NAME = 'cs3'"
   ]
  },
  {
   "cell_type": "code",
   "execution_count": null,
   "id": "d6244bc043564593",
   "metadata": {
    "ExecuteTime": {
     "end_time": "2024-12-23T20:20:49.747960Z",
     "start_time": "2024-12-23T20:20:49.725331Z"
    }
   },
   "outputs": [],
   "source": [
    "to_plot = best_lp_metrics_per_exp_config_df\n",
    "to_plot[(to_plot['dataset_name'] == DATASET_NAME) & (to_plot['exp_config_name'].str.contains(CASE_STUDY_NAME, case=False, na=False))]"
   ]
  },
  {
   "cell_type": "code",
   "execution_count": null,
   "id": "ab71a6eec79cb801",
   "metadata": {
    "ExecuteTime": {
     "end_time": "2024-12-23T20:20:49.982860Z",
     "start_time": "2024-12-23T20:20:49.936707Z"
    }
   },
   "outputs": [],
   "source": [
    "create_box_plot_per_dataset_and_case_study(to_plot=best_lp_metrics_per_exp_config_df,\n",
    "                                           exp_name=EXP_NAME,\n",
    "                                           dataset_name=DATASET_NAME,\n",
    "                                           case_study_name=CASE_STUDY_NAME,\n",
    "                                           metric_name=\"F1\")"
   ]
  },
  {
   "cell_type": "code",
   "execution_count": null,
   "id": "3197106960d20d44",
   "metadata": {
    "ExecuteTime": {
     "end_time": "2024-12-23T20:20:50.541275Z",
     "start_time": "2024-12-23T20:20:50.489068Z"
    }
   },
   "outputs": [],
   "source": [
    "create_box_plot_per_dataset_and_case_study(to_plot=best_lp_metrics_per_exp_config_df,\n",
    "                                           exp_name=EXP_NAME,\n",
    "                                           dataset_name=DATASET_NAME,\n",
    "                                           case_study_name=CASE_STUDY_NAME,\n",
    "                                           metric_name=\"Selection_Rate_Difference\",\n",
    "                                           group=\"male\")"
   ]
  },
  {
   "cell_type": "code",
   "execution_count": null,
   "id": "dbc888e487d531e1",
   "metadata": {
    "ExecuteTime": {
     "end_time": "2024-12-23T20:20:51.140742Z",
     "start_time": "2024-12-23T20:20:51.087453Z"
    }
   },
   "outputs": [],
   "source": [
    "create_box_plot_per_dataset_and_case_study(to_plot=best_lp_metrics_per_exp_config_df,\n",
    "                                           exp_name=EXP_NAME,\n",
    "                                           dataset_name=DATASET_NAME,\n",
    "                                           case_study_name=CASE_STUDY_NAME,\n",
    "                                           metric_name=\"Selection_Rate_Difference\",\n",
    "                                           group=\"race\")"
   ]
  },
  {
   "cell_type": "code",
   "execution_count": null,
   "id": "ab4ee318769d68b",
   "metadata": {
    "ExecuteTime": {
     "end_time": "2024-12-23T20:20:08.300525Z",
     "start_time": "2024-12-23T10:43:41.304994Z"
    }
   },
   "outputs": [],
   "source": []
  }
 ],
 "metadata": {
  "kernelspec": {
   "display_name": "Python 3 (ipykernel)",
   "language": "python",
   "name": "python3"
  },
  "language_info": {
   "codemirror_mode": {
    "name": "ipython",
    "version": 3
   },
   "file_extension": ".py",
   "mimetype": "text/x-python",
   "name": "python",
   "nbconvert_exporter": "python",
   "pygments_lexer": "ipython3",
   "version": "3.9.6"
  }
 },
 "nbformat": 4,
 "nbformat_minor": 5
}
