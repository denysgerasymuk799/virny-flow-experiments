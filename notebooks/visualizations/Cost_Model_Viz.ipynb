{
 "cells": [
  {
   "cell_type": "code",
   "id": "initial_id",
   "metadata": {
    "collapsed": true,
    "jupyter": {
     "outputs_hidden": true
    },
    "ExecuteTime": {
     "end_time": "2024-12-15T23:09:57.805826Z",
     "start_time": "2024-12-15T23:09:57.488642Z"
    }
   },
   "source": [
    "%matplotlib inline\n",
    "%load_ext autoreload\n",
    "%autoreload 2"
   ],
   "outputs": [],
   "execution_count": 1
  },
  {
   "cell_type": "code",
   "id": "4b8df197bfac13ea",
   "metadata": {
    "ExecuteTime": {
     "end_time": "2024-12-15T23:09:58.409966Z",
     "start_time": "2024-12-15T23:09:58.398093Z"
    }
   },
   "source": [
    "import os\n",
    "import warnings\n",
    "\n",
    "warnings.filterwarnings('ignore')\n",
    "os.environ[\"PYTHONWARNINGS\"] = \"ignore\""
   ],
   "outputs": [],
   "execution_count": 2
  },
  {
   "cell_type": "code",
   "id": "795bc03809b0bd76",
   "metadata": {
    "ExecuteTime": {
     "end_time": "2024-12-15T23:09:58.749966Z",
     "start_time": "2024-12-15T23:09:58.737457Z"
    }
   },
   "source": [
    "cur_folder_name = os.getcwd().split('/')[-1]\n",
    "if cur_folder_name != \"virny-flow-experiments\":\n",
    "    os.chdir(\"../..\")\n",
    "\n",
    "print('Current location: ', os.getcwd())"
   ],
   "outputs": [
    {
     "name": "stdout",
     "output_type": "stream",
     "text": [
      "Current location:  /Users/denys_herasymuk/Research/NYU/VirnyFlow_Project/Code/virny-flow-experiments\n"
     ]
    }
   ],
   "execution_count": 3
  },
  {
   "cell_type": "markdown",
   "id": "f82a3d9884591691",
   "metadata": {},
   "source": [
    "# Cost Model Visualizations"
   ]
  },
  {
   "cell_type": "code",
   "id": "7355907a9d999068",
   "metadata": {
    "ExecuteTime": {
     "end_time": "2024-12-15T23:10:00.236848Z",
     "start_time": "2024-12-15T23:09:59.758549Z"
    }
   },
   "source": [
    "from source.visualizations.use_case_queries import get_best_lps_per_exp_config\n",
    "from source.visualizations.cost_model_viz import create_box_plot_per_cost_model"
   ],
   "outputs": [],
   "execution_count": 4
  },
  {
   "cell_type": "markdown",
   "id": "a41c1d9ce97655db",
   "metadata": {},
   "source": [
    "## Prepare data for visualizations"
   ]
  },
  {
   "cell_type": "code",
   "id": "7010681237f5c94a",
   "metadata": {
    "ExecuteTime": {
     "end_time": "2024-12-15T23:10:01.310294Z",
     "start_time": "2024-12-15T23:10:01.297886Z"
    }
   },
   "source": [
    "SECRETS_PATH = os.path.join(os.getcwd(), \"scripts\", \"configs\", \"secrets.env\")\n",
    "GROUP = \"SEX&RAC1P\"\n",
    "EXP_CONFIG_NAMES = [\n",
    "    \"cost_model_exp1_folk_emp_w_acc_0_0_w_fair_1_0\",\n",
    "    \"cost_model_exp1_folk_emp_w_acc_0_25_w_fair_0_75\",\n",
    "    \"cost_model_exp1_folk_emp_w_acc_0_5_w_fair_0_5\",\n",
    "    \"cost_model_exp1_folk_emp_w_acc_0_75_w_fair_0_25\",\n",
    "    \"cost_model_exp1_folk_emp_w_acc_1_0_w_fair_0_0\",\n",
    "]"
   ],
   "outputs": [],
   "execution_count": 5
  },
  {
   "cell_type": "code",
   "id": "8219596d0fdfa897",
   "metadata": {
    "ExecuteTime": {
     "end_time": "2024-12-15T23:14:35.553735Z",
     "start_time": "2024-12-15T23:10:03.088098Z"
    }
   },
   "source": "best_lp_metrics_per_exp_config_df = get_best_lps_per_exp_config(secrets_path=SECRETS_PATH, exp_config_names=EXP_CONFIG_NAMES)",
   "outputs": [
    {
     "name": "stdout",
     "output_type": "stream",
     "text": [
      "Extracting metrics for cost_model_exp1_folk_emp_w_acc_0_0_w_fair_1_0...\n",
      "best_pps_per_lp_and_run_num_df.shape: (540, 19)\n",
      "max_lp_avg_compound_pp_quality: 0.9815436339028624\n",
      "best_logical_pipeline_uuid: Tm9uZSZESVImbHJfY2xm\n",
      "Extracted metrics for cost_model_exp1_folk_emp_w_acc_0_0_w_fair_1_0\n",
      "\n",
      "Extracting metrics for cost_model_exp1_folk_emp_w_acc_0_25_w_fair_0_75...\n",
      "best_pps_per_lp_and_run_num_df.shape: (540, 19)\n",
      "max_lp_avg_compound_pp_quality: 0.9331862818314766\n",
      "best_logical_pipeline_uuid: Tm9uZSZESVImbGdibV9jbGY=\n",
      "Extracted metrics for cost_model_exp1_folk_emp_w_acc_0_25_w_fair_0_75\n",
      "\n",
      "Extracting metrics for cost_model_exp1_folk_emp_w_acc_0_5_w_fair_0_5...\n",
      "best_pps_per_lp_and_run_num_df.shape: (540, 19)\n",
      "max_lp_avg_compound_pp_quality: 0.8919656476751825\n",
      "best_logical_pipeline_uuid: Tm9uZSZESVImcmZfY2xm\n",
      "Extracted metrics for cost_model_exp1_folk_emp_w_acc_0_5_w_fair_0_5\n",
      "\n",
      "Extracting metrics for cost_model_exp1_folk_emp_w_acc_0_75_w_fair_0_25...\n",
      "best_pps_per_lp_and_run_num_df.shape: (540, 19)\n",
      "max_lp_avg_compound_pp_quality: 0.850437408564153\n",
      "best_logical_pipeline_uuid: Tm9uZSZESVImcmZfY2xm\n",
      "Extracted metrics for cost_model_exp1_folk_emp_w_acc_0_75_w_fair_0_25\n",
      "\n",
      "Extracting metrics for cost_model_exp1_folk_emp_w_acc_1_0_w_fair_0_0...\n",
      "best_pps_per_lp_and_run_num_df.shape: (540, 19)\n",
      "max_lp_avg_compound_pp_quality: 0.8089689077933768\n",
      "best_logical_pipeline_uuid: Tm9uZSZOT19GQUlSTkVTU19JTlRFUlZFTlRJT04mcmZfY2xm\n",
      "Extracted metrics for cost_model_exp1_folk_emp_w_acc_1_0_w_fair_0_0\n",
      "\n"
     ]
    }
   ],
   "execution_count": 6
  },
  {
   "cell_type": "code",
   "id": "a71f069356c66137",
   "metadata": {
    "ExecuteTime": {
     "end_time": "2024-12-15T23:14:45.809174Z",
     "start_time": "2024-12-15T23:14:45.786295Z"
    }
   },
   "source": [
    "best_lp_metrics_per_exp_config_df.shape"
   ],
   "outputs": [
    {
     "data": {
      "text/plain": [
       "(450, 19)"
      ]
     },
     "execution_count": 7,
     "metadata": {},
     "output_type": "execute_result"
    }
   ],
   "execution_count": 7
  },
  {
   "cell_type": "code",
   "id": "c16f8184380a7aab",
   "metadata": {
    "ExecuteTime": {
     "end_time": "2024-12-15T23:15:24.899132Z",
     "start_time": "2024-12-15T23:15:24.874959Z"
    }
   },
   "source": "best_lp_metrics_per_exp_config_df",
   "outputs": [
    {
     "data": {
      "text/plain": [
       "subgroup   exp_config_name                             logical_pipeline_uuid  \\\n",
       "90        acc_0_0_fair_1_0                              Tm9uZSZESVImbHJfY2xm   \n",
       "91        acc_0_0_fair_1_0                              Tm9uZSZESVImbHJfY2xm   \n",
       "92        acc_0_0_fair_1_0                              Tm9uZSZESVImbHJfY2xm   \n",
       "93        acc_0_0_fair_1_0                              Tm9uZSZESVImbHJfY2xm   \n",
       "94        acc_0_0_fair_1_0                              Tm9uZSZESVImbHJfY2xm   \n",
       "..                     ...                                               ...   \n",
       "535       acc_1_0_fair_0_0  Tm9uZSZOT19GQUlSTkVTU19JTlRFUlZFTlRJT04mcmZfY2xm   \n",
       "536       acc_1_0_fair_0_0  Tm9uZSZOT19GQUlSTkVTU19JTlRFUlZFTlRJT04mcmZfY2xm   \n",
       "537       acc_1_0_fair_0_0  Tm9uZSZOT19GQUlSTkVTU19JTlRFUlZFTlRJT04mcmZfY2xm   \n",
       "538       acc_1_0_fair_0_0  Tm9uZSZOT19GQUlSTkVTU19JTlRFUlZFTlRJT04mcmZfY2xm   \n",
       "539       acc_1_0_fair_0_0  Tm9uZSZOT19GQUlSTkVTU19JTlRFUlZFTlRJT04mcmZfY2xm   \n",
       "\n",
       "subgroup                physical_pipeline_uuid  run_num  compound_pp_quality  \\\n",
       "90        10a4b262-5142-4d67-aceb-7c4e30102b28        4             0.990497   \n",
       "91        10a4b262-5142-4d67-aceb-7c4e30102b28        4             0.990497   \n",
       "92        10a4b262-5142-4d67-aceb-7c4e30102b28        4             0.990497   \n",
       "93        10a4b262-5142-4d67-aceb-7c4e30102b28        4             0.990497   \n",
       "94        10a4b262-5142-4d67-aceb-7c4e30102b28        4             0.990497   \n",
       "..                                         ...      ...                  ...   \n",
       "535       ff4518c9-1014-46ef-abae-8a25ed099035        5             0.803256   \n",
       "536       ff4518c9-1014-46ef-abae-8a25ed099035        5             0.803256   \n",
       "537       ff4518c9-1014-46ef-abae-8a25ed099035        5             0.803256   \n",
       "538       ff4518c9-1014-46ef-abae-8a25ed099035        5             0.803256   \n",
       "539       ff4518c9-1014-46ef-abae-8a25ed099035        5             0.803256   \n",
       "\n",
       "subgroup                 metric model_name  runtime_in_mins dataset_name  \\\n",
       "90                     Accuracy     lr_clf         0.239410     folk_emp   \n",
       "91        Aleatoric_Uncertainty     lr_clf         0.239410     folk_emp   \n",
       "92        Epistemic_Uncertainty     lr_clf         0.239410     folk_emp   \n",
       "93                           F1     lr_clf         0.239410     folk_emp   \n",
       "94                          FNR     lr_clf         0.239410     folk_emp   \n",
       "..                          ...        ...              ...          ...   \n",
       "535              Selection-Rate     rf_clf         0.367898     folk_emp   \n",
       "536            Statistical_Bias     rf_clf         0.367898     folk_emp   \n",
       "537                         Std     rf_clf         0.367898     folk_emp   \n",
       "538                         TNR     rf_clf         0.367898     folk_emp   \n",
       "539                         TPR     rf_clf         0.367898     folk_emp   \n",
       "\n",
       "subgroup                 logical_pipeline_name null_imputer_name  \\\n",
       "90                             None&DIR&lr_clf              None   \n",
       "91                             None&DIR&lr_clf              None   \n",
       "92                             None&DIR&lr_clf              None   \n",
       "93                             None&DIR&lr_clf              None   \n",
       "94                             None&DIR&lr_clf              None   \n",
       "..                                         ...               ...   \n",
       "535       None&NO_FAIRNESS_INTERVENTION&rf_clf              None   \n",
       "536       None&NO_FAIRNESS_INTERVENTION&rf_clf              None   \n",
       "537       None&NO_FAIRNESS_INTERVENTION&rf_clf              None   \n",
       "538       None&NO_FAIRNESS_INTERVENTION&rf_clf              None   \n",
       "539       None&NO_FAIRNESS_INTERVENTION&rf_clf              None   \n",
       "\n",
       "subgroup fairness_intervention_name  RAC1P_dis  RAC1P_priv  SEX&RAC1P_dis  \\\n",
       "90                              DIR   0.705671    0.707782       0.674138   \n",
       "91                              DIR   0.942348    0.948567       0.940146   \n",
       "92                              DIR   0.000227    0.000217       0.000225   \n",
       "93                              DIR   0.787800    0.774878       0.758003   \n",
       "94                              DIR   0.042587    0.088292       0.063291   \n",
       "..                              ...        ...         ...            ...   \n",
       "535        NO_FAIRNESS_INTERVENTION   0.728559    0.631889       0.704663   \n",
       "536        NO_FAIRNESS_INTERVENTION   0.373762    0.379022       0.392954   \n",
       "537        NO_FAIRNESS_INTERVENTION   0.028633    0.030330       0.028780   \n",
       "538        NO_FAIRNESS_INTERVENTION   0.536232    0.640382       0.509225   \n",
       "539        NO_FAIRNESS_INTERVENTION   0.925926    0.852713       0.892857   \n",
       "\n",
       "subgroup  SEX&RAC1P_priv   SEX_dis  SEX_priv   overall  \n",
       "90              0.714876  0.688103  0.727336  0.707000  \n",
       "91              0.947730  0.945983  0.946566  0.946264  \n",
       "92              0.000220  0.000220  0.000221  0.000221  \n",
       "93              0.785181  0.755421  0.803980  0.779865  \n",
       "94              0.072794  0.077586  0.064815  0.071002  \n",
       "..                   ...       ...       ...       ...  \n",
       "535             0.659645  0.666223  0.670455  0.668333  \n",
       "536             0.373233  0.397699  0.356269  0.377039  \n",
       "537             0.029908  0.029344  0.030038  0.029690  \n",
       "538             0.626311  0.547554  0.671233  0.602273  \n",
       "539             0.878280  0.871094  0.889254  0.880952  \n",
       "\n",
       "[450 rows x 19 columns]"
      ],
      "text/html": [
       "<div>\n",
       "<style scoped>\n",
       "    .dataframe tbody tr th:only-of-type {\n",
       "        vertical-align: middle;\n",
       "    }\n",
       "\n",
       "    .dataframe tbody tr th {\n",
       "        vertical-align: top;\n",
       "    }\n",
       "\n",
       "    .dataframe thead th {\n",
       "        text-align: right;\n",
       "    }\n",
       "</style>\n",
       "<table border=\"1\" class=\"dataframe\">\n",
       "  <thead>\n",
       "    <tr style=\"text-align: right;\">\n",
       "      <th>subgroup</th>\n",
       "      <th>exp_config_name</th>\n",
       "      <th>logical_pipeline_uuid</th>\n",
       "      <th>physical_pipeline_uuid</th>\n",
       "      <th>run_num</th>\n",
       "      <th>compound_pp_quality</th>\n",
       "      <th>metric</th>\n",
       "      <th>model_name</th>\n",
       "      <th>runtime_in_mins</th>\n",
       "      <th>dataset_name</th>\n",
       "      <th>logical_pipeline_name</th>\n",
       "      <th>null_imputer_name</th>\n",
       "      <th>fairness_intervention_name</th>\n",
       "      <th>RAC1P_dis</th>\n",
       "      <th>RAC1P_priv</th>\n",
       "      <th>SEX&amp;RAC1P_dis</th>\n",
       "      <th>SEX&amp;RAC1P_priv</th>\n",
       "      <th>SEX_dis</th>\n",
       "      <th>SEX_priv</th>\n",
       "      <th>overall</th>\n",
       "    </tr>\n",
       "  </thead>\n",
       "  <tbody>\n",
       "    <tr>\n",
       "      <th>90</th>\n",
       "      <td>acc_0_0_fair_1_0</td>\n",
       "      <td>Tm9uZSZESVImbHJfY2xm</td>\n",
       "      <td>10a4b262-5142-4d67-aceb-7c4e30102b28</td>\n",
       "      <td>4</td>\n",
       "      <td>0.990497</td>\n",
       "      <td>Accuracy</td>\n",
       "      <td>lr_clf</td>\n",
       "      <td>0.239410</td>\n",
       "      <td>folk_emp</td>\n",
       "      <td>None&amp;DIR&amp;lr_clf</td>\n",
       "      <td>None</td>\n",
       "      <td>DIR</td>\n",
       "      <td>0.705671</td>\n",
       "      <td>0.707782</td>\n",
       "      <td>0.674138</td>\n",
       "      <td>0.714876</td>\n",
       "      <td>0.688103</td>\n",
       "      <td>0.727336</td>\n",
       "      <td>0.707000</td>\n",
       "    </tr>\n",
       "    <tr>\n",
       "      <th>91</th>\n",
       "      <td>acc_0_0_fair_1_0</td>\n",
       "      <td>Tm9uZSZESVImbHJfY2xm</td>\n",
       "      <td>10a4b262-5142-4d67-aceb-7c4e30102b28</td>\n",
       "      <td>4</td>\n",
       "      <td>0.990497</td>\n",
       "      <td>Aleatoric_Uncertainty</td>\n",
       "      <td>lr_clf</td>\n",
       "      <td>0.239410</td>\n",
       "      <td>folk_emp</td>\n",
       "      <td>None&amp;DIR&amp;lr_clf</td>\n",
       "      <td>None</td>\n",
       "      <td>DIR</td>\n",
       "      <td>0.942348</td>\n",
       "      <td>0.948567</td>\n",
       "      <td>0.940146</td>\n",
       "      <td>0.947730</td>\n",
       "      <td>0.945983</td>\n",
       "      <td>0.946566</td>\n",
       "      <td>0.946264</td>\n",
       "    </tr>\n",
       "    <tr>\n",
       "      <th>92</th>\n",
       "      <td>acc_0_0_fair_1_0</td>\n",
       "      <td>Tm9uZSZESVImbHJfY2xm</td>\n",
       "      <td>10a4b262-5142-4d67-aceb-7c4e30102b28</td>\n",
       "      <td>4</td>\n",
       "      <td>0.990497</td>\n",
       "      <td>Epistemic_Uncertainty</td>\n",
       "      <td>lr_clf</td>\n",
       "      <td>0.239410</td>\n",
       "      <td>folk_emp</td>\n",
       "      <td>None&amp;DIR&amp;lr_clf</td>\n",
       "      <td>None</td>\n",
       "      <td>DIR</td>\n",
       "      <td>0.000227</td>\n",
       "      <td>0.000217</td>\n",
       "      <td>0.000225</td>\n",
       "      <td>0.000220</td>\n",
       "      <td>0.000220</td>\n",
       "      <td>0.000221</td>\n",
       "      <td>0.000221</td>\n",
       "    </tr>\n",
       "    <tr>\n",
       "      <th>93</th>\n",
       "      <td>acc_0_0_fair_1_0</td>\n",
       "      <td>Tm9uZSZESVImbHJfY2xm</td>\n",
       "      <td>10a4b262-5142-4d67-aceb-7c4e30102b28</td>\n",
       "      <td>4</td>\n",
       "      <td>0.990497</td>\n",
       "      <td>F1</td>\n",
       "      <td>lr_clf</td>\n",
       "      <td>0.239410</td>\n",
       "      <td>folk_emp</td>\n",
       "      <td>None&amp;DIR&amp;lr_clf</td>\n",
       "      <td>None</td>\n",
       "      <td>DIR</td>\n",
       "      <td>0.787800</td>\n",
       "      <td>0.774878</td>\n",
       "      <td>0.758003</td>\n",
       "      <td>0.785181</td>\n",
       "      <td>0.755421</td>\n",
       "      <td>0.803980</td>\n",
       "      <td>0.779865</td>\n",
       "    </tr>\n",
       "    <tr>\n",
       "      <th>94</th>\n",
       "      <td>acc_0_0_fair_1_0</td>\n",
       "      <td>Tm9uZSZESVImbHJfY2xm</td>\n",
       "      <td>10a4b262-5142-4d67-aceb-7c4e30102b28</td>\n",
       "      <td>4</td>\n",
       "      <td>0.990497</td>\n",
       "      <td>FNR</td>\n",
       "      <td>lr_clf</td>\n",
       "      <td>0.239410</td>\n",
       "      <td>folk_emp</td>\n",
       "      <td>None&amp;DIR&amp;lr_clf</td>\n",
       "      <td>None</td>\n",
       "      <td>DIR</td>\n",
       "      <td>0.042587</td>\n",
       "      <td>0.088292</td>\n",
       "      <td>0.063291</td>\n",
       "      <td>0.072794</td>\n",
       "      <td>0.077586</td>\n",
       "      <td>0.064815</td>\n",
       "      <td>0.071002</td>\n",
       "    </tr>\n",
       "    <tr>\n",
       "      <th>...</th>\n",
       "      <td>...</td>\n",
       "      <td>...</td>\n",
       "      <td>...</td>\n",
       "      <td>...</td>\n",
       "      <td>...</td>\n",
       "      <td>...</td>\n",
       "      <td>...</td>\n",
       "      <td>...</td>\n",
       "      <td>...</td>\n",
       "      <td>...</td>\n",
       "      <td>...</td>\n",
       "      <td>...</td>\n",
       "      <td>...</td>\n",
       "      <td>...</td>\n",
       "      <td>...</td>\n",
       "      <td>...</td>\n",
       "      <td>...</td>\n",
       "      <td>...</td>\n",
       "      <td>...</td>\n",
       "    </tr>\n",
       "    <tr>\n",
       "      <th>535</th>\n",
       "      <td>acc_1_0_fair_0_0</td>\n",
       "      <td>Tm9uZSZOT19GQUlSTkVTU19JTlRFUlZFTlRJT04mcmZfY2xm</td>\n",
       "      <td>ff4518c9-1014-46ef-abae-8a25ed099035</td>\n",
       "      <td>5</td>\n",
       "      <td>0.803256</td>\n",
       "      <td>Selection-Rate</td>\n",
       "      <td>rf_clf</td>\n",
       "      <td>0.367898</td>\n",
       "      <td>folk_emp</td>\n",
       "      <td>None&amp;NO_FAIRNESS_INTERVENTION&amp;rf_clf</td>\n",
       "      <td>None</td>\n",
       "      <td>NO_FAIRNESS_INTERVENTION</td>\n",
       "      <td>0.728559</td>\n",
       "      <td>0.631889</td>\n",
       "      <td>0.704663</td>\n",
       "      <td>0.659645</td>\n",
       "      <td>0.666223</td>\n",
       "      <td>0.670455</td>\n",
       "      <td>0.668333</td>\n",
       "    </tr>\n",
       "    <tr>\n",
       "      <th>536</th>\n",
       "      <td>acc_1_0_fair_0_0</td>\n",
       "      <td>Tm9uZSZOT19GQUlSTkVTU19JTlRFUlZFTlRJT04mcmZfY2xm</td>\n",
       "      <td>ff4518c9-1014-46ef-abae-8a25ed099035</td>\n",
       "      <td>5</td>\n",
       "      <td>0.803256</td>\n",
       "      <td>Statistical_Bias</td>\n",
       "      <td>rf_clf</td>\n",
       "      <td>0.367898</td>\n",
       "      <td>folk_emp</td>\n",
       "      <td>None&amp;NO_FAIRNESS_INTERVENTION&amp;rf_clf</td>\n",
       "      <td>None</td>\n",
       "      <td>NO_FAIRNESS_INTERVENTION</td>\n",
       "      <td>0.373762</td>\n",
       "      <td>0.379022</td>\n",
       "      <td>0.392954</td>\n",
       "      <td>0.373233</td>\n",
       "      <td>0.397699</td>\n",
       "      <td>0.356269</td>\n",
       "      <td>0.377039</td>\n",
       "    </tr>\n",
       "    <tr>\n",
       "      <th>537</th>\n",
       "      <td>acc_1_0_fair_0_0</td>\n",
       "      <td>Tm9uZSZOT19GQUlSTkVTU19JTlRFUlZFTlRJT04mcmZfY2xm</td>\n",
       "      <td>ff4518c9-1014-46ef-abae-8a25ed099035</td>\n",
       "      <td>5</td>\n",
       "      <td>0.803256</td>\n",
       "      <td>Std</td>\n",
       "      <td>rf_clf</td>\n",
       "      <td>0.367898</td>\n",
       "      <td>folk_emp</td>\n",
       "      <td>None&amp;NO_FAIRNESS_INTERVENTION&amp;rf_clf</td>\n",
       "      <td>None</td>\n",
       "      <td>NO_FAIRNESS_INTERVENTION</td>\n",
       "      <td>0.028633</td>\n",
       "      <td>0.030330</td>\n",
       "      <td>0.028780</td>\n",
       "      <td>0.029908</td>\n",
       "      <td>0.029344</td>\n",
       "      <td>0.030038</td>\n",
       "      <td>0.029690</td>\n",
       "    </tr>\n",
       "    <tr>\n",
       "      <th>538</th>\n",
       "      <td>acc_1_0_fair_0_0</td>\n",
       "      <td>Tm9uZSZOT19GQUlSTkVTU19JTlRFUlZFTlRJT04mcmZfY2xm</td>\n",
       "      <td>ff4518c9-1014-46ef-abae-8a25ed099035</td>\n",
       "      <td>5</td>\n",
       "      <td>0.803256</td>\n",
       "      <td>TNR</td>\n",
       "      <td>rf_clf</td>\n",
       "      <td>0.367898</td>\n",
       "      <td>folk_emp</td>\n",
       "      <td>None&amp;NO_FAIRNESS_INTERVENTION&amp;rf_clf</td>\n",
       "      <td>None</td>\n",
       "      <td>NO_FAIRNESS_INTERVENTION</td>\n",
       "      <td>0.536232</td>\n",
       "      <td>0.640382</td>\n",
       "      <td>0.509225</td>\n",
       "      <td>0.626311</td>\n",
       "      <td>0.547554</td>\n",
       "      <td>0.671233</td>\n",
       "      <td>0.602273</td>\n",
       "    </tr>\n",
       "    <tr>\n",
       "      <th>539</th>\n",
       "      <td>acc_1_0_fair_0_0</td>\n",
       "      <td>Tm9uZSZOT19GQUlSTkVTU19JTlRFUlZFTlRJT04mcmZfY2xm</td>\n",
       "      <td>ff4518c9-1014-46ef-abae-8a25ed099035</td>\n",
       "      <td>5</td>\n",
       "      <td>0.803256</td>\n",
       "      <td>TPR</td>\n",
       "      <td>rf_clf</td>\n",
       "      <td>0.367898</td>\n",
       "      <td>folk_emp</td>\n",
       "      <td>None&amp;NO_FAIRNESS_INTERVENTION&amp;rf_clf</td>\n",
       "      <td>None</td>\n",
       "      <td>NO_FAIRNESS_INTERVENTION</td>\n",
       "      <td>0.925926</td>\n",
       "      <td>0.852713</td>\n",
       "      <td>0.892857</td>\n",
       "      <td>0.878280</td>\n",
       "      <td>0.871094</td>\n",
       "      <td>0.889254</td>\n",
       "      <td>0.880952</td>\n",
       "    </tr>\n",
       "  </tbody>\n",
       "</table>\n",
       "<p>450 rows × 19 columns</p>\n",
       "</div>"
      ]
     },
     "execution_count": 10,
     "metadata": {},
     "output_type": "execute_result"
    }
   ],
   "execution_count": 10
  },
  {
   "cell_type": "markdown",
   "id": "42cd73cdbb27edb5",
   "metadata": {},
   "source": [
    "## Create visualizations"
   ]
  },
  {
   "cell_type": "markdown",
   "id": "d437b2159c0b509b",
   "metadata": {},
   "source": [
    "### Overall metrics"
   ]
  },
  {
   "cell_type": "code",
   "id": "2d13a28d01ca267b",
   "metadata": {
    "ExecuteTime": {
     "end_time": "2024-12-15T23:15:07.247365Z",
     "start_time": "2024-12-15T23:15:07.170782Z"
    }
   },
   "source": [
    "create_box_plot_per_cost_model(to_plot=best_lp_metrics_per_exp_config_df, metric_name=\"F1\")"
   ],
   "outputs": [
    {
     "data": {
      "text/html": [
       "\n",
       "<div id=\"altair-viz-db3eb954b71d4ab88122c56f293ae945\"></div>\n",
       "<script type=\"text/javascript\">\n",
       "  var VEGA_DEBUG = (typeof VEGA_DEBUG == \"undefined\") ? {} : VEGA_DEBUG;\n",
       "  (function(spec, embedOpt){\n",
       "    let outputDiv = document.currentScript.previousElementSibling;\n",
       "    if (outputDiv.id !== \"altair-viz-db3eb954b71d4ab88122c56f293ae945\") {\n",
       "      outputDiv = document.getElementById(\"altair-viz-db3eb954b71d4ab88122c56f293ae945\");\n",
       "    }\n",
       "    const paths = {\n",
       "      \"vega\": \"https://cdn.jsdelivr.net/npm//vega@5?noext\",\n",
       "      \"vega-lib\": \"https://cdn.jsdelivr.net/npm//vega-lib?noext\",\n",
       "      \"vega-lite\": \"https://cdn.jsdelivr.net/npm//vega-lite@4.17.0?noext\",\n",
       "      \"vega-embed\": \"https://cdn.jsdelivr.net/npm//vega-embed@6?noext\",\n",
       "    };\n",
       "\n",
       "    function maybeLoadScript(lib, version) {\n",
       "      var key = `${lib.replace(\"-\", \"\")}_version`;\n",
       "      return (VEGA_DEBUG[key] == version) ?\n",
       "        Promise.resolve(paths[lib]) :\n",
       "        new Promise(function(resolve, reject) {\n",
       "          var s = document.createElement('script');\n",
       "          document.getElementsByTagName(\"head\")[0].appendChild(s);\n",
       "          s.async = true;\n",
       "          s.onload = () => {\n",
       "            VEGA_DEBUG[key] = version;\n",
       "            return resolve(paths[lib]);\n",
       "          };\n",
       "          s.onerror = () => reject(`Error loading script: ${paths[lib]}`);\n",
       "          s.src = paths[lib];\n",
       "        });\n",
       "    }\n",
       "\n",
       "    function showError(err) {\n",
       "      outputDiv.innerHTML = `<div class=\"error\" style=\"color:red;\">${err}</div>`;\n",
       "      throw err;\n",
       "    }\n",
       "\n",
       "    function displayChart(vegaEmbed) {\n",
       "      vegaEmbed(outputDiv, spec, embedOpt)\n",
       "        .catch(err => showError(`Javascript Error: ${err.message}<br>This usually means there's a typo in your chart specification. See the javascript console for the full traceback.`));\n",
       "    }\n",
       "\n",
       "    if(typeof define === \"function\" && define.amd) {\n",
       "      requirejs.config({paths});\n",
       "      require([\"vega-embed\"], displayChart, err => showError(`Error loading script: ${err.message}`));\n",
       "    } else {\n",
       "      maybeLoadScript(\"vega\", \"5\")\n",
       "        .then(() => maybeLoadScript(\"vega-lite\", \"4.17.0\"))\n",
       "        .then(() => maybeLoadScript(\"vega-embed\", \"6\"))\n",
       "        .catch(showError)\n",
       "        .then(() => displayChart(vegaEmbed));\n",
       "    }\n",
       "  })({\"config\": {\"view\": {\"continuousWidth\": 400, \"continuousHeight\": 300, \"stroke\": null}, \"axis\": {\"labelFontSize\": 22, \"labelFontWeight\": \"normal\", \"titleFontSize\": 28, \"titleFontWeight\": \"normal\"}, \"title\": {\"fontSize\": 28}}, \"data\": {\"name\": \"data-03f973be31a01b9b02d89b5b35abed5a\"}, \"mark\": {\"type\": \"boxplot\", \"median\": {\"stroke\": \"black\", \"strokeWidth\": 0.7}, \"ticks\": true}, \"encoding\": {\"x\": {\"axis\": {\"labelAngle\": -45, \"labelLimit\": 300}, \"field\": \"exp_config_name\", \"title\": null, \"type\": \"nominal\"}, \"y\": {\"field\": \"overall\", \"scale\": {\"zero\": false}, \"title\": \"F1\", \"type\": \"quantitative\"}}, \"height\": 400, \"width\": 400, \"$schema\": \"https://vega.github.io/schema/vega-lite/v4.17.0.json\", \"datasets\": {\"data-03f973be31a01b9b02d89b5b35abed5a\": [{\"exp_config_name\": \"acc_0_0_fair_1_0\", \"logical_pipeline_uuid\": \"Tm9uZSZESVImbHJfY2xm\", \"physical_pipeline_uuid\": \"10a4b262-5142-4d67-aceb-7c4e30102b28\", \"run_num\": 4, \"compound_pp_quality\": 0.9904970215934475, \"metric\": \"F1\", \"model_name\": \"lr_clf\", \"runtime_in_mins\": 0.23940963333333334, \"dataset_name\": \"folk_emp\", \"logical_pipeline_name\": \"None&DIR&lr_clf\", \"null_imputer_name\": \"None\", \"fairness_intervention_name\": \"DIR\", \"RAC1P_dis\": 0.7878001297858533, \"RAC1P_priv\": 0.7748776508972267, \"SEX&RAC1P_dis\": 0.7580025608194623, \"SEX&RAC1P_priv\": 0.7851805728518058, \"SEX_dis\": 0.7554210791729703, \"SEX_priv\": 0.8039800995024876, \"overall\": 0.7798647633358378}, {\"exp_config_name\": \"acc_0_0_fair_1_0\", \"logical_pipeline_uuid\": \"Tm9uZSZESVImbHJfY2xm\", \"physical_pipeline_uuid\": \"27e41a7c-d6bf-46f0-9110-40e96932e653\", \"run_num\": 5, \"compound_pp_quality\": 0.9882056718791412, \"metric\": \"F1\", \"model_name\": \"lr_clf\", \"runtime_in_mins\": 0.36641361666666666, \"dataset_name\": \"folk_emp\", \"logical_pipeline_name\": \"None&DIR&lr_clf\", \"null_imputer_name\": \"None\", \"fairness_intervention_name\": \"DIR\", \"RAC1P_dis\": 0.7823303457106274, \"RAC1P_priv\": 0.7652246955060898, \"SEX&RAC1P_dis\": 0.7411300919842313, \"SEX&RAC1P_priv\": 0.7793840351979887, \"SEX_dis\": 0.7307692307692307, \"SEX_priv\": 0.8092708836310961, \"overall\": 0.772001014455998}, {\"exp_config_name\": \"acc_0_0_fair_1_0\", \"logical_pipeline_uuid\": \"Tm9uZSZESVImbHJfY2xm\", \"physical_pipeline_uuid\": \"2a1062df-0658-4bed-bebc-f08a64c100bc\", \"run_num\": 2, \"compound_pp_quality\": 0.9999438129403121, \"metric\": \"F1\", \"model_name\": \"lr_clf\", \"runtime_in_mins\": 0.23939645, \"dataset_name\": \"folk_emp\", \"logical_pipeline_name\": \"None&DIR&lr_clf\", \"null_imputer_name\": \"None\", \"fairness_intervention_name\": \"DIR\", \"RAC1P_dis\": 0.7831552482715274, \"RAC1P_priv\": 0.7802469135802469, \"SEX&RAC1P_dis\": 0.7557160048134778, \"SEX&RAC1P_priv\": 0.7880877742946708, \"SEX_dis\": 0.7457457457457457, \"SEX_priv\": 0.8166089965397924, \"overall\": 0.7813976622730664}, {\"exp_config_name\": \"acc_0_0_fair_1_0\", \"logical_pipeline_uuid\": \"Tm9uZSZESVImbHJfY2xm\", \"physical_pipeline_uuid\": \"473666fc-7673-4c1a-988f-7d339730ef11\", \"run_num\": 1, \"compound_pp_quality\": 0.9803706312053799, \"metric\": \"F1\", \"model_name\": \"lr_clf\", \"runtime_in_mins\": 0.22176108333333333, \"dataset_name\": \"folk_emp\", \"logical_pipeline_name\": \"None&DIR&lr_clf\", \"null_imputer_name\": \"None\", \"fairness_intervention_name\": \"DIR\", \"RAC1P_dis\": 0.783678756476684, \"RAC1P_priv\": 0.7838709677419354, \"SEX&RAC1P_dis\": 0.7486631016042781, \"SEX&RAC1P_priv\": 0.7918192918192918, \"SEX_dis\": 0.7494692144373672, \"SEX_priv\": 0.814018691588785, \"overall\": 0.7837972166998012}, {\"exp_config_name\": \"acc_0_0_fair_1_0\", \"logical_pipeline_uuid\": \"Tm9uZSZESVImbHJfY2xm\", \"physical_pipeline_uuid\": \"a4e709f5-5df7-4a13-8d4f-d3f1e38dc8e2\", \"run_num\": 3, \"compound_pp_quality\": 0.9487010318960356, \"metric\": \"F1\", \"model_name\": \"lr_clf\", \"runtime_in_mins\": 0.27845603333333335, \"dataset_name\": \"folk_emp\", \"logical_pipeline_name\": \"None&DIR&lr_clf\", \"null_imputer_name\": \"None\", \"fairness_intervention_name\": \"DIR\", \"RAC1P_dis\": 0.7924773022049286, \"RAC1P_priv\": 0.779619894864537, \"SEX&RAC1P_dis\": 0.7516254876462939, \"SEX&RAC1P_priv\": 0.7923598274799754, \"SEX_dis\": 0.7510245901639344, \"SEX_priv\": 0.8162869607367911, \"overall\": 0.7845579078455791}, {\"exp_config_name\": \"acc_0_25_fair_0_75\", \"logical_pipeline_uuid\": \"Tm9uZSZESVImbGdibV9jbGY=\", \"physical_pipeline_uuid\": \"10ec22bd-bb2b-4b0b-9c70-e0c2868ed85f\", \"run_num\": 1, \"compound_pp_quality\": 0.922697223235796, \"metric\": \"F1\", \"model_name\": \"lgbm_clf\", \"runtime_in_mins\": 0.9932433666666667, \"dataset_name\": \"folk_emp\", \"logical_pipeline_name\": \"None&DIR&lgbm_clf\", \"null_imputer_name\": \"None\", \"fairness_intervention_name\": \"DIR\", \"RAC1P_dis\": 0.7842857142857143, \"RAC1P_priv\": 0.7870004391743523, \"SEX&RAC1P_dis\": 0.7558139534883721, \"SEX&RAC1P_priv\": 0.7929073268651723, \"SEX_dis\": 0.7530364372469636, \"SEX_priv\": 0.8151950718685832, \"overall\": 0.785966820777808}, {\"exp_config_name\": \"acc_0_25_fair_0_75\", \"logical_pipeline_uuid\": \"Tm9uZSZESVImbGdibV9jbGY=\", \"physical_pipeline_uuid\": \"2001efbe-d5e3-4ded-afd0-791713baef03\", \"run_num\": 2, \"compound_pp_quality\": 0.9262340470594461, \"metric\": \"F1\", \"model_name\": \"lgbm_clf\", \"runtime_in_mins\": 1.5906995, \"dataset_name\": \"folk_emp\", \"logical_pipeline_name\": \"None&DIR&lgbm_clf\", \"null_imputer_name\": \"None\", \"fairness_intervention_name\": \"DIR\", \"RAC1P_dis\": 0.8013986013986014, \"RAC1P_priv\": 0.7944954128440367, \"SEX&RAC1P_dis\": 0.7820343461030383, \"SEX&RAC1P_priv\": 0.8012618296529969, \"SEX_dis\": 0.7671840354767184, \"SEX_priv\": 0.8272425249169435, \"overall\": 0.7972299168975069}, {\"exp_config_name\": \"acc_0_25_fair_0_75\", \"logical_pipeline_uuid\": \"Tm9uZSZESVImbGdibV9jbGY=\", \"physical_pipeline_uuid\": \"cae35392-63ad-4289-a244-ed998a037dab\", \"run_num\": 3, \"compound_pp_quality\": 0.9325414100460687, \"metric\": \"F1\", \"model_name\": \"lgbm_clf\", \"runtime_in_mins\": 2.245947633333333, \"dataset_name\": \"folk_emp\", \"logical_pipeline_name\": \"None&DIR&lgbm_clf\", \"null_imputer_name\": \"None\", \"fairness_intervention_name\": \"DIR\", \"RAC1P_dis\": 0.7959914101646385, \"RAC1P_priv\": 0.7922705314009661, \"SEX&RAC1P_dis\": 0.7489239598278336, \"SEX&RAC1P_priv\": 0.8041652670473631, \"SEX_dis\": 0.7616376892877174, \"SEX_priv\": 0.8239026969857218, \"overall\": 0.793685356559608}, {\"exp_config_name\": \"acc_0_25_fair_0_75\", \"logical_pipeline_uuid\": \"Tm9uZSZESVImbGdibV9jbGY=\", \"physical_pipeline_uuid\": \"e65d4227-6d08-432d-8b7e-cf1aec38947f\", \"run_num\": 5, \"compound_pp_quality\": 0.9398866491664108, \"metric\": \"F1\", \"model_name\": \"lgbm_clf\", \"runtime_in_mins\": 0.31955815, \"dataset_name\": \"folk_emp\", \"logical_pipeline_name\": \"None&DIR&lgbm_clf\", \"null_imputer_name\": \"None\", \"fairness_intervention_name\": \"DIR\", \"RAC1P_dis\": 0.8152692569870484, \"RAC1P_priv\": 0.7936651583710407, \"SEX&RAC1P_dis\": 0.7664335664335664, \"SEX&RAC1P_priv\": 0.8109385550303849, \"SEX_dis\": 0.7620124364047485, \"SEX_priv\": 0.839622641509434, \"overall\": 0.8022844710361708}, {\"exp_config_name\": \"acc_0_25_fair_0_75\", \"logical_pipeline_uuid\": \"Tm9uZSZESVImbGdibV9jbGY=\", \"physical_pipeline_uuid\": \"eb9b5a19-82f6-416c-bf7f-9471911d01c1\", \"run_num\": 4, \"compound_pp_quality\": 0.9445720796496668, \"metric\": \"F1\", \"model_name\": \"lgbm_clf\", \"runtime_in_mins\": 0.3491899333333333, \"dataset_name\": \"folk_emp\", \"logical_pipeline_name\": \"None&DIR&lgbm_clf\", \"null_imputer_name\": \"None\", \"fairness_intervention_name\": \"DIR\", \"RAC1P_dis\": 0.8099861303744799, \"RAC1P_priv\": 0.8057491289198606, \"SEX&RAC1P_dis\": 0.771505376344086, \"SEX&RAC1P_priv\": 0.8162992651970608, \"SEX_dis\": 0.7791378392762107, \"SEX_priv\": 0.835933297471759, \"overall\": 0.8073836276083467}, {\"exp_config_name\": \"acc_0_5_fair_0_5\", \"logical_pipeline_uuid\": \"Tm9uZSZESVImcmZfY2xm\", \"physical_pipeline_uuid\": \"07b5ccd5-a31a-40df-866d-e878edac7ba8\", \"run_num\": 5, \"compound_pp_quality\": 0.8939217419251164, \"metric\": \"F1\", \"model_name\": \"rf_clf\", \"runtime_in_mins\": 0.5909429666666667, \"dataset_name\": \"folk_emp\", \"logical_pipeline_name\": \"None&DIR&rf_clf\", \"null_imputer_name\": \"None\", \"fairness_intervention_name\": \"DIR\", \"RAC1P_dis\": 0.8144119646498981, \"RAC1P_priv\": 0.7956600361663653, \"SEX&RAC1P_dis\": 0.7681564245810056, \"SEX&RAC1P_priv\": 0.8115942028985508, \"SEX_dis\": 0.755656108597285, \"SEX_priv\": 0.8469973890339425, \"overall\": 0.8031496062992126}, {\"exp_config_name\": \"acc_0_5_fair_0_5\", \"logical_pipeline_uuid\": \"Tm9uZSZESVImcmZfY2xm\", \"physical_pipeline_uuid\": \"25f8f8ee-416d-4ab7-b7f5-59f977922b92\", \"run_num\": 1, \"compound_pp_quality\": 0.8782634580099932, \"metric\": \"F1\", \"model_name\": \"rf_clf\", \"runtime_in_mins\": 0.7307960166666666, \"dataset_name\": \"folk_emp\", \"logical_pipeline_name\": \"None&DIR&rf_clf\", \"null_imputer_name\": \"None\", \"fairness_intervention_name\": \"DIR\", \"RAC1P_dis\": 0.8166431593794076, \"RAC1P_priv\": 0.8053866203301477, \"SEX&RAC1P_dis\": 0.7840909090909091, \"SEX&RAC1P_priv\": 0.8156498673740054, \"SEX_dis\": 0.7747035573122529, \"SEX_priv\": 0.8414571575166753, \"overall\": 0.8096774193548387}, {\"exp_config_name\": \"acc_0_5_fair_0_5\", \"logical_pipeline_uuid\": \"Tm9uZSZESVImcmZfY2xm\", \"physical_pipeline_uuid\": \"5734a395-9aba-48e5-93db-3110ef53510b\", \"run_num\": 2, \"compound_pp_quality\": 0.9038811806469531, \"metric\": \"F1\", \"model_name\": \"rf_clf\", \"runtime_in_mins\": 0.3749275833333333, \"dataset_name\": \"folk_emp\", \"logical_pipeline_name\": \"None&DIR&rf_clf\", \"null_imputer_name\": \"None\", \"fairness_intervention_name\": \"DIR\", \"RAC1P_dis\": 0.8131720430107527, \"RAC1P_priv\": 0.8077430708315002, \"SEX&RAC1P_dis\": 0.7741116751269036, \"SEX&RAC1P_priv\": 0.8193743693239153, \"SEX_dis\": 0.7689053410893707, \"SEX_priv\": 0.8513368983957219, \"overall\": 0.8098909864397766}, {\"exp_config_name\": \"acc_0_5_fair_0_5\", \"logical_pipeline_uuid\": \"Tm9uZSZESVImcmZfY2xm\", \"physical_pipeline_uuid\": \"9b20a654-b7bb-4036-90a1-6bfb70add4d3\", \"run_num\": 3, \"compound_pp_quality\": 0.8859352420708846, \"metric\": \"F1\", \"model_name\": \"rf_clf\", \"runtime_in_mins\": 0.36953139999999995, \"dataset_name\": \"folk_emp\", \"logical_pipeline_name\": \"None&DIR&rf_clf\", \"null_imputer_name\": \"None\", \"fairness_intervention_name\": \"DIR\", \"RAC1P_dis\": 0.8158443363446838, \"RAC1P_priv\": 0.8094017094017094, \"SEX&RAC1P_dis\": 0.7633378932968536, \"SEX&RAC1P_priv\": 0.823490813648294, \"SEX_dis\": 0.7712276906435911, \"SEX_priv\": 0.8507772020725388, \"overall\": 0.8118549880920879}, {\"exp_config_name\": \"acc_0_5_fair_0_5\", \"logical_pipeline_uuid\": \"Tm9uZSZESVImcmZfY2xm\", \"physical_pipeline_uuid\": \"e428c255-a1da-4312-a369-e71a6cad70ec\", \"run_num\": 4, \"compound_pp_quality\": 0.8978266157229582, \"metric\": \"F1\", \"model_name\": \"rf_clf\", \"runtime_in_mins\": 0.37518238333333337, \"dataset_name\": \"folk_emp\", \"logical_pipeline_name\": \"None&DIR&rf_clf\", \"null_imputer_name\": \"None\", \"fairness_intervention_name\": \"DIR\", \"RAC1P_dis\": 0.8093922651933702, \"RAC1P_priv\": 0.8055676381035233, \"SEX&RAC1P_dis\": 0.7731543624161074, \"SEX&RAC1P_priv\": 0.8154563624250499, \"SEX_dis\": 0.7796070100902814, \"SEX_priv\": 0.8347639484978541, \"overall\": 0.8070456365092074}, {\"exp_config_name\": \"acc_0_75_fair_0_25\", \"logical_pipeline_uuid\": \"Tm9uZSZESVImcmZfY2xm\", \"physical_pipeline_uuid\": \"29118464-4d6c-4ac9-9f57-378753656e1b\", \"run_num\": 5, \"compound_pp_quality\": 0.848109667549801, \"metric\": \"F1\", \"model_name\": \"rf_clf\", \"runtime_in_mins\": 0.37749893333333334, \"dataset_name\": \"folk_emp\", \"logical_pipeline_name\": \"None&DIR&rf_clf\", \"null_imputer_name\": \"None\", \"fairness_intervention_name\": \"DIR\", \"RAC1P_dis\": 0.8144119646498981, \"RAC1P_priv\": 0.7951153324287653, \"SEX&RAC1P_dis\": 0.7681564245810056, \"SEX&RAC1P_priv\": 0.811193526635199, \"SEX_dis\": 0.755656108597285, \"SEX_priv\": 0.8463949843260188, \"overall\": 0.8028245518739815}, {\"exp_config_name\": \"acc_0_75_fair_0_25\", \"logical_pipeline_uuid\": \"Tm9uZSZESVImcmZfY2xm\", \"physical_pipeline_uuid\": \"4127dfcc-8774-4868-8f9e-4e28d940d52d\", \"run_num\": 2, \"compound_pp_quality\": 0.8568860835433649, \"metric\": \"F1\", \"model_name\": \"rf_clf\", \"runtime_in_mins\": 0.3967929, \"dataset_name\": \"folk_emp\", \"logical_pipeline_name\": \"None&DIR&rf_clf\", \"null_imputer_name\": \"None\", \"fairness_intervention_name\": \"DIR\", \"RAC1P_dis\": 0.8131720430107527, \"RAC1P_priv\": 0.8077430708315002, \"SEX&RAC1P_dis\": 0.7741116751269036, \"SEX&RAC1P_priv\": 0.8193743693239153, \"SEX_dis\": 0.7689053410893707, \"SEX_priv\": 0.8513368983957219, \"overall\": 0.8098909864397766}, {\"exp_config_name\": \"acc_0_75_fair_0_25\", \"logical_pipeline_uuid\": \"Tm9uZSZESVImcmZfY2xm\", \"physical_pipeline_uuid\": \"5c31e717-da62-4ff5-8b6a-e4fe51294caa\", \"run_num\": 1, \"compound_pp_quality\": 0.8458600505300283, \"metric\": \"F1\", \"model_name\": \"rf_clf\", \"runtime_in_mins\": 0.49144118333333336, \"dataset_name\": \"folk_emp\", \"logical_pipeline_name\": \"None&DIR&rf_clf\", \"null_imputer_name\": \"None\", \"fairness_intervention_name\": \"DIR\", \"RAC1P_dis\": 0.8193456614509246, \"RAC1P_priv\": 0.805398345668263, \"SEX&RAC1P_dis\": 0.7884892086330936, \"SEX&RAC1P_priv\": 0.8158244680851063, \"SEX_dis\": 0.7788516202387721, \"SEX_priv\": 0.8395061728395061, \"overall\": 0.8106940318660546}, {\"exp_config_name\": \"acc_0_75_fair_0_25\", \"logical_pipeline_uuid\": \"Tm9uZSZESVImcmZfY2xm\", \"physical_pipeline_uuid\": \"6fea3046-5edc-48da-bf66-d3bd28a20a7d\", \"run_num\": 3, \"compound_pp_quality\": 0.8488951150814862, \"metric\": \"F1\", \"model_name\": \"rf_clf\", \"runtime_in_mins\": 0.3669617, \"dataset_name\": \"folk_emp\", \"logical_pipeline_name\": \"None&DIR&rf_clf\", \"null_imputer_name\": \"None\", \"fairness_intervention_name\": \"DIR\", \"RAC1P_dis\": 0.8158443363446838, \"RAC1P_priv\": 0.8094017094017094, \"SEX&RAC1P_dis\": 0.7633378932968536, \"SEX&RAC1P_priv\": 0.823490813648294, \"SEX_dis\": 0.7712276906435911, \"SEX_priv\": 0.8507772020725388, \"overall\": 0.8118549880920879}, {\"exp_config_name\": \"acc_0_75_fair_0_25\", \"logical_pipeline_uuid\": \"Tm9uZSZESVImcmZfY2xm\", \"physical_pipeline_uuid\": \"de58d6fc-c4e3-4a8b-9fac-2e2ae41785e1\", \"run_num\": 4, \"compound_pp_quality\": 0.8524361261160827, \"metric\": \"F1\", \"model_name\": \"rf_clf\", \"runtime_in_mins\": 0.37674836666666667, \"dataset_name\": \"folk_emp\", \"logical_pipeline_name\": \"None&DIR&rf_clf\", \"null_imputer_name\": \"None\", \"fairness_intervention_name\": \"DIR\", \"RAC1P_dis\": 0.8093922651933702, \"RAC1P_priv\": 0.8055676381035233, \"SEX&RAC1P_dis\": 0.7731543624161074, \"SEX&RAC1P_priv\": 0.8154563624250499, \"SEX_dis\": 0.7796070100902814, \"SEX_priv\": 0.8347639484978541, \"overall\": 0.8070456365092074}, {\"exp_config_name\": \"acc_1_0_fair_0_0\", \"logical_pipeline_uuid\": \"Tm9uZSZOT19GQUlSTkVTU19JTlRFUlZFTlRJT04mcmZfY2xm\", \"physical_pipeline_uuid\": \"04361871-f4b5-42e2-891b-74ffddc2342b\", \"run_num\": 3, \"compound_pp_quality\": 0.8122792719369737, \"metric\": \"F1\", \"model_name\": \"rf_clf\", \"runtime_in_mins\": 1.8072868666666666, \"dataset_name\": \"folk_emp\", \"logical_pipeline_name\": \"None&NO_FAIRNESS_INTERVENTION&rf_clf\", \"null_imputer_name\": \"None\", \"fairness_intervention_name\": \"NO_FAIRNESS_INTERVENTION\", \"RAC1P_dis\": 0.8213523131672598, \"RAC1P_priv\": 0.8066783831282952, \"SEX&RAC1P_dis\": 0.7677053824362606, \"SEX&RAC1P_priv\": 0.8228571428571428, \"SEX_dis\": 0.7734375, \"SEX_priv\": 0.8491265219692959, \"overall\": 0.8122792719369737}, {\"exp_config_name\": \"acc_1_0_fair_0_0\", \"logical_pipeline_uuid\": \"Tm9uZSZOT19GQUlSTkVTU19JTlRFUlZFTlRJT04mcmZfY2xm\", \"physical_pipeline_uuid\": \"262520f3-9c0d-434b-b1d9-726af3d7b117\", \"run_num\": 4, \"compound_pp_quality\": 0.8077544426494345, \"metric\": \"F1\", \"model_name\": \"rf_clf\", \"runtime_in_mins\": 0.37527183333333336, \"dataset_name\": \"folk_emp\", \"logical_pipeline_name\": \"None&NO_FAIRNESS_INTERVENTION&rf_clf\", \"null_imputer_name\": \"None\", \"fairness_intervention_name\": \"NO_FAIRNESS_INTERVENTION\", \"RAC1P_dis\": 0.8086290883785665, \"RAC1P_priv\": 0.8072024593763725, \"SEX&RAC1P_dis\": 0.7731543624161074, \"SEX&RAC1P_priv\": 0.8164365106096328, \"SEX_dis\": 0.7800963081861958, \"SEX_priv\": 0.8357723577235773, \"overall\": 0.8077544426494345}, {\"exp_config_name\": \"acc_1_0_fair_0_0\", \"logical_pipeline_uuid\": \"Tm9uZSZOT19GQUlSTkVTU19JTlRFUlZFTlRJT04mcmZfY2xm\", \"physical_pipeline_uuid\": \"4c12117f-8fa2-46f0-b083-453d06acf10d\", \"run_num\": 1, \"compound_pp_quality\": 0.8113667117726657, \"metric\": \"F1\", \"model_name\": \"rf_clf\", \"runtime_in_mins\": 0.6259399499999999, \"dataset_name\": \"folk_emp\", \"logical_pipeline_name\": \"None&NO_FAIRNESS_INTERVENTION&rf_clf\", \"null_imputer_name\": \"None\", \"fairness_intervention_name\": \"NO_FAIRNESS_INTERVENTION\", \"RAC1P_dis\": 0.8179871520342612, \"RAC1P_priv\": 0.8073234524847428, \"SEX&RAC1P_dis\": 0.784370477568741, \"SEX&RAC1P_priv\": 0.8175765645805593, \"SEX_dis\": 0.7766990291262136, \"SEX_priv\": 0.8425925925925926, \"overall\": 0.8113667117726657}, {\"exp_config_name\": \"acc_1_0_fair_0_0\", \"logical_pipeline_uuid\": \"Tm9uZSZOT19GQUlSTkVTU19JTlRFUlZFTlRJT04mcmZfY2xm\", \"physical_pipeline_uuid\": \"f8faa13a-a1b9-4e2c-af8e-83f3f94475fe\", \"run_num\": 2, \"compound_pp_quality\": 0.8101876675603217, \"metric\": \"F1\", \"model_name\": \"rf_clf\", \"runtime_in_mins\": 0.37080680000000005, \"dataset_name\": \"folk_emp\", \"logical_pipeline_name\": \"None&NO_FAIRNESS_INTERVENTION&rf_clf\", \"null_imputer_name\": \"None\", \"fairness_intervention_name\": \"NO_FAIRNESS_INTERVENTION\", \"RAC1P_dis\": 0.8148648648648649, \"RAC1P_priv\": 0.8071111111111111, \"SEX&RAC1P_dis\": 0.7741116751269036, \"SEX&RAC1P_priv\": 0.8198504418762746, \"SEX_dis\": 0.7680851063829788, \"SEX_priv\": 0.8529729729729729, \"overall\": 0.8101876675603217}, {\"exp_config_name\": \"acc_1_0_fair_0_0\", \"logical_pipeline_uuid\": \"Tm9uZSZOT19GQUlSTkVTU19JTlRFUlZFTlRJT04mcmZfY2xm\", \"physical_pipeline_uuid\": \"ff4518c9-1014-46ef-abae-8a25ed099035\", \"run_num\": 5, \"compound_pp_quality\": 0.8032564450474898, \"metric\": \"F1\", \"model_name\": \"rf_clf\", \"runtime_in_mins\": 0.36789839999999996, \"dataset_name\": \"folk_emp\", \"logical_pipeline_name\": \"None&NO_FAIRNESS_INTERVENTION&rf_clf\", \"null_imputer_name\": \"None\", \"fairness_intervention_name\": \"NO_FAIRNESS_INTERVENTION\", \"RAC1P_dis\": 0.8152173913043478, \"RAC1P_priv\": 0.7953004970628107, \"SEX&RAC1P_dis\": 0.7681564245810056, \"SEX&RAC1P_priv\": 0.8117211182216234, \"SEX_dis\": 0.7559322033898305, \"SEX_priv\": 0.8469973890339425, \"overall\": 0.8032564450474898}]}}, {\"mode\": \"vega-lite\"});\n",
       "</script>"
      ],
      "text/plain": [
       "alt.Chart(...)"
      ]
     },
     "execution_count": 9,
     "metadata": {},
     "output_type": "execute_result"
    }
   ],
   "execution_count": 9
  },
  {
   "cell_type": "code",
   "execution_count": 10,
   "id": "708c4502936b3b54",
   "metadata": {
    "ExecuteTime": {
     "end_time": "2024-12-04T18:16:01.077765Z",
     "start_time": "2024-12-04T18:16:01.017883Z"
    }
   },
   "outputs": [
    {
     "data": {
      "text/html": [
       "\n",
       "<div id=\"altair-viz-94b65da178684257a12b44488c5e68a3\"></div>\n",
       "<script type=\"text/javascript\">\n",
       "  var VEGA_DEBUG = (typeof VEGA_DEBUG == \"undefined\") ? {} : VEGA_DEBUG;\n",
       "  (function(spec, embedOpt){\n",
       "    let outputDiv = document.currentScript.previousElementSibling;\n",
       "    if (outputDiv.id !== \"altair-viz-94b65da178684257a12b44488c5e68a3\") {\n",
       "      outputDiv = document.getElementById(\"altair-viz-94b65da178684257a12b44488c5e68a3\");\n",
       "    }\n",
       "    const paths = {\n",
       "      \"vega\": \"https://cdn.jsdelivr.net/npm//vega@5?noext\",\n",
       "      \"vega-lib\": \"https://cdn.jsdelivr.net/npm//vega-lib?noext\",\n",
       "      \"vega-lite\": \"https://cdn.jsdelivr.net/npm//vega-lite@4.17.0?noext\",\n",
       "      \"vega-embed\": \"https://cdn.jsdelivr.net/npm//vega-embed@6?noext\",\n",
       "    };\n",
       "\n",
       "    function maybeLoadScript(lib, version) {\n",
       "      var key = `${lib.replace(\"-\", \"\")}_version`;\n",
       "      return (VEGA_DEBUG[key] == version) ?\n",
       "        Promise.resolve(paths[lib]) :\n",
       "        new Promise(function(resolve, reject) {\n",
       "          var s = document.createElement('script');\n",
       "          document.getElementsByTagName(\"head\")[0].appendChild(s);\n",
       "          s.async = true;\n",
       "          s.onload = () => {\n",
       "            VEGA_DEBUG[key] = version;\n",
       "            return resolve(paths[lib]);\n",
       "          };\n",
       "          s.onerror = () => reject(`Error loading script: ${paths[lib]}`);\n",
       "          s.src = paths[lib];\n",
       "        });\n",
       "    }\n",
       "\n",
       "    function showError(err) {\n",
       "      outputDiv.innerHTML = `<div class=\"error\" style=\"color:red;\">${err}</div>`;\n",
       "      throw err;\n",
       "    }\n",
       "\n",
       "    function displayChart(vegaEmbed) {\n",
       "      vegaEmbed(outputDiv, spec, embedOpt)\n",
       "        .catch(err => showError(`Javascript Error: ${err.message}<br>This usually means there's a typo in your chart specification. See the javascript console for the full traceback.`));\n",
       "    }\n",
       "\n",
       "    if(typeof define === \"function\" && define.amd) {\n",
       "      requirejs.config({paths});\n",
       "      require([\"vega-embed\"], displayChart, err => showError(`Error loading script: ${err.message}`));\n",
       "    } else {\n",
       "      maybeLoadScript(\"vega\", \"5\")\n",
       "        .then(() => maybeLoadScript(\"vega-lite\", \"4.17.0\"))\n",
       "        .then(() => maybeLoadScript(\"vega-embed\", \"6\"))\n",
       "        .catch(showError)\n",
       "        .then(() => displayChart(vegaEmbed));\n",
       "    }\n",
       "  })({\"config\": {\"view\": {\"continuousWidth\": 400, \"continuousHeight\": 300, \"stroke\": null}, \"axis\": {\"labelFontSize\": 22, \"labelFontWeight\": \"normal\", \"titleFontSize\": 28, \"titleFontWeight\": \"normal\"}, \"title\": {\"fontSize\": 28}}, \"data\": {\"name\": \"data-537f8df85956f39d2b3340d9322106c4\"}, \"mark\": {\"type\": \"boxplot\", \"median\": {\"stroke\": \"black\", \"strokeWidth\": 0.7}, \"ticks\": true}, \"encoding\": {\"x\": {\"axis\": {\"labelAngle\": -45, \"labelLimit\": 300}, \"field\": \"exp_config_name\", \"title\": null, \"type\": \"nominal\"}, \"y\": {\"field\": \"overall\", \"scale\": {\"zero\": false}, \"title\": \"Label_Stability\", \"type\": \"quantitative\"}}, \"height\": 400, \"width\": 400, \"$schema\": \"https://vega.github.io/schema/vega-lite/v4.17.0.json\", \"datasets\": {\"data-537f8df85956f39d2b3340d9322106c4\": [{\"exp_config_name\": \"acc_0_0_fair_1_0\", \"logical_pipeline_uuid\": \"Tm9uZSZESVImbHJfY2xm\", \"physical_pipeline_uuid\": \"10a4b262-5142-4d67-aceb-7c4e30102b28\", \"run_num\": 4, \"compound_pp_quality\": 0.9904970215934475, \"metric\": \"Label_Stability\", \"model_name\": \"lr_clf\", \"runtime_in_mins\": 0.23940963333333334, \"dataset_name\": \"folk_emp\", \"logical_pipeline_name\": \"None&DIR&lr_clf\", \"null_imputer_name\": \"None\", \"fairness_intervention_name\": \"DIR\", \"RAC1P_dis\": 0.982142214221422, \"RAC1P_priv\": 0.9674536791953414, \"SEX&RAC1P_dis\": 0.9788275862068966, \"SEX&RAC1P_priv\": 0.9714710743801653, \"SEX_dis\": 0.9679999999999999, \"SEX_priv\": 0.978159169550173, \"overall\": 0.9728933333333334}, {\"exp_config_name\": \"acc_0_0_fair_1_0\", \"logical_pipeline_uuid\": \"Tm9uZSZESVImbHJfY2xm\", \"physical_pipeline_uuid\": \"27e41a7c-d6bf-46f0-9110-40e96932e653\", \"run_num\": 5, \"compound_pp_quality\": 0.9882056718791412, \"metric\": \"Label_Stability\", \"model_name\": \"lr_clf\", \"runtime_in_mins\": 0.36641361666666666, \"dataset_name\": \"folk_emp\", \"logical_pipeline_name\": \"None&DIR&lr_clf\", \"null_imputer_name\": \"None\", \"fairness_intervention_name\": \"DIR\", \"RAC1P_dis\": 0.9822458001768347, \"RAC1P_priv\": 0.9695452113429641, \"SEX&RAC1P_dis\": 0.9834196891191711, \"SEX&RAC1P_priv\": 0.9721602643535728, \"SEX_dis\": 0.9760904255319148, \"SEX_priv\": 0.9725668449197861, \"overall\": 0.9743333333333334}, {\"exp_config_name\": \"acc_0_0_fair_1_0\", \"logical_pipeline_uuid\": \"Tm9uZSZESVImbHJfY2xm\", \"physical_pipeline_uuid\": \"2a1062df-0658-4bed-bebc-f08a64c100bc\", \"run_num\": 2, \"compound_pp_quality\": 0.9999438129403121, \"metric\": \"Label_Stability\", \"model_name\": \"lr_clf\", \"runtime_in_mins\": 0.23939645, \"dataset_name\": \"folk_emp\", \"logical_pipeline_name\": \"None&DIR&lr_clf\", \"null_imputer_name\": \"None\", \"fairness_intervention_name\": \"DIR\", \"RAC1P_dis\": 0.976148409893993, \"RAC1P_priv\": 0.9705995717344754, \"SEX&RAC1P_dis\": 0.9752317880794701, \"SEX&RAC1P_priv\": 0.9720534223706176, \"SEX_dis\": 0.9717388493859082, \"SEX_priv\": 0.9737095664143152, \"overall\": 0.9726933333333333}, {\"exp_config_name\": \"acc_0_0_fair_1_0\", \"logical_pipeline_uuid\": \"Tm9uZSZESVImbHJfY2xm\", \"physical_pipeline_uuid\": \"473666fc-7673-4c1a-988f-7d339730ef11\", \"run_num\": 1, \"compound_pp_quality\": 0.9803706312053799, \"metric\": \"Label_Stability\", \"model_name\": \"lr_clf\", \"runtime_in_mins\": 0.22176108333333333, \"dataset_name\": \"folk_emp\", \"logical_pipeline_name\": \"None&DIR&lr_clf\", \"null_imputer_name\": \"None\", \"fairness_intervention_name\": \"DIR\", \"RAC1P_dis\": 0.9740619307832422, \"RAC1P_priv\": 0.9577707676130388, \"SEX&RAC1P_dis\": 0.9749820788530466, \"SEX&RAC1P_priv\": 0.9611629811629812, \"SEX_dis\": 0.9636484687083888, \"SEX_priv\": 0.9638184245660882, \"overall\": 0.9637333333333332}, {\"exp_config_name\": \"acc_0_0_fair_1_0\", \"logical_pipeline_uuid\": \"Tm9uZSZESVImbHJfY2xm\", \"physical_pipeline_uuid\": \"a4e709f5-5df7-4a13-8d4f-d3f1e38dc8e2\", \"run_num\": 3, \"compound_pp_quality\": 0.9487010318960356, \"metric\": \"Label_Stability\", \"model_name\": \"lr_clf\", \"runtime_in_mins\": 0.27845603333333335, \"dataset_name\": \"folk_emp\", \"logical_pipeline_name\": \"None&DIR&lr_clf\", \"null_imputer_name\": \"None\", \"fairness_intervention_name\": \"DIR\", \"RAC1P_dis\": 0.9796389891696752, \"RAC1P_priv\": 0.9707822410147992, \"SEX&RAC1P_dis\": 0.9818881118881119, \"SEX&RAC1P_priv\": 0.9722075782537067, \"SEX_dis\": 0.9769352708058123, \"SEX_priv\": 0.9711170928667563, \"overall\": 0.9740533333333333}, {\"exp_config_name\": \"acc_0_25_fair_0_75\", \"logical_pipeline_uuid\": \"Tm9uZSZESVImbGdibV9jbGY=\", \"physical_pipeline_uuid\": \"10ec22bd-bb2b-4b0b-9c70-e0c2868ed85f\", \"run_num\": 1, \"compound_pp_quality\": 0.922697223235796, \"metric\": \"Label_Stability\", \"model_name\": \"lgbm_clf\", \"runtime_in_mins\": 0.9932433666666667, \"dataset_name\": \"folk_emp\", \"logical_pipeline_name\": \"None&DIR&lgbm_clf\", \"null_imputer_name\": \"None\", \"fairness_intervention_name\": \"DIR\", \"RAC1P_dis\": 0.9659380692167576, \"RAC1P_priv\": 0.9632807570977917, \"SEX&RAC1P_dis\": 0.9636559139784947, \"SEX&RAC1P_priv\": 0.9643898443898443, \"SEX_dis\": 0.9633022636484688, \"SEX_priv\": 0.9652069425901202, \"overall\": 0.9642533333333334}, {\"exp_config_name\": \"acc_0_25_fair_0_75\", \"logical_pipeline_uuid\": \"Tm9uZSZESVImbGdibV9jbGY=\", \"physical_pipeline_uuid\": \"2001efbe-d5e3-4ded-afd0-791713baef03\", \"run_num\": 2, \"compound_pp_quality\": 0.9262340470594461, \"metric\": \"Label_Stability\", \"model_name\": \"lgbm_clf\", \"runtime_in_mins\": 1.5906995, \"dataset_name\": \"folk_emp\", \"logical_pipeline_name\": \"None&DIR&lgbm_clf\", \"null_imputer_name\": \"None\", \"fairness_intervention_name\": \"DIR\", \"RAC1P_dis\": 0.9052650176678447, \"RAC1P_priv\": 0.9122055674518201, \"SEX&RAC1P_dis\": 0.9076821192052981, \"SEX&RAC1P_priv\": 0.9100667779632721, \"SEX_dis\": 0.911131221719457, \"SEX_priv\": 0.9079421885753615, \"overall\": 0.9095866666666668}, {\"exp_config_name\": \"acc_0_25_fair_0_75\", \"logical_pipeline_uuid\": \"Tm9uZSZESVImbGdibV9jbGY=\", \"physical_pipeline_uuid\": \"cae35392-63ad-4289-a244-ed998a037dab\", \"run_num\": 3, \"compound_pp_quality\": 0.9325414100460687, \"metric\": \"Label_Stability\", \"model_name\": \"lgbm_clf\", \"runtime_in_mins\": 2.245947633333333, \"dataset_name\": \"folk_emp\", \"logical_pipeline_name\": \"None&DIR&lgbm_clf\", \"null_imputer_name\": \"None\", \"fairness_intervention_name\": \"DIR\", \"RAC1P_dis\": 0.9311913357400722, \"RAC1P_priv\": 0.9306342494714587, \"SEX&RAC1P_dis\": 0.9332167832167831, \"SEX&RAC1P_priv\": 0.9302800658978584, \"SEX_dis\": 0.9336591809775429, \"SEX_priv\": 0.9279676985195155, \"overall\": 0.93084}, {\"exp_config_name\": \"acc_0_25_fair_0_75\", \"logical_pipeline_uuid\": \"Tm9uZSZESVImbGdibV9jbGY=\", \"physical_pipeline_uuid\": \"e65d4227-6d08-432d-8b7e-cf1aec38947f\", \"run_num\": 5, \"compound_pp_quality\": 0.9398866491664108, \"metric\": \"Label_Stability\", \"model_name\": \"lgbm_clf\", \"runtime_in_mins\": 0.31955815, \"dataset_name\": \"folk_emp\", \"logical_pipeline_name\": \"None&DIR&lgbm_clf\", \"null_imputer_name\": \"None\", \"fairness_intervention_name\": \"DIR\", \"RAC1P_dis\": 0.9669672855879753, \"RAC1P_priv\": 0.9641733547351524, \"SEX&RAC1P_dis\": 0.9633160621761658, \"SEX&RAC1P_priv\": 0.9656836018174308, \"SEX_dis\": 0.9631914893617021, \"SEX_priv\": 0.9672727272727273, \"overall\": 0.9652266666666666}, {\"exp_config_name\": \"acc_0_25_fair_0_75\", \"logical_pipeline_uuid\": \"Tm9uZSZESVImbGdibV9jbGY=\", \"physical_pipeline_uuid\": \"eb9b5a19-82f6-416c-bf7f-9471911d01c1\", \"run_num\": 4, \"compound_pp_quality\": 0.9445720796496668, \"metric\": \"Label_Stability\", \"model_name\": \"lgbm_clf\", \"runtime_in_mins\": 0.3491899333333333, \"dataset_name\": \"folk_emp\", \"logical_pipeline_name\": \"None&DIR&lgbm_clf\", \"null_imputer_name\": \"None\", \"fairness_intervention_name\": \"DIR\", \"RAC1P_dis\": 0.9668046804680467, \"RAC1P_priv\": 0.961270513499206, \"SEX&RAC1P_dis\": 0.968896551724138, \"SEX&RAC1P_priv\": 0.9619834710743802, \"SEX_dis\": 0.9656077170418006, \"SEX_priv\": 0.9608581314878893, \"overall\": 0.9633200000000001}, {\"exp_config_name\": \"acc_0_5_fair_0_5\", \"logical_pipeline_uuid\": \"Tm9uZSZESVImcmZfY2xm\", \"physical_pipeline_uuid\": \"07b5ccd5-a31a-40df-866d-e878edac7ba8\", \"run_num\": 5, \"compound_pp_quality\": 0.8939217419251164, \"metric\": \"Label_Stability\", \"model_name\": \"rf_clf\", \"runtime_in_mins\": 0.5909429666666667, \"dataset_name\": \"folk_emp\", \"logical_pipeline_name\": \"None&DIR&rf_clf\", \"null_imputer_name\": \"None\", \"fairness_intervention_name\": \"DIR\", \"RAC1P_dis\": 0.977683465959328, \"RAC1P_priv\": 0.9741680042803639, \"SEX&RAC1P_dis\": 0.9753367875647669, \"SEX&RAC1P_priv\": 0.9755307724080959, \"SEX_dis\": 0.9750265957446809, \"SEX_priv\": 0.9759625668449198, \"overall\": 0.9754933333333333}, {\"exp_config_name\": \"acc_0_5_fair_0_5\", \"logical_pipeline_uuid\": \"Tm9uZSZESVImcmZfY2xm\", \"physical_pipeline_uuid\": \"25f8f8ee-416d-4ab7-b7f5-59f977922b92\", \"run_num\": 1, \"compound_pp_quality\": 0.8782634580099932, \"metric\": \"Label_Stability\", \"model_name\": \"rf_clf\", \"runtime_in_mins\": 0.7307960166666666, \"dataset_name\": \"folk_emp\", \"logical_pipeline_name\": \"None&DIR&rf_clf\", \"null_imputer_name\": \"None\", \"fairness_intervention_name\": \"DIR\", \"RAC1P_dis\": 0.9404735883424409, \"RAC1P_priv\": 0.9468138801261831, \"SEX&RAC1P_dis\": 0.9297491039426522, \"SEX&RAC1P_priv\": 0.9478624078624078, \"SEX_dis\": 0.943462050599201, \"SEX_priv\": 0.9455273698264353, \"overall\": 0.9444933333333335}, {\"exp_config_name\": \"acc_0_5_fair_0_5\", \"logical_pipeline_uuid\": \"Tm9uZSZESVImcmZfY2xm\", \"physical_pipeline_uuid\": \"5734a395-9aba-48e5-93db-3110ef53510b\", \"run_num\": 2, \"compound_pp_quality\": 0.9038811806469531, \"metric\": \"Label_Stability\", \"model_name\": \"rf_clf\", \"runtime_in_mins\": 0.3749275833333333, \"dataset_name\": \"folk_emp\", \"logical_pipeline_name\": \"None&DIR&rf_clf\", \"null_imputer_name\": \"None\", \"fairness_intervention_name\": \"DIR\", \"RAC1P_dis\": 0.966077738515901, \"RAC1P_priv\": 0.9632762312633834, \"SEX&RAC1P_dis\": 0.9677483443708609, \"SEX&RAC1P_priv\": 0.9634724540901503, \"SEX_dis\": 0.9659469941822884, \"SEX_priv\": 0.9626152787336546, \"overall\": 0.9643333333333334}, {\"exp_config_name\": \"acc_0_5_fair_0_5\", \"logical_pipeline_uuid\": \"Tm9uZSZESVImcmZfY2xm\", \"physical_pipeline_uuid\": \"9b20a654-b7bb-4036-90a1-6bfb70add4d3\", \"run_num\": 3, \"compound_pp_quality\": 0.8859352420708846, \"metric\": \"Label_Stability\", \"model_name\": \"rf_clf\", \"runtime_in_mins\": 0.36953139999999995, \"dataset_name\": \"folk_emp\", \"logical_pipeline_name\": \"None&DIR&rf_clf\", \"null_imputer_name\": \"None\", \"fairness_intervention_name\": \"DIR\", \"RAC1P_dis\": 0.971841155234657, \"RAC1P_priv\": 0.974016913319239, \"SEX&RAC1P_dis\": 0.9711188811188811, \"SEX&RAC1P_priv\": 0.9737067545304777, \"SEX_dis\": 0.9751651254953766, \"SEX_priv\": 0.9712247644683715, \"overall\": 0.9732133333333333}, {\"exp_config_name\": \"acc_0_5_fair_0_5\", \"logical_pipeline_uuid\": \"Tm9uZSZESVImcmZfY2xm\", \"physical_pipeline_uuid\": \"e428c255-a1da-4312-a369-e71a6cad70ec\", \"run_num\": 4, \"compound_pp_quality\": 0.8978266157229582, \"metric\": \"Label_Stability\", \"model_name\": \"rf_clf\", \"runtime_in_mins\": 0.37518238333333337, \"dataset_name\": \"folk_emp\", \"logical_pipeline_name\": \"None&DIR&rf_clf\", \"null_imputer_name\": \"None\", \"fairness_intervention_name\": \"DIR\", \"RAC1P_dis\": 0.972889288928893, \"RAC1P_priv\": 0.9666066701958709, \"SEX&RAC1P_dis\": 0.9738620689655173, \"SEX&RAC1P_priv\": 0.9677520661157025, \"SEX_dis\": 0.9717556270096462, \"SEX_priv\": 0.9658961937716263, \"overall\": 0.9689333333333332}, {\"exp_config_name\": \"acc_0_75_fair_0_25\", \"logical_pipeline_uuid\": \"Tm9uZSZESVImcmZfY2xm\", \"physical_pipeline_uuid\": \"29118464-4d6c-4ac9-9f57-378753656e1b\", \"run_num\": 5, \"compound_pp_quality\": 0.848109667549801, \"metric\": \"Label_Stability\", \"model_name\": \"rf_clf\", \"runtime_in_mins\": 0.37749893333333334, \"dataset_name\": \"folk_emp\", \"logical_pipeline_name\": \"None&DIR&rf_clf\", \"null_imputer_name\": \"None\", \"fairness_intervention_name\": \"DIR\", \"RAC1P_dis\": 0.972130857648099, \"RAC1P_priv\": 0.9666345639379347, \"SEX&RAC1P_dis\": 0.9680138169257341, \"SEX&RAC1P_priv\": 0.9688723667905823, \"SEX_dis\": 0.967154255319149, \"SEX_priv\": 0.9702673796791443, \"overall\": 0.9687066666666666}, {\"exp_config_name\": \"acc_0_75_fair_0_25\", \"logical_pipeline_uuid\": \"Tm9uZSZESVImcmZfY2xm\", \"physical_pipeline_uuid\": \"4127dfcc-8774-4868-8f9e-4e28d940d52d\", \"run_num\": 2, \"compound_pp_quality\": 0.8568860835433649, \"metric\": \"Label_Stability\", \"model_name\": \"rf_clf\", \"runtime_in_mins\": 0.3967929, \"dataset_name\": \"folk_emp\", \"logical_pipeline_name\": \"None&DIR&rf_clf\", \"null_imputer_name\": \"None\", \"fairness_intervention_name\": \"DIR\", \"RAC1P_dis\": 0.966077738515901, \"RAC1P_priv\": 0.9632762312633834, \"SEX&RAC1P_dis\": 0.9677483443708609, \"SEX&RAC1P_priv\": 0.9634724540901503, \"SEX_dis\": 0.9659469941822884, \"SEX_priv\": 0.9626152787336546, \"overall\": 0.9643333333333334}, {\"exp_config_name\": \"acc_0_75_fair_0_25\", \"logical_pipeline_uuid\": \"Tm9uZSZESVImcmZfY2xm\", \"physical_pipeline_uuid\": \"5c31e717-da62-4ff5-8b6a-e4fe51294caa\", \"run_num\": 1, \"compound_pp_quality\": 0.8458600505300283, \"metric\": \"Label_Stability\", \"model_name\": \"rf_clf\", \"runtime_in_mins\": 0.49144118333333336, \"dataset_name\": \"folk_emp\", \"logical_pipeline_name\": \"None&DIR&rf_clf\", \"null_imputer_name\": \"None\", \"fairness_intervention_name\": \"DIR\", \"RAC1P_dis\": 0.8895446265938068, \"RAC1P_priv\": 0.900651945320715, \"SEX&RAC1P_dis\": 0.8779928315412185, \"SEX&RAC1P_priv\": 0.900835380835381, \"SEX_dis\": 0.8941145139813582, \"SEX_priv\": 0.8990654205607477, \"overall\": 0.8965866666666668}, {\"exp_config_name\": \"acc_0_75_fair_0_25\", \"logical_pipeline_uuid\": \"Tm9uZSZESVImcmZfY2xm\", \"physical_pipeline_uuid\": \"6fea3046-5edc-48da-bf66-d3bd28a20a7d\", \"run_num\": 3, \"compound_pp_quality\": 0.8488951150814862, \"metric\": \"Label_Stability\", \"model_name\": \"rf_clf\", \"runtime_in_mins\": 0.3669617, \"dataset_name\": \"folk_emp\", \"logical_pipeline_name\": \"None&DIR&rf_clf\", \"null_imputer_name\": \"None\", \"fairness_intervention_name\": \"DIR\", \"RAC1P_dis\": 0.971841155234657, \"RAC1P_priv\": 0.974016913319239, \"SEX&RAC1P_dis\": 0.9711188811188811, \"SEX&RAC1P_priv\": 0.9737067545304777, \"SEX_dis\": 0.9751651254953766, \"SEX_priv\": 0.9712247644683715, \"overall\": 0.9732133333333333}, {\"exp_config_name\": \"acc_0_75_fair_0_25\", \"logical_pipeline_uuid\": \"Tm9uZSZESVImcmZfY2xm\", \"physical_pipeline_uuid\": \"de58d6fc-c4e3-4a8b-9fac-2e2ae41785e1\", \"run_num\": 4, \"compound_pp_quality\": 0.8524361261160827, \"metric\": \"Label_Stability\", \"model_name\": \"rf_clf\", \"runtime_in_mins\": 0.37674836666666667, \"dataset_name\": \"folk_emp\", \"logical_pipeline_name\": \"None&DIR&rf_clf\", \"null_imputer_name\": \"None\", \"fairness_intervention_name\": \"DIR\", \"RAC1P_dis\": 0.972889288928893, \"RAC1P_priv\": 0.9666066701958709, \"SEX&RAC1P_dis\": 0.9738620689655173, \"SEX&RAC1P_priv\": 0.9677520661157025, \"SEX_dis\": 0.9717556270096462, \"SEX_priv\": 0.9658961937716263, \"overall\": 0.9689333333333332}, {\"exp_config_name\": \"acc_1_0_fair_0_0\", \"logical_pipeline_uuid\": \"Tm9uZSZOT19GQUlSTkVTU19JTlRFUlZFTlRJT04mcmZfY2xm\", \"physical_pipeline_uuid\": \"04361871-f4b5-42e2-891b-74ffddc2342b\", \"run_num\": 3, \"compound_pp_quality\": 0.8122792719369737, \"metric\": \"Label_Stability\", \"model_name\": \"rf_clf\", \"runtime_in_mins\": 1.8072868666666666, \"dataset_name\": \"folk_emp\", \"logical_pipeline_name\": \"None&NO_FAIRNESS_INTERVENTION&rf_clf\", \"null_imputer_name\": \"None\", \"fairness_intervention_name\": \"NO_FAIRNESS_INTERVENTION\", \"RAC1P_dis\": 0.9216606498194945, \"RAC1P_priv\": 0.941416490486258, \"SEX&RAC1P_dis\": 0.9062237762237763, \"SEX&RAC1P_priv\": 0.9406919275123559, \"SEX_dis\": 0.9279524438573317, \"SEX_priv\": 0.9404037685060566, \"overall\": 0.9341200000000001}, {\"exp_config_name\": \"acc_1_0_fair_0_0\", \"logical_pipeline_uuid\": \"Tm9uZSZOT19GQUlSTkVTU19JTlRFUlZFTlRJT04mcmZfY2xm\", \"physical_pipeline_uuid\": \"262520f3-9c0d-434b-b1d9-726af3d7b117\", \"run_num\": 4, \"compound_pp_quality\": 0.8077544426494345, \"metric\": \"Label_Stability\", \"model_name\": \"rf_clf\", \"runtime_in_mins\": 0.37527183333333336, \"dataset_name\": \"folk_emp\", \"logical_pipeline_name\": \"None&NO_FAIRNESS_INTERVENTION&rf_clf\", \"null_imputer_name\": \"None\", \"fairness_intervention_name\": \"NO_FAIRNESS_INTERVENTION\", \"RAC1P_dis\": 0.9744014401440143, \"RAC1P_priv\": 0.9670725251455796, \"SEX&RAC1P_dis\": 0.9731724137931036, \"SEX&RAC1P_priv\": 0.9689752066115703, \"SEX_dis\": 0.9708295819935691, \"SEX_priv\": 0.9686643598615917, \"overall\": 0.9697866666666667}, {\"exp_config_name\": \"acc_1_0_fair_0_0\", \"logical_pipeline_uuid\": \"Tm9uZSZOT19GQUlSTkVTU19JTlRFUlZFTlRJT04mcmZfY2xm\", \"physical_pipeline_uuid\": \"4c12117f-8fa2-46f0-b083-453d06acf10d\", \"run_num\": 1, \"compound_pp_quality\": 0.8113667117726657, \"metric\": \"Label_Stability\", \"model_name\": \"rf_clf\", \"runtime_in_mins\": 0.6259399499999999, \"dataset_name\": \"folk_emp\", \"logical_pipeline_name\": \"None&NO_FAIRNESS_INTERVENTION&rf_clf\", \"null_imputer_name\": \"None\", \"fairness_intervention_name\": \"NO_FAIRNESS_INTERVENTION\", \"RAC1P_dis\": 0.8682331511839708, \"RAC1P_priv\": 0.8805047318611987, \"SEX&RAC1P_dis\": 0.8529032258064516, \"SEX&RAC1P_priv\": 0.8812940212940212, \"SEX_dis\": 0.8720372836218376, \"SEX_priv\": 0.8799999999999999, \"overall\": 0.8760133333333333}, {\"exp_config_name\": \"acc_1_0_fair_0_0\", \"logical_pipeline_uuid\": \"Tm9uZSZOT19GQUlSTkVTU19JTlRFUlZFTlRJT04mcmZfY2xm\", \"physical_pipeline_uuid\": \"f8faa13a-a1b9-4e2c-af8e-83f3f94475fe\", \"run_num\": 2, \"compound_pp_quality\": 0.8101876675603217, \"metric\": \"Label_Stability\", \"model_name\": \"rf_clf\", \"runtime_in_mins\": 0.37080680000000005, \"dataset_name\": \"folk_emp\", \"logical_pipeline_name\": \"None&NO_FAIRNESS_INTERVENTION&rf_clf\", \"null_imputer_name\": \"None\", \"fairness_intervention_name\": \"NO_FAIRNESS_INTERVENTION\", \"RAC1P_dis\": 0.9677385159010601, \"RAC1P_priv\": 0.9614775160599571, \"SEX&RAC1P_dis\": 0.9658278145695365, \"SEX&RAC1P_priv\": 0.963338898163606, \"SEX_dis\": 0.9643956043956045, \"SEX_priv\": 0.9632484514796971, \"overall\": 0.9638399999999998}, {\"exp_config_name\": \"acc_1_0_fair_0_0\", \"logical_pipeline_uuid\": \"Tm9uZSZOT19GQUlSTkVTU19JTlRFUlZFTlRJT04mcmZfY2xm\", \"physical_pipeline_uuid\": \"ff4518c9-1014-46ef-abae-8a25ed099035\", \"run_num\": 5, \"compound_pp_quality\": 0.8032564450474898, \"metric\": \"Label_Stability\", \"model_name\": \"rf_clf\", \"runtime_in_mins\": 0.36789839999999996, \"dataset_name\": \"folk_emp\", \"logical_pipeline_name\": \"None&NO_FAIRNESS_INTERVENTION&rf_clf\", \"null_imputer_name\": \"None\", \"fairness_intervention_name\": \"NO_FAIRNESS_INTERVENTION\", \"RAC1P_dis\": 0.9713881520778074, \"RAC1P_priv\": 0.967597645799893, \"SEX&RAC1P_dis\": 0.9691882556131263, \"SEX&RAC1P_priv\": 0.9689880214787279, \"SEX_dis\": 0.9685904255319149, \"SEX_priv\": 0.9694652406417111, \"overall\": 0.9690266666666666}]}}, {\"mode\": \"vega-lite\"});\n",
       "</script>"
      ],
      "text/plain": [
       "alt.Chart(...)"
      ]
     },
     "execution_count": 10,
     "metadata": {},
     "output_type": "execute_result"
    }
   ],
   "source": [
    "create_box_plot_per_cost_model(to_plot=best_lp_metrics_per_exp_config_df, metric_name=\"Label_Stability\")"
   ]
  },
  {
   "cell_type": "code",
   "execution_count": 19,
   "id": "17e7b8e4b89921bf",
   "metadata": {
    "ExecuteTime": {
     "end_time": "2024-12-04T18:18:49.758442Z",
     "start_time": "2024-12-04T18:18:49.653816Z"
    }
   },
   "outputs": [
    {
     "data": {
      "text/html": [
       "\n",
       "<div id=\"altair-viz-cdd83b4cb4204cacbb321d661345df0b\"></div>\n",
       "<script type=\"text/javascript\">\n",
       "  var VEGA_DEBUG = (typeof VEGA_DEBUG == \"undefined\") ? {} : VEGA_DEBUG;\n",
       "  (function(spec, embedOpt){\n",
       "    let outputDiv = document.currentScript.previousElementSibling;\n",
       "    if (outputDiv.id !== \"altair-viz-cdd83b4cb4204cacbb321d661345df0b\") {\n",
       "      outputDiv = document.getElementById(\"altair-viz-cdd83b4cb4204cacbb321d661345df0b\");\n",
       "    }\n",
       "    const paths = {\n",
       "      \"vega\": \"https://cdn.jsdelivr.net/npm//vega@5?noext\",\n",
       "      \"vega-lib\": \"https://cdn.jsdelivr.net/npm//vega-lib?noext\",\n",
       "      \"vega-lite\": \"https://cdn.jsdelivr.net/npm//vega-lite@4.17.0?noext\",\n",
       "      \"vega-embed\": \"https://cdn.jsdelivr.net/npm//vega-embed@6?noext\",\n",
       "    };\n",
       "\n",
       "    function maybeLoadScript(lib, version) {\n",
       "      var key = `${lib.replace(\"-\", \"\")}_version`;\n",
       "      return (VEGA_DEBUG[key] == version) ?\n",
       "        Promise.resolve(paths[lib]) :\n",
       "        new Promise(function(resolve, reject) {\n",
       "          var s = document.createElement('script');\n",
       "          document.getElementsByTagName(\"head\")[0].appendChild(s);\n",
       "          s.async = true;\n",
       "          s.onload = () => {\n",
       "            VEGA_DEBUG[key] = version;\n",
       "            return resolve(paths[lib]);\n",
       "          };\n",
       "          s.onerror = () => reject(`Error loading script: ${paths[lib]}`);\n",
       "          s.src = paths[lib];\n",
       "        });\n",
       "    }\n",
       "\n",
       "    function showError(err) {\n",
       "      outputDiv.innerHTML = `<div class=\"error\" style=\"color:red;\">${err}</div>`;\n",
       "      throw err;\n",
       "    }\n",
       "\n",
       "    function displayChart(vegaEmbed) {\n",
       "      vegaEmbed(outputDiv, spec, embedOpt)\n",
       "        .catch(err => showError(`Javascript Error: ${err.message}<br>This usually means there's a typo in your chart specification. See the javascript console for the full traceback.`));\n",
       "    }\n",
       "\n",
       "    if(typeof define === \"function\" && define.amd) {\n",
       "      requirejs.config({paths});\n",
       "      require([\"vega-embed\"], displayChart, err => showError(`Error loading script: ${err.message}`));\n",
       "    } else {\n",
       "      maybeLoadScript(\"vega\", \"5\")\n",
       "        .then(() => maybeLoadScript(\"vega-lite\", \"4.17.0\"))\n",
       "        .then(() => maybeLoadScript(\"vega-embed\", \"6\"))\n",
       "        .catch(showError)\n",
       "        .then(() => displayChart(vegaEmbed));\n",
       "    }\n",
       "  })({\"config\": {\"view\": {\"continuousWidth\": 400, \"continuousHeight\": 300, \"stroke\": null}, \"axis\": {\"labelFontSize\": 22, \"labelFontWeight\": \"normal\", \"titleFontSize\": 28, \"titleFontWeight\": \"normal\"}, \"title\": {\"fontSize\": 28}}, \"data\": {\"name\": \"data-03f973be31a01b9b02d89b5b35abed5a\"}, \"mark\": {\"type\": \"boxplot\", \"median\": {\"stroke\": \"black\", \"strokeWidth\": 0.7}, \"ticks\": true}, \"encoding\": {\"x\": {\"axis\": {\"labelAngle\": -45, \"labelLimit\": 300}, \"field\": \"exp_config_name\", \"title\": null, \"type\": \"nominal\"}, \"y\": {\"field\": \"runtime_in_mins\", \"scale\": {\"zero\": false}, \"title\": \"Runtime in Mins\", \"type\": \"quantitative\"}}, \"height\": 400, \"width\": 400, \"$schema\": \"https://vega.github.io/schema/vega-lite/v4.17.0.json\", \"datasets\": {\"data-03f973be31a01b9b02d89b5b35abed5a\": [{\"exp_config_name\": \"acc_0_0_fair_1_0\", \"logical_pipeline_uuid\": \"Tm9uZSZESVImbHJfY2xm\", \"physical_pipeline_uuid\": \"10a4b262-5142-4d67-aceb-7c4e30102b28\", \"run_num\": 4, \"compound_pp_quality\": 0.9904970215934475, \"metric\": \"F1\", \"model_name\": \"lr_clf\", \"runtime_in_mins\": 0.23940963333333334, \"dataset_name\": \"folk_emp\", \"logical_pipeline_name\": \"None&DIR&lr_clf\", \"null_imputer_name\": \"None\", \"fairness_intervention_name\": \"DIR\", \"RAC1P_dis\": 0.7878001297858533, \"RAC1P_priv\": 0.7748776508972267, \"SEX&RAC1P_dis\": 0.7580025608194623, \"SEX&RAC1P_priv\": 0.7851805728518058, \"SEX_dis\": 0.7554210791729703, \"SEX_priv\": 0.8039800995024876, \"overall\": 0.7798647633358378}, {\"exp_config_name\": \"acc_0_0_fair_1_0\", \"logical_pipeline_uuid\": \"Tm9uZSZESVImbHJfY2xm\", \"physical_pipeline_uuid\": \"27e41a7c-d6bf-46f0-9110-40e96932e653\", \"run_num\": 5, \"compound_pp_quality\": 0.9882056718791412, \"metric\": \"F1\", \"model_name\": \"lr_clf\", \"runtime_in_mins\": 0.36641361666666666, \"dataset_name\": \"folk_emp\", \"logical_pipeline_name\": \"None&DIR&lr_clf\", \"null_imputer_name\": \"None\", \"fairness_intervention_name\": \"DIR\", \"RAC1P_dis\": 0.7823303457106274, \"RAC1P_priv\": 0.7652246955060898, \"SEX&RAC1P_dis\": 0.7411300919842313, \"SEX&RAC1P_priv\": 0.7793840351979887, \"SEX_dis\": 0.7307692307692307, \"SEX_priv\": 0.8092708836310961, \"overall\": 0.772001014455998}, {\"exp_config_name\": \"acc_0_0_fair_1_0\", \"logical_pipeline_uuid\": \"Tm9uZSZESVImbHJfY2xm\", \"physical_pipeline_uuid\": \"2a1062df-0658-4bed-bebc-f08a64c100bc\", \"run_num\": 2, \"compound_pp_quality\": 0.9999438129403121, \"metric\": \"F1\", \"model_name\": \"lr_clf\", \"runtime_in_mins\": 0.23939645, \"dataset_name\": \"folk_emp\", \"logical_pipeline_name\": \"None&DIR&lr_clf\", \"null_imputer_name\": \"None\", \"fairness_intervention_name\": \"DIR\", \"RAC1P_dis\": 0.7831552482715274, \"RAC1P_priv\": 0.7802469135802469, \"SEX&RAC1P_dis\": 0.7557160048134778, \"SEX&RAC1P_priv\": 0.7880877742946708, \"SEX_dis\": 0.7457457457457457, \"SEX_priv\": 0.8166089965397924, \"overall\": 0.7813976622730664}, {\"exp_config_name\": \"acc_0_0_fair_1_0\", \"logical_pipeline_uuid\": \"Tm9uZSZESVImbHJfY2xm\", \"physical_pipeline_uuid\": \"473666fc-7673-4c1a-988f-7d339730ef11\", \"run_num\": 1, \"compound_pp_quality\": 0.9803706312053799, \"metric\": \"F1\", \"model_name\": \"lr_clf\", \"runtime_in_mins\": 0.22176108333333333, \"dataset_name\": \"folk_emp\", \"logical_pipeline_name\": \"None&DIR&lr_clf\", \"null_imputer_name\": \"None\", \"fairness_intervention_name\": \"DIR\", \"RAC1P_dis\": 0.783678756476684, \"RAC1P_priv\": 0.7838709677419354, \"SEX&RAC1P_dis\": 0.7486631016042781, \"SEX&RAC1P_priv\": 0.7918192918192918, \"SEX_dis\": 0.7494692144373672, \"SEX_priv\": 0.814018691588785, \"overall\": 0.7837972166998012}, {\"exp_config_name\": \"acc_0_0_fair_1_0\", \"logical_pipeline_uuid\": \"Tm9uZSZESVImbHJfY2xm\", \"physical_pipeline_uuid\": \"a4e709f5-5df7-4a13-8d4f-d3f1e38dc8e2\", \"run_num\": 3, \"compound_pp_quality\": 0.9487010318960356, \"metric\": \"F1\", \"model_name\": \"lr_clf\", \"runtime_in_mins\": 0.27845603333333335, \"dataset_name\": \"folk_emp\", \"logical_pipeline_name\": \"None&DIR&lr_clf\", \"null_imputer_name\": \"None\", \"fairness_intervention_name\": \"DIR\", \"RAC1P_dis\": 0.7924773022049286, \"RAC1P_priv\": 0.779619894864537, \"SEX&RAC1P_dis\": 0.7516254876462939, \"SEX&RAC1P_priv\": 0.7923598274799754, \"SEX_dis\": 0.7510245901639344, \"SEX_priv\": 0.8162869607367911, \"overall\": 0.7845579078455791}, {\"exp_config_name\": \"acc_0_25_fair_0_75\", \"logical_pipeline_uuid\": \"Tm9uZSZESVImbGdibV9jbGY=\", \"physical_pipeline_uuid\": \"10ec22bd-bb2b-4b0b-9c70-e0c2868ed85f\", \"run_num\": 1, \"compound_pp_quality\": 0.922697223235796, \"metric\": \"F1\", \"model_name\": \"lgbm_clf\", \"runtime_in_mins\": 0.9932433666666667, \"dataset_name\": \"folk_emp\", \"logical_pipeline_name\": \"None&DIR&lgbm_clf\", \"null_imputer_name\": \"None\", \"fairness_intervention_name\": \"DIR\", \"RAC1P_dis\": 0.7842857142857143, \"RAC1P_priv\": 0.7870004391743523, \"SEX&RAC1P_dis\": 0.7558139534883721, \"SEX&RAC1P_priv\": 0.7929073268651723, \"SEX_dis\": 0.7530364372469636, \"SEX_priv\": 0.8151950718685832, \"overall\": 0.785966820777808}, {\"exp_config_name\": \"acc_0_25_fair_0_75\", \"logical_pipeline_uuid\": \"Tm9uZSZESVImbGdibV9jbGY=\", \"physical_pipeline_uuid\": \"2001efbe-d5e3-4ded-afd0-791713baef03\", \"run_num\": 2, \"compound_pp_quality\": 0.9262340470594461, \"metric\": \"F1\", \"model_name\": \"lgbm_clf\", \"runtime_in_mins\": 1.5906995, \"dataset_name\": \"folk_emp\", \"logical_pipeline_name\": \"None&DIR&lgbm_clf\", \"null_imputer_name\": \"None\", \"fairness_intervention_name\": \"DIR\", \"RAC1P_dis\": 0.8013986013986014, \"RAC1P_priv\": 0.7944954128440367, \"SEX&RAC1P_dis\": 0.7820343461030383, \"SEX&RAC1P_priv\": 0.8012618296529969, \"SEX_dis\": 0.7671840354767184, \"SEX_priv\": 0.8272425249169435, \"overall\": 0.7972299168975069}, {\"exp_config_name\": \"acc_0_25_fair_0_75\", \"logical_pipeline_uuid\": \"Tm9uZSZESVImbGdibV9jbGY=\", \"physical_pipeline_uuid\": \"cae35392-63ad-4289-a244-ed998a037dab\", \"run_num\": 3, \"compound_pp_quality\": 0.9325414100460687, \"metric\": \"F1\", \"model_name\": \"lgbm_clf\", \"runtime_in_mins\": 2.245947633333333, \"dataset_name\": \"folk_emp\", \"logical_pipeline_name\": \"None&DIR&lgbm_clf\", \"null_imputer_name\": \"None\", \"fairness_intervention_name\": \"DIR\", \"RAC1P_dis\": 0.7959914101646385, \"RAC1P_priv\": 0.7922705314009661, \"SEX&RAC1P_dis\": 0.7489239598278336, \"SEX&RAC1P_priv\": 0.8041652670473631, \"SEX_dis\": 0.7616376892877174, \"SEX_priv\": 0.8239026969857218, \"overall\": 0.793685356559608}, {\"exp_config_name\": \"acc_0_25_fair_0_75\", \"logical_pipeline_uuid\": \"Tm9uZSZESVImbGdibV9jbGY=\", \"physical_pipeline_uuid\": \"e65d4227-6d08-432d-8b7e-cf1aec38947f\", \"run_num\": 5, \"compound_pp_quality\": 0.9398866491664108, \"metric\": \"F1\", \"model_name\": \"lgbm_clf\", \"runtime_in_mins\": 0.31955815, \"dataset_name\": \"folk_emp\", \"logical_pipeline_name\": \"None&DIR&lgbm_clf\", \"null_imputer_name\": \"None\", \"fairness_intervention_name\": \"DIR\", \"RAC1P_dis\": 0.8152692569870484, \"RAC1P_priv\": 0.7936651583710407, \"SEX&RAC1P_dis\": 0.7664335664335664, \"SEX&RAC1P_priv\": 0.8109385550303849, \"SEX_dis\": 0.7620124364047485, \"SEX_priv\": 0.839622641509434, \"overall\": 0.8022844710361708}, {\"exp_config_name\": \"acc_0_25_fair_0_75\", \"logical_pipeline_uuid\": \"Tm9uZSZESVImbGdibV9jbGY=\", \"physical_pipeline_uuid\": \"eb9b5a19-82f6-416c-bf7f-9471911d01c1\", \"run_num\": 4, \"compound_pp_quality\": 0.9445720796496668, \"metric\": \"F1\", \"model_name\": \"lgbm_clf\", \"runtime_in_mins\": 0.3491899333333333, \"dataset_name\": \"folk_emp\", \"logical_pipeline_name\": \"None&DIR&lgbm_clf\", \"null_imputer_name\": \"None\", \"fairness_intervention_name\": \"DIR\", \"RAC1P_dis\": 0.8099861303744799, \"RAC1P_priv\": 0.8057491289198606, \"SEX&RAC1P_dis\": 0.771505376344086, \"SEX&RAC1P_priv\": 0.8162992651970608, \"SEX_dis\": 0.7791378392762107, \"SEX_priv\": 0.835933297471759, \"overall\": 0.8073836276083467}, {\"exp_config_name\": \"acc_0_5_fair_0_5\", \"logical_pipeline_uuid\": \"Tm9uZSZESVImcmZfY2xm\", \"physical_pipeline_uuid\": \"07b5ccd5-a31a-40df-866d-e878edac7ba8\", \"run_num\": 5, \"compound_pp_quality\": 0.8939217419251164, \"metric\": \"F1\", \"model_name\": \"rf_clf\", \"runtime_in_mins\": 0.5909429666666667, \"dataset_name\": \"folk_emp\", \"logical_pipeline_name\": \"None&DIR&rf_clf\", \"null_imputer_name\": \"None\", \"fairness_intervention_name\": \"DIR\", \"RAC1P_dis\": 0.8144119646498981, \"RAC1P_priv\": 0.7956600361663653, \"SEX&RAC1P_dis\": 0.7681564245810056, \"SEX&RAC1P_priv\": 0.8115942028985508, \"SEX_dis\": 0.755656108597285, \"SEX_priv\": 0.8469973890339425, \"overall\": 0.8031496062992126}, {\"exp_config_name\": \"acc_0_5_fair_0_5\", \"logical_pipeline_uuid\": \"Tm9uZSZESVImcmZfY2xm\", \"physical_pipeline_uuid\": \"25f8f8ee-416d-4ab7-b7f5-59f977922b92\", \"run_num\": 1, \"compound_pp_quality\": 0.8782634580099932, \"metric\": \"F1\", \"model_name\": \"rf_clf\", \"runtime_in_mins\": 0.7307960166666666, \"dataset_name\": \"folk_emp\", \"logical_pipeline_name\": \"None&DIR&rf_clf\", \"null_imputer_name\": \"None\", \"fairness_intervention_name\": \"DIR\", \"RAC1P_dis\": 0.8166431593794076, \"RAC1P_priv\": 0.8053866203301477, \"SEX&RAC1P_dis\": 0.7840909090909091, \"SEX&RAC1P_priv\": 0.8156498673740054, \"SEX_dis\": 0.7747035573122529, \"SEX_priv\": 0.8414571575166753, \"overall\": 0.8096774193548387}, {\"exp_config_name\": \"acc_0_5_fair_0_5\", \"logical_pipeline_uuid\": \"Tm9uZSZESVImcmZfY2xm\", \"physical_pipeline_uuid\": \"5734a395-9aba-48e5-93db-3110ef53510b\", \"run_num\": 2, \"compound_pp_quality\": 0.9038811806469531, \"metric\": \"F1\", \"model_name\": \"rf_clf\", \"runtime_in_mins\": 0.3749275833333333, \"dataset_name\": \"folk_emp\", \"logical_pipeline_name\": \"None&DIR&rf_clf\", \"null_imputer_name\": \"None\", \"fairness_intervention_name\": \"DIR\", \"RAC1P_dis\": 0.8131720430107527, \"RAC1P_priv\": 0.8077430708315002, \"SEX&RAC1P_dis\": 0.7741116751269036, \"SEX&RAC1P_priv\": 0.8193743693239153, \"SEX_dis\": 0.7689053410893707, \"SEX_priv\": 0.8513368983957219, \"overall\": 0.8098909864397766}, {\"exp_config_name\": \"acc_0_5_fair_0_5\", \"logical_pipeline_uuid\": \"Tm9uZSZESVImcmZfY2xm\", \"physical_pipeline_uuid\": \"9b20a654-b7bb-4036-90a1-6bfb70add4d3\", \"run_num\": 3, \"compound_pp_quality\": 0.8859352420708846, \"metric\": \"F1\", \"model_name\": \"rf_clf\", \"runtime_in_mins\": 0.36953139999999995, \"dataset_name\": \"folk_emp\", \"logical_pipeline_name\": \"None&DIR&rf_clf\", \"null_imputer_name\": \"None\", \"fairness_intervention_name\": \"DIR\", \"RAC1P_dis\": 0.8158443363446838, \"RAC1P_priv\": 0.8094017094017094, \"SEX&RAC1P_dis\": 0.7633378932968536, \"SEX&RAC1P_priv\": 0.823490813648294, \"SEX_dis\": 0.7712276906435911, \"SEX_priv\": 0.8507772020725388, \"overall\": 0.8118549880920879}, {\"exp_config_name\": \"acc_0_5_fair_0_5\", \"logical_pipeline_uuid\": \"Tm9uZSZESVImcmZfY2xm\", \"physical_pipeline_uuid\": \"e428c255-a1da-4312-a369-e71a6cad70ec\", \"run_num\": 4, \"compound_pp_quality\": 0.8978266157229582, \"metric\": \"F1\", \"model_name\": \"rf_clf\", \"runtime_in_mins\": 0.37518238333333337, \"dataset_name\": \"folk_emp\", \"logical_pipeline_name\": \"None&DIR&rf_clf\", \"null_imputer_name\": \"None\", \"fairness_intervention_name\": \"DIR\", \"RAC1P_dis\": 0.8093922651933702, \"RAC1P_priv\": 0.8055676381035233, \"SEX&RAC1P_dis\": 0.7731543624161074, \"SEX&RAC1P_priv\": 0.8154563624250499, \"SEX_dis\": 0.7796070100902814, \"SEX_priv\": 0.8347639484978541, \"overall\": 0.8070456365092074}, {\"exp_config_name\": \"acc_0_75_fair_0_25\", \"logical_pipeline_uuid\": \"Tm9uZSZESVImcmZfY2xm\", \"physical_pipeline_uuid\": \"29118464-4d6c-4ac9-9f57-378753656e1b\", \"run_num\": 5, \"compound_pp_quality\": 0.848109667549801, \"metric\": \"F1\", \"model_name\": \"rf_clf\", \"runtime_in_mins\": 0.37749893333333334, \"dataset_name\": \"folk_emp\", \"logical_pipeline_name\": \"None&DIR&rf_clf\", \"null_imputer_name\": \"None\", \"fairness_intervention_name\": \"DIR\", \"RAC1P_dis\": 0.8144119646498981, \"RAC1P_priv\": 0.7951153324287653, \"SEX&RAC1P_dis\": 0.7681564245810056, \"SEX&RAC1P_priv\": 0.811193526635199, \"SEX_dis\": 0.755656108597285, \"SEX_priv\": 0.8463949843260188, \"overall\": 0.8028245518739815}, {\"exp_config_name\": \"acc_0_75_fair_0_25\", \"logical_pipeline_uuid\": \"Tm9uZSZESVImcmZfY2xm\", \"physical_pipeline_uuid\": \"4127dfcc-8774-4868-8f9e-4e28d940d52d\", \"run_num\": 2, \"compound_pp_quality\": 0.8568860835433649, \"metric\": \"F1\", \"model_name\": \"rf_clf\", \"runtime_in_mins\": 0.3967929, \"dataset_name\": \"folk_emp\", \"logical_pipeline_name\": \"None&DIR&rf_clf\", \"null_imputer_name\": \"None\", \"fairness_intervention_name\": \"DIR\", \"RAC1P_dis\": 0.8131720430107527, \"RAC1P_priv\": 0.8077430708315002, \"SEX&RAC1P_dis\": 0.7741116751269036, \"SEX&RAC1P_priv\": 0.8193743693239153, \"SEX_dis\": 0.7689053410893707, \"SEX_priv\": 0.8513368983957219, \"overall\": 0.8098909864397766}, {\"exp_config_name\": \"acc_0_75_fair_0_25\", \"logical_pipeline_uuid\": \"Tm9uZSZESVImcmZfY2xm\", \"physical_pipeline_uuid\": \"5c31e717-da62-4ff5-8b6a-e4fe51294caa\", \"run_num\": 1, \"compound_pp_quality\": 0.8458600505300283, \"metric\": \"F1\", \"model_name\": \"rf_clf\", \"runtime_in_mins\": 0.49144118333333336, \"dataset_name\": \"folk_emp\", \"logical_pipeline_name\": \"None&DIR&rf_clf\", \"null_imputer_name\": \"None\", \"fairness_intervention_name\": \"DIR\", \"RAC1P_dis\": 0.8193456614509246, \"RAC1P_priv\": 0.805398345668263, \"SEX&RAC1P_dis\": 0.7884892086330936, \"SEX&RAC1P_priv\": 0.8158244680851063, \"SEX_dis\": 0.7788516202387721, \"SEX_priv\": 0.8395061728395061, \"overall\": 0.8106940318660546}, {\"exp_config_name\": \"acc_0_75_fair_0_25\", \"logical_pipeline_uuid\": \"Tm9uZSZESVImcmZfY2xm\", \"physical_pipeline_uuid\": \"6fea3046-5edc-48da-bf66-d3bd28a20a7d\", \"run_num\": 3, \"compound_pp_quality\": 0.8488951150814862, \"metric\": \"F1\", \"model_name\": \"rf_clf\", \"runtime_in_mins\": 0.3669617, \"dataset_name\": \"folk_emp\", \"logical_pipeline_name\": \"None&DIR&rf_clf\", \"null_imputer_name\": \"None\", \"fairness_intervention_name\": \"DIR\", \"RAC1P_dis\": 0.8158443363446838, \"RAC1P_priv\": 0.8094017094017094, \"SEX&RAC1P_dis\": 0.7633378932968536, \"SEX&RAC1P_priv\": 0.823490813648294, \"SEX_dis\": 0.7712276906435911, \"SEX_priv\": 0.8507772020725388, \"overall\": 0.8118549880920879}, {\"exp_config_name\": \"acc_0_75_fair_0_25\", \"logical_pipeline_uuid\": \"Tm9uZSZESVImcmZfY2xm\", \"physical_pipeline_uuid\": \"de58d6fc-c4e3-4a8b-9fac-2e2ae41785e1\", \"run_num\": 4, \"compound_pp_quality\": 0.8524361261160827, \"metric\": \"F1\", \"model_name\": \"rf_clf\", \"runtime_in_mins\": 0.37674836666666667, \"dataset_name\": \"folk_emp\", \"logical_pipeline_name\": \"None&DIR&rf_clf\", \"null_imputer_name\": \"None\", \"fairness_intervention_name\": \"DIR\", \"RAC1P_dis\": 0.8093922651933702, \"RAC1P_priv\": 0.8055676381035233, \"SEX&RAC1P_dis\": 0.7731543624161074, \"SEX&RAC1P_priv\": 0.8154563624250499, \"SEX_dis\": 0.7796070100902814, \"SEX_priv\": 0.8347639484978541, \"overall\": 0.8070456365092074}, {\"exp_config_name\": \"acc_1_0_fair_0_0\", \"logical_pipeline_uuid\": \"Tm9uZSZOT19GQUlSTkVTU19JTlRFUlZFTlRJT04mcmZfY2xm\", \"physical_pipeline_uuid\": \"04361871-f4b5-42e2-891b-74ffddc2342b\", \"run_num\": 3, \"compound_pp_quality\": 0.8122792719369737, \"metric\": \"F1\", \"model_name\": \"rf_clf\", \"runtime_in_mins\": 1.8072868666666666, \"dataset_name\": \"folk_emp\", \"logical_pipeline_name\": \"None&NO_FAIRNESS_INTERVENTION&rf_clf\", \"null_imputer_name\": \"None\", \"fairness_intervention_name\": \"NO_FAIRNESS_INTERVENTION\", \"RAC1P_dis\": 0.8213523131672598, \"RAC1P_priv\": 0.8066783831282952, \"SEX&RAC1P_dis\": 0.7677053824362606, \"SEX&RAC1P_priv\": 0.8228571428571428, \"SEX_dis\": 0.7734375, \"SEX_priv\": 0.8491265219692959, \"overall\": 0.8122792719369737}, {\"exp_config_name\": \"acc_1_0_fair_0_0\", \"logical_pipeline_uuid\": \"Tm9uZSZOT19GQUlSTkVTU19JTlRFUlZFTlRJT04mcmZfY2xm\", \"physical_pipeline_uuid\": \"262520f3-9c0d-434b-b1d9-726af3d7b117\", \"run_num\": 4, \"compound_pp_quality\": 0.8077544426494345, \"metric\": \"F1\", \"model_name\": \"rf_clf\", \"runtime_in_mins\": 0.37527183333333336, \"dataset_name\": \"folk_emp\", \"logical_pipeline_name\": \"None&NO_FAIRNESS_INTERVENTION&rf_clf\", \"null_imputer_name\": \"None\", \"fairness_intervention_name\": \"NO_FAIRNESS_INTERVENTION\", \"RAC1P_dis\": 0.8086290883785665, \"RAC1P_priv\": 0.8072024593763725, \"SEX&RAC1P_dis\": 0.7731543624161074, \"SEX&RAC1P_priv\": 0.8164365106096328, \"SEX_dis\": 0.7800963081861958, \"SEX_priv\": 0.8357723577235773, \"overall\": 0.8077544426494345}, {\"exp_config_name\": \"acc_1_0_fair_0_0\", \"logical_pipeline_uuid\": \"Tm9uZSZOT19GQUlSTkVTU19JTlRFUlZFTlRJT04mcmZfY2xm\", \"physical_pipeline_uuid\": \"4c12117f-8fa2-46f0-b083-453d06acf10d\", \"run_num\": 1, \"compound_pp_quality\": 0.8113667117726657, \"metric\": \"F1\", \"model_name\": \"rf_clf\", \"runtime_in_mins\": 0.6259399499999999, \"dataset_name\": \"folk_emp\", \"logical_pipeline_name\": \"None&NO_FAIRNESS_INTERVENTION&rf_clf\", \"null_imputer_name\": \"None\", \"fairness_intervention_name\": \"NO_FAIRNESS_INTERVENTION\", \"RAC1P_dis\": 0.8179871520342612, \"RAC1P_priv\": 0.8073234524847428, \"SEX&RAC1P_dis\": 0.784370477568741, \"SEX&RAC1P_priv\": 0.8175765645805593, \"SEX_dis\": 0.7766990291262136, \"SEX_priv\": 0.8425925925925926, \"overall\": 0.8113667117726657}, {\"exp_config_name\": \"acc_1_0_fair_0_0\", \"logical_pipeline_uuid\": \"Tm9uZSZOT19GQUlSTkVTU19JTlRFUlZFTlRJT04mcmZfY2xm\", \"physical_pipeline_uuid\": \"f8faa13a-a1b9-4e2c-af8e-83f3f94475fe\", \"run_num\": 2, \"compound_pp_quality\": 0.8101876675603217, \"metric\": \"F1\", \"model_name\": \"rf_clf\", \"runtime_in_mins\": 0.37080680000000005, \"dataset_name\": \"folk_emp\", \"logical_pipeline_name\": \"None&NO_FAIRNESS_INTERVENTION&rf_clf\", \"null_imputer_name\": \"None\", \"fairness_intervention_name\": \"NO_FAIRNESS_INTERVENTION\", \"RAC1P_dis\": 0.8148648648648649, \"RAC1P_priv\": 0.8071111111111111, \"SEX&RAC1P_dis\": 0.7741116751269036, \"SEX&RAC1P_priv\": 0.8198504418762746, \"SEX_dis\": 0.7680851063829788, \"SEX_priv\": 0.8529729729729729, \"overall\": 0.8101876675603217}, {\"exp_config_name\": \"acc_1_0_fair_0_0\", \"logical_pipeline_uuid\": \"Tm9uZSZOT19GQUlSTkVTU19JTlRFUlZFTlRJT04mcmZfY2xm\", \"physical_pipeline_uuid\": \"ff4518c9-1014-46ef-abae-8a25ed099035\", \"run_num\": 5, \"compound_pp_quality\": 0.8032564450474898, \"metric\": \"F1\", \"model_name\": \"rf_clf\", \"runtime_in_mins\": 0.36789839999999996, \"dataset_name\": \"folk_emp\", \"logical_pipeline_name\": \"None&NO_FAIRNESS_INTERVENTION&rf_clf\", \"null_imputer_name\": \"None\", \"fairness_intervention_name\": \"NO_FAIRNESS_INTERVENTION\", \"RAC1P_dis\": 0.8152173913043478, \"RAC1P_priv\": 0.7953004970628107, \"SEX&RAC1P_dis\": 0.7681564245810056, \"SEX&RAC1P_priv\": 0.8117211182216234, \"SEX_dis\": 0.7559322033898305, \"SEX_priv\": 0.8469973890339425, \"overall\": 0.8032564450474898}]}}, {\"mode\": \"vega-lite\"});\n",
       "</script>"
      ],
      "text/plain": [
       "alt.Chart(...)"
      ]
     },
     "execution_count": 19,
     "metadata": {},
     "output_type": "execute_result"
    }
   ],
   "source": [
    "create_box_plot_per_cost_model(to_plot=best_lp_metrics_per_exp_config_df, metric_name=\"runtime_in_mins\")"
   ]
  },
  {
   "cell_type": "code",
   "execution_count": 20,
   "id": "a202339ed73b886",
   "metadata": {
    "ExecuteTime": {
     "end_time": "2024-12-04T18:18:50.619109Z",
     "start_time": "2024-12-04T18:18:50.570110Z"
    }
   },
   "outputs": [
    {
     "data": {
      "text/html": [
       "\n",
       "<div id=\"altair-viz-a1afbefc166c4299a8ec29f208d294f6\"></div>\n",
       "<script type=\"text/javascript\">\n",
       "  var VEGA_DEBUG = (typeof VEGA_DEBUG == \"undefined\") ? {} : VEGA_DEBUG;\n",
       "  (function(spec, embedOpt){\n",
       "    let outputDiv = document.currentScript.previousElementSibling;\n",
       "    if (outputDiv.id !== \"altair-viz-a1afbefc166c4299a8ec29f208d294f6\") {\n",
       "      outputDiv = document.getElementById(\"altair-viz-a1afbefc166c4299a8ec29f208d294f6\");\n",
       "    }\n",
       "    const paths = {\n",
       "      \"vega\": \"https://cdn.jsdelivr.net/npm//vega@5?noext\",\n",
       "      \"vega-lib\": \"https://cdn.jsdelivr.net/npm//vega-lib?noext\",\n",
       "      \"vega-lite\": \"https://cdn.jsdelivr.net/npm//vega-lite@4.17.0?noext\",\n",
       "      \"vega-embed\": \"https://cdn.jsdelivr.net/npm//vega-embed@6?noext\",\n",
       "    };\n",
       "\n",
       "    function maybeLoadScript(lib, version) {\n",
       "      var key = `${lib.replace(\"-\", \"\")}_version`;\n",
       "      return (VEGA_DEBUG[key] == version) ?\n",
       "        Promise.resolve(paths[lib]) :\n",
       "        new Promise(function(resolve, reject) {\n",
       "          var s = document.createElement('script');\n",
       "          document.getElementsByTagName(\"head\")[0].appendChild(s);\n",
       "          s.async = true;\n",
       "          s.onload = () => {\n",
       "            VEGA_DEBUG[key] = version;\n",
       "            return resolve(paths[lib]);\n",
       "          };\n",
       "          s.onerror = () => reject(`Error loading script: ${paths[lib]}`);\n",
       "          s.src = paths[lib];\n",
       "        });\n",
       "    }\n",
       "\n",
       "    function showError(err) {\n",
       "      outputDiv.innerHTML = `<div class=\"error\" style=\"color:red;\">${err}</div>`;\n",
       "      throw err;\n",
       "    }\n",
       "\n",
       "    function displayChart(vegaEmbed) {\n",
       "      vegaEmbed(outputDiv, spec, embedOpt)\n",
       "        .catch(err => showError(`Javascript Error: ${err.message}<br>This usually means there's a typo in your chart specification. See the javascript console for the full traceback.`));\n",
       "    }\n",
       "\n",
       "    if(typeof define === \"function\" && define.amd) {\n",
       "      requirejs.config({paths});\n",
       "      require([\"vega-embed\"], displayChart, err => showError(`Error loading script: ${err.message}`));\n",
       "    } else {\n",
       "      maybeLoadScript(\"vega\", \"5\")\n",
       "        .then(() => maybeLoadScript(\"vega-lite\", \"4.17.0\"))\n",
       "        .then(() => maybeLoadScript(\"vega-embed\", \"6\"))\n",
       "        .catch(showError)\n",
       "        .then(() => displayChart(vegaEmbed));\n",
       "    }\n",
       "  })({\"config\": {\"view\": {\"continuousWidth\": 400, \"continuousHeight\": 300, \"stroke\": null}, \"axis\": {\"labelFontSize\": 22, \"labelFontWeight\": \"normal\", \"titleFontSize\": 28, \"titleFontWeight\": \"normal\"}, \"title\": {\"fontSize\": 28}}, \"data\": {\"name\": \"data-03f973be31a01b9b02d89b5b35abed5a\"}, \"mark\": {\"type\": \"boxplot\", \"median\": {\"stroke\": \"black\", \"strokeWidth\": 0.7}, \"ticks\": true}, \"encoding\": {\"x\": {\"axis\": {\"labelAngle\": -45, \"labelLimit\": 300}, \"field\": \"exp_config_name\", \"title\": null, \"type\": \"nominal\"}, \"y\": {\"field\": \"compound_pp_quality\", \"scale\": {\"zero\": false}, \"title\": \"Compound PP Quality\", \"type\": \"quantitative\"}}, \"height\": 400, \"width\": 400, \"$schema\": \"https://vega.github.io/schema/vega-lite/v4.17.0.json\", \"datasets\": {\"data-03f973be31a01b9b02d89b5b35abed5a\": [{\"exp_config_name\": \"acc_0_0_fair_1_0\", \"logical_pipeline_uuid\": \"Tm9uZSZESVImbHJfY2xm\", \"physical_pipeline_uuid\": \"10a4b262-5142-4d67-aceb-7c4e30102b28\", \"run_num\": 4, \"compound_pp_quality\": 0.9904970215934475, \"metric\": \"F1\", \"model_name\": \"lr_clf\", \"runtime_in_mins\": 0.23940963333333334, \"dataset_name\": \"folk_emp\", \"logical_pipeline_name\": \"None&DIR&lr_clf\", \"null_imputer_name\": \"None\", \"fairness_intervention_name\": \"DIR\", \"RAC1P_dis\": 0.7878001297858533, \"RAC1P_priv\": 0.7748776508972267, \"SEX&RAC1P_dis\": 0.7580025608194623, \"SEX&RAC1P_priv\": 0.7851805728518058, \"SEX_dis\": 0.7554210791729703, \"SEX_priv\": 0.8039800995024876, \"overall\": 0.7798647633358378}, {\"exp_config_name\": \"acc_0_0_fair_1_0\", \"logical_pipeline_uuid\": \"Tm9uZSZESVImbHJfY2xm\", \"physical_pipeline_uuid\": \"27e41a7c-d6bf-46f0-9110-40e96932e653\", \"run_num\": 5, \"compound_pp_quality\": 0.9882056718791412, \"metric\": \"F1\", \"model_name\": \"lr_clf\", \"runtime_in_mins\": 0.36641361666666666, \"dataset_name\": \"folk_emp\", \"logical_pipeline_name\": \"None&DIR&lr_clf\", \"null_imputer_name\": \"None\", \"fairness_intervention_name\": \"DIR\", \"RAC1P_dis\": 0.7823303457106274, \"RAC1P_priv\": 0.7652246955060898, \"SEX&RAC1P_dis\": 0.7411300919842313, \"SEX&RAC1P_priv\": 0.7793840351979887, \"SEX_dis\": 0.7307692307692307, \"SEX_priv\": 0.8092708836310961, \"overall\": 0.772001014455998}, {\"exp_config_name\": \"acc_0_0_fair_1_0\", \"logical_pipeline_uuid\": \"Tm9uZSZESVImbHJfY2xm\", \"physical_pipeline_uuid\": \"2a1062df-0658-4bed-bebc-f08a64c100bc\", \"run_num\": 2, \"compound_pp_quality\": 0.9999438129403121, \"metric\": \"F1\", \"model_name\": \"lr_clf\", \"runtime_in_mins\": 0.23939645, \"dataset_name\": \"folk_emp\", \"logical_pipeline_name\": \"None&DIR&lr_clf\", \"null_imputer_name\": \"None\", \"fairness_intervention_name\": \"DIR\", \"RAC1P_dis\": 0.7831552482715274, \"RAC1P_priv\": 0.7802469135802469, \"SEX&RAC1P_dis\": 0.7557160048134778, \"SEX&RAC1P_priv\": 0.7880877742946708, \"SEX_dis\": 0.7457457457457457, \"SEX_priv\": 0.8166089965397924, \"overall\": 0.7813976622730664}, {\"exp_config_name\": \"acc_0_0_fair_1_0\", \"logical_pipeline_uuid\": \"Tm9uZSZESVImbHJfY2xm\", \"physical_pipeline_uuid\": \"473666fc-7673-4c1a-988f-7d339730ef11\", \"run_num\": 1, \"compound_pp_quality\": 0.9803706312053799, \"metric\": \"F1\", \"model_name\": \"lr_clf\", \"runtime_in_mins\": 0.22176108333333333, \"dataset_name\": \"folk_emp\", \"logical_pipeline_name\": \"None&DIR&lr_clf\", \"null_imputer_name\": \"None\", \"fairness_intervention_name\": \"DIR\", \"RAC1P_dis\": 0.783678756476684, \"RAC1P_priv\": 0.7838709677419354, \"SEX&RAC1P_dis\": 0.7486631016042781, \"SEX&RAC1P_priv\": 0.7918192918192918, \"SEX_dis\": 0.7494692144373672, \"SEX_priv\": 0.814018691588785, \"overall\": 0.7837972166998012}, {\"exp_config_name\": \"acc_0_0_fair_1_0\", \"logical_pipeline_uuid\": \"Tm9uZSZESVImbHJfY2xm\", \"physical_pipeline_uuid\": \"a4e709f5-5df7-4a13-8d4f-d3f1e38dc8e2\", \"run_num\": 3, \"compound_pp_quality\": 0.9487010318960356, \"metric\": \"F1\", \"model_name\": \"lr_clf\", \"runtime_in_mins\": 0.27845603333333335, \"dataset_name\": \"folk_emp\", \"logical_pipeline_name\": \"None&DIR&lr_clf\", \"null_imputer_name\": \"None\", \"fairness_intervention_name\": \"DIR\", \"RAC1P_dis\": 0.7924773022049286, \"RAC1P_priv\": 0.779619894864537, \"SEX&RAC1P_dis\": 0.7516254876462939, \"SEX&RAC1P_priv\": 0.7923598274799754, \"SEX_dis\": 0.7510245901639344, \"SEX_priv\": 0.8162869607367911, \"overall\": 0.7845579078455791}, {\"exp_config_name\": \"acc_0_25_fair_0_75\", \"logical_pipeline_uuid\": \"Tm9uZSZESVImbGdibV9jbGY=\", \"physical_pipeline_uuid\": \"10ec22bd-bb2b-4b0b-9c70-e0c2868ed85f\", \"run_num\": 1, \"compound_pp_quality\": 0.922697223235796, \"metric\": \"F1\", \"model_name\": \"lgbm_clf\", \"runtime_in_mins\": 0.9932433666666667, \"dataset_name\": \"folk_emp\", \"logical_pipeline_name\": \"None&DIR&lgbm_clf\", \"null_imputer_name\": \"None\", \"fairness_intervention_name\": \"DIR\", \"RAC1P_dis\": 0.7842857142857143, \"RAC1P_priv\": 0.7870004391743523, \"SEX&RAC1P_dis\": 0.7558139534883721, \"SEX&RAC1P_priv\": 0.7929073268651723, \"SEX_dis\": 0.7530364372469636, \"SEX_priv\": 0.8151950718685832, \"overall\": 0.785966820777808}, {\"exp_config_name\": \"acc_0_25_fair_0_75\", \"logical_pipeline_uuid\": \"Tm9uZSZESVImbGdibV9jbGY=\", \"physical_pipeline_uuid\": \"2001efbe-d5e3-4ded-afd0-791713baef03\", \"run_num\": 2, \"compound_pp_quality\": 0.9262340470594461, \"metric\": \"F1\", \"model_name\": \"lgbm_clf\", \"runtime_in_mins\": 1.5906995, \"dataset_name\": \"folk_emp\", \"logical_pipeline_name\": \"None&DIR&lgbm_clf\", \"null_imputer_name\": \"None\", \"fairness_intervention_name\": \"DIR\", \"RAC1P_dis\": 0.8013986013986014, \"RAC1P_priv\": 0.7944954128440367, \"SEX&RAC1P_dis\": 0.7820343461030383, \"SEX&RAC1P_priv\": 0.8012618296529969, \"SEX_dis\": 0.7671840354767184, \"SEX_priv\": 0.8272425249169435, \"overall\": 0.7972299168975069}, {\"exp_config_name\": \"acc_0_25_fair_0_75\", \"logical_pipeline_uuid\": \"Tm9uZSZESVImbGdibV9jbGY=\", \"physical_pipeline_uuid\": \"cae35392-63ad-4289-a244-ed998a037dab\", \"run_num\": 3, \"compound_pp_quality\": 0.9325414100460687, \"metric\": \"F1\", \"model_name\": \"lgbm_clf\", \"runtime_in_mins\": 2.245947633333333, \"dataset_name\": \"folk_emp\", \"logical_pipeline_name\": \"None&DIR&lgbm_clf\", \"null_imputer_name\": \"None\", \"fairness_intervention_name\": \"DIR\", \"RAC1P_dis\": 0.7959914101646385, \"RAC1P_priv\": 0.7922705314009661, \"SEX&RAC1P_dis\": 0.7489239598278336, \"SEX&RAC1P_priv\": 0.8041652670473631, \"SEX_dis\": 0.7616376892877174, \"SEX_priv\": 0.8239026969857218, \"overall\": 0.793685356559608}, {\"exp_config_name\": \"acc_0_25_fair_0_75\", \"logical_pipeline_uuid\": \"Tm9uZSZESVImbGdibV9jbGY=\", \"physical_pipeline_uuid\": \"e65d4227-6d08-432d-8b7e-cf1aec38947f\", \"run_num\": 5, \"compound_pp_quality\": 0.9398866491664108, \"metric\": \"F1\", \"model_name\": \"lgbm_clf\", \"runtime_in_mins\": 0.31955815, \"dataset_name\": \"folk_emp\", \"logical_pipeline_name\": \"None&DIR&lgbm_clf\", \"null_imputer_name\": \"None\", \"fairness_intervention_name\": \"DIR\", \"RAC1P_dis\": 0.8152692569870484, \"RAC1P_priv\": 0.7936651583710407, \"SEX&RAC1P_dis\": 0.7664335664335664, \"SEX&RAC1P_priv\": 0.8109385550303849, \"SEX_dis\": 0.7620124364047485, \"SEX_priv\": 0.839622641509434, \"overall\": 0.8022844710361708}, {\"exp_config_name\": \"acc_0_25_fair_0_75\", \"logical_pipeline_uuid\": \"Tm9uZSZESVImbGdibV9jbGY=\", \"physical_pipeline_uuid\": \"eb9b5a19-82f6-416c-bf7f-9471911d01c1\", \"run_num\": 4, \"compound_pp_quality\": 0.9445720796496668, \"metric\": \"F1\", \"model_name\": \"lgbm_clf\", \"runtime_in_mins\": 0.3491899333333333, \"dataset_name\": \"folk_emp\", \"logical_pipeline_name\": \"None&DIR&lgbm_clf\", \"null_imputer_name\": \"None\", \"fairness_intervention_name\": \"DIR\", \"RAC1P_dis\": 0.8099861303744799, \"RAC1P_priv\": 0.8057491289198606, \"SEX&RAC1P_dis\": 0.771505376344086, \"SEX&RAC1P_priv\": 0.8162992651970608, \"SEX_dis\": 0.7791378392762107, \"SEX_priv\": 0.835933297471759, \"overall\": 0.8073836276083467}, {\"exp_config_name\": \"acc_0_5_fair_0_5\", \"logical_pipeline_uuid\": \"Tm9uZSZESVImcmZfY2xm\", \"physical_pipeline_uuid\": \"07b5ccd5-a31a-40df-866d-e878edac7ba8\", \"run_num\": 5, \"compound_pp_quality\": 0.8939217419251164, \"metric\": \"F1\", \"model_name\": \"rf_clf\", \"runtime_in_mins\": 0.5909429666666667, \"dataset_name\": \"folk_emp\", \"logical_pipeline_name\": \"None&DIR&rf_clf\", \"null_imputer_name\": \"None\", \"fairness_intervention_name\": \"DIR\", \"RAC1P_dis\": 0.8144119646498981, \"RAC1P_priv\": 0.7956600361663653, \"SEX&RAC1P_dis\": 0.7681564245810056, \"SEX&RAC1P_priv\": 0.8115942028985508, \"SEX_dis\": 0.755656108597285, \"SEX_priv\": 0.8469973890339425, \"overall\": 0.8031496062992126}, {\"exp_config_name\": \"acc_0_5_fair_0_5\", \"logical_pipeline_uuid\": \"Tm9uZSZESVImcmZfY2xm\", \"physical_pipeline_uuid\": \"25f8f8ee-416d-4ab7-b7f5-59f977922b92\", \"run_num\": 1, \"compound_pp_quality\": 0.8782634580099932, \"metric\": \"F1\", \"model_name\": \"rf_clf\", \"runtime_in_mins\": 0.7307960166666666, \"dataset_name\": \"folk_emp\", \"logical_pipeline_name\": \"None&DIR&rf_clf\", \"null_imputer_name\": \"None\", \"fairness_intervention_name\": \"DIR\", \"RAC1P_dis\": 0.8166431593794076, \"RAC1P_priv\": 0.8053866203301477, \"SEX&RAC1P_dis\": 0.7840909090909091, \"SEX&RAC1P_priv\": 0.8156498673740054, \"SEX_dis\": 0.7747035573122529, \"SEX_priv\": 0.8414571575166753, \"overall\": 0.8096774193548387}, {\"exp_config_name\": \"acc_0_5_fair_0_5\", \"logical_pipeline_uuid\": \"Tm9uZSZESVImcmZfY2xm\", \"physical_pipeline_uuid\": \"5734a395-9aba-48e5-93db-3110ef53510b\", \"run_num\": 2, \"compound_pp_quality\": 0.9038811806469531, \"metric\": \"F1\", \"model_name\": \"rf_clf\", \"runtime_in_mins\": 0.3749275833333333, \"dataset_name\": \"folk_emp\", \"logical_pipeline_name\": \"None&DIR&rf_clf\", \"null_imputer_name\": \"None\", \"fairness_intervention_name\": \"DIR\", \"RAC1P_dis\": 0.8131720430107527, \"RAC1P_priv\": 0.8077430708315002, \"SEX&RAC1P_dis\": 0.7741116751269036, \"SEX&RAC1P_priv\": 0.8193743693239153, \"SEX_dis\": 0.7689053410893707, \"SEX_priv\": 0.8513368983957219, \"overall\": 0.8098909864397766}, {\"exp_config_name\": \"acc_0_5_fair_0_5\", \"logical_pipeline_uuid\": \"Tm9uZSZESVImcmZfY2xm\", \"physical_pipeline_uuid\": \"9b20a654-b7bb-4036-90a1-6bfb70add4d3\", \"run_num\": 3, \"compound_pp_quality\": 0.8859352420708846, \"metric\": \"F1\", \"model_name\": \"rf_clf\", \"runtime_in_mins\": 0.36953139999999995, \"dataset_name\": \"folk_emp\", \"logical_pipeline_name\": \"None&DIR&rf_clf\", \"null_imputer_name\": \"None\", \"fairness_intervention_name\": \"DIR\", \"RAC1P_dis\": 0.8158443363446838, \"RAC1P_priv\": 0.8094017094017094, \"SEX&RAC1P_dis\": 0.7633378932968536, \"SEX&RAC1P_priv\": 0.823490813648294, \"SEX_dis\": 0.7712276906435911, \"SEX_priv\": 0.8507772020725388, \"overall\": 0.8118549880920879}, {\"exp_config_name\": \"acc_0_5_fair_0_5\", \"logical_pipeline_uuid\": \"Tm9uZSZESVImcmZfY2xm\", \"physical_pipeline_uuid\": \"e428c255-a1da-4312-a369-e71a6cad70ec\", \"run_num\": 4, \"compound_pp_quality\": 0.8978266157229582, \"metric\": \"F1\", \"model_name\": \"rf_clf\", \"runtime_in_mins\": 0.37518238333333337, \"dataset_name\": \"folk_emp\", \"logical_pipeline_name\": \"None&DIR&rf_clf\", \"null_imputer_name\": \"None\", \"fairness_intervention_name\": \"DIR\", \"RAC1P_dis\": 0.8093922651933702, \"RAC1P_priv\": 0.8055676381035233, \"SEX&RAC1P_dis\": 0.7731543624161074, \"SEX&RAC1P_priv\": 0.8154563624250499, \"SEX_dis\": 0.7796070100902814, \"SEX_priv\": 0.8347639484978541, \"overall\": 0.8070456365092074}, {\"exp_config_name\": \"acc_0_75_fair_0_25\", \"logical_pipeline_uuid\": \"Tm9uZSZESVImcmZfY2xm\", \"physical_pipeline_uuid\": \"29118464-4d6c-4ac9-9f57-378753656e1b\", \"run_num\": 5, \"compound_pp_quality\": 0.848109667549801, \"metric\": \"F1\", \"model_name\": \"rf_clf\", \"runtime_in_mins\": 0.37749893333333334, \"dataset_name\": \"folk_emp\", \"logical_pipeline_name\": \"None&DIR&rf_clf\", \"null_imputer_name\": \"None\", \"fairness_intervention_name\": \"DIR\", \"RAC1P_dis\": 0.8144119646498981, \"RAC1P_priv\": 0.7951153324287653, \"SEX&RAC1P_dis\": 0.7681564245810056, \"SEX&RAC1P_priv\": 0.811193526635199, \"SEX_dis\": 0.755656108597285, \"SEX_priv\": 0.8463949843260188, \"overall\": 0.8028245518739815}, {\"exp_config_name\": \"acc_0_75_fair_0_25\", \"logical_pipeline_uuid\": \"Tm9uZSZESVImcmZfY2xm\", \"physical_pipeline_uuid\": \"4127dfcc-8774-4868-8f9e-4e28d940d52d\", \"run_num\": 2, \"compound_pp_quality\": 0.8568860835433649, \"metric\": \"F1\", \"model_name\": \"rf_clf\", \"runtime_in_mins\": 0.3967929, \"dataset_name\": \"folk_emp\", \"logical_pipeline_name\": \"None&DIR&rf_clf\", \"null_imputer_name\": \"None\", \"fairness_intervention_name\": \"DIR\", \"RAC1P_dis\": 0.8131720430107527, \"RAC1P_priv\": 0.8077430708315002, \"SEX&RAC1P_dis\": 0.7741116751269036, \"SEX&RAC1P_priv\": 0.8193743693239153, \"SEX_dis\": 0.7689053410893707, \"SEX_priv\": 0.8513368983957219, \"overall\": 0.8098909864397766}, {\"exp_config_name\": \"acc_0_75_fair_0_25\", \"logical_pipeline_uuid\": \"Tm9uZSZESVImcmZfY2xm\", \"physical_pipeline_uuid\": \"5c31e717-da62-4ff5-8b6a-e4fe51294caa\", \"run_num\": 1, \"compound_pp_quality\": 0.8458600505300283, \"metric\": \"F1\", \"model_name\": \"rf_clf\", \"runtime_in_mins\": 0.49144118333333336, \"dataset_name\": \"folk_emp\", \"logical_pipeline_name\": \"None&DIR&rf_clf\", \"null_imputer_name\": \"None\", \"fairness_intervention_name\": \"DIR\", \"RAC1P_dis\": 0.8193456614509246, \"RAC1P_priv\": 0.805398345668263, \"SEX&RAC1P_dis\": 0.7884892086330936, \"SEX&RAC1P_priv\": 0.8158244680851063, \"SEX_dis\": 0.7788516202387721, \"SEX_priv\": 0.8395061728395061, \"overall\": 0.8106940318660546}, {\"exp_config_name\": \"acc_0_75_fair_0_25\", \"logical_pipeline_uuid\": \"Tm9uZSZESVImcmZfY2xm\", \"physical_pipeline_uuid\": \"6fea3046-5edc-48da-bf66-d3bd28a20a7d\", \"run_num\": 3, \"compound_pp_quality\": 0.8488951150814862, \"metric\": \"F1\", \"model_name\": \"rf_clf\", \"runtime_in_mins\": 0.3669617, \"dataset_name\": \"folk_emp\", \"logical_pipeline_name\": \"None&DIR&rf_clf\", \"null_imputer_name\": \"None\", \"fairness_intervention_name\": \"DIR\", \"RAC1P_dis\": 0.8158443363446838, \"RAC1P_priv\": 0.8094017094017094, \"SEX&RAC1P_dis\": 0.7633378932968536, \"SEX&RAC1P_priv\": 0.823490813648294, \"SEX_dis\": 0.7712276906435911, \"SEX_priv\": 0.8507772020725388, \"overall\": 0.8118549880920879}, {\"exp_config_name\": \"acc_0_75_fair_0_25\", \"logical_pipeline_uuid\": \"Tm9uZSZESVImcmZfY2xm\", \"physical_pipeline_uuid\": \"de58d6fc-c4e3-4a8b-9fac-2e2ae41785e1\", \"run_num\": 4, \"compound_pp_quality\": 0.8524361261160827, \"metric\": \"F1\", \"model_name\": \"rf_clf\", \"runtime_in_mins\": 0.37674836666666667, \"dataset_name\": \"folk_emp\", \"logical_pipeline_name\": \"None&DIR&rf_clf\", \"null_imputer_name\": \"None\", \"fairness_intervention_name\": \"DIR\", \"RAC1P_dis\": 0.8093922651933702, \"RAC1P_priv\": 0.8055676381035233, \"SEX&RAC1P_dis\": 0.7731543624161074, \"SEX&RAC1P_priv\": 0.8154563624250499, \"SEX_dis\": 0.7796070100902814, \"SEX_priv\": 0.8347639484978541, \"overall\": 0.8070456365092074}, {\"exp_config_name\": \"acc_1_0_fair_0_0\", \"logical_pipeline_uuid\": \"Tm9uZSZOT19GQUlSTkVTU19JTlRFUlZFTlRJT04mcmZfY2xm\", \"physical_pipeline_uuid\": \"04361871-f4b5-42e2-891b-74ffddc2342b\", \"run_num\": 3, \"compound_pp_quality\": 0.8122792719369737, \"metric\": \"F1\", \"model_name\": \"rf_clf\", \"runtime_in_mins\": 1.8072868666666666, \"dataset_name\": \"folk_emp\", \"logical_pipeline_name\": \"None&NO_FAIRNESS_INTERVENTION&rf_clf\", \"null_imputer_name\": \"None\", \"fairness_intervention_name\": \"NO_FAIRNESS_INTERVENTION\", \"RAC1P_dis\": 0.8213523131672598, \"RAC1P_priv\": 0.8066783831282952, \"SEX&RAC1P_dis\": 0.7677053824362606, \"SEX&RAC1P_priv\": 0.8228571428571428, \"SEX_dis\": 0.7734375, \"SEX_priv\": 0.8491265219692959, \"overall\": 0.8122792719369737}, {\"exp_config_name\": \"acc_1_0_fair_0_0\", \"logical_pipeline_uuid\": \"Tm9uZSZOT19GQUlSTkVTU19JTlRFUlZFTlRJT04mcmZfY2xm\", \"physical_pipeline_uuid\": \"262520f3-9c0d-434b-b1d9-726af3d7b117\", \"run_num\": 4, \"compound_pp_quality\": 0.8077544426494345, \"metric\": \"F1\", \"model_name\": \"rf_clf\", \"runtime_in_mins\": 0.37527183333333336, \"dataset_name\": \"folk_emp\", \"logical_pipeline_name\": \"None&NO_FAIRNESS_INTERVENTION&rf_clf\", \"null_imputer_name\": \"None\", \"fairness_intervention_name\": \"NO_FAIRNESS_INTERVENTION\", \"RAC1P_dis\": 0.8086290883785665, \"RAC1P_priv\": 0.8072024593763725, \"SEX&RAC1P_dis\": 0.7731543624161074, \"SEX&RAC1P_priv\": 0.8164365106096328, \"SEX_dis\": 0.7800963081861958, \"SEX_priv\": 0.8357723577235773, \"overall\": 0.8077544426494345}, {\"exp_config_name\": \"acc_1_0_fair_0_0\", \"logical_pipeline_uuid\": \"Tm9uZSZOT19GQUlSTkVTU19JTlRFUlZFTlRJT04mcmZfY2xm\", \"physical_pipeline_uuid\": \"4c12117f-8fa2-46f0-b083-453d06acf10d\", \"run_num\": 1, \"compound_pp_quality\": 0.8113667117726657, \"metric\": \"F1\", \"model_name\": \"rf_clf\", \"runtime_in_mins\": 0.6259399499999999, \"dataset_name\": \"folk_emp\", \"logical_pipeline_name\": \"None&NO_FAIRNESS_INTERVENTION&rf_clf\", \"null_imputer_name\": \"None\", \"fairness_intervention_name\": \"NO_FAIRNESS_INTERVENTION\", \"RAC1P_dis\": 0.8179871520342612, \"RAC1P_priv\": 0.8073234524847428, \"SEX&RAC1P_dis\": 0.784370477568741, \"SEX&RAC1P_priv\": 0.8175765645805593, \"SEX_dis\": 0.7766990291262136, \"SEX_priv\": 0.8425925925925926, \"overall\": 0.8113667117726657}, {\"exp_config_name\": \"acc_1_0_fair_0_0\", \"logical_pipeline_uuid\": \"Tm9uZSZOT19GQUlSTkVTU19JTlRFUlZFTlRJT04mcmZfY2xm\", \"physical_pipeline_uuid\": \"f8faa13a-a1b9-4e2c-af8e-83f3f94475fe\", \"run_num\": 2, \"compound_pp_quality\": 0.8101876675603217, \"metric\": \"F1\", \"model_name\": \"rf_clf\", \"runtime_in_mins\": 0.37080680000000005, \"dataset_name\": \"folk_emp\", \"logical_pipeline_name\": \"None&NO_FAIRNESS_INTERVENTION&rf_clf\", \"null_imputer_name\": \"None\", \"fairness_intervention_name\": \"NO_FAIRNESS_INTERVENTION\", \"RAC1P_dis\": 0.8148648648648649, \"RAC1P_priv\": 0.8071111111111111, \"SEX&RAC1P_dis\": 0.7741116751269036, \"SEX&RAC1P_priv\": 0.8198504418762746, \"SEX_dis\": 0.7680851063829788, \"SEX_priv\": 0.8529729729729729, \"overall\": 0.8101876675603217}, {\"exp_config_name\": \"acc_1_0_fair_0_0\", \"logical_pipeline_uuid\": \"Tm9uZSZOT19GQUlSTkVTU19JTlRFUlZFTlRJT04mcmZfY2xm\", \"physical_pipeline_uuid\": \"ff4518c9-1014-46ef-abae-8a25ed099035\", \"run_num\": 5, \"compound_pp_quality\": 0.8032564450474898, \"metric\": \"F1\", \"model_name\": \"rf_clf\", \"runtime_in_mins\": 0.36789839999999996, \"dataset_name\": \"folk_emp\", \"logical_pipeline_name\": \"None&NO_FAIRNESS_INTERVENTION&rf_clf\", \"null_imputer_name\": \"None\", \"fairness_intervention_name\": \"NO_FAIRNESS_INTERVENTION\", \"RAC1P_dis\": 0.8152173913043478, \"RAC1P_priv\": 0.7953004970628107, \"SEX&RAC1P_dis\": 0.7681564245810056, \"SEX&RAC1P_priv\": 0.8117211182216234, \"SEX_dis\": 0.7559322033898305, \"SEX_priv\": 0.8469973890339425, \"overall\": 0.8032564450474898}]}}, {\"mode\": \"vega-lite\"});\n",
       "</script>"
      ],
      "text/plain": [
       "alt.Chart(...)"
      ]
     },
     "execution_count": 20,
     "metadata": {},
     "output_type": "execute_result"
    }
   ],
   "source": [
    "create_box_plot_per_cost_model(to_plot=best_lp_metrics_per_exp_config_df, metric_name=\"compound_pp_quality\")"
   ]
  },
  {
   "cell_type": "markdown",
   "id": "6e01c6461a306459",
   "metadata": {},
   "source": [
    "### Disparity metrics"
   ]
  },
  {
   "cell_type": "code",
   "execution_count": 13,
   "id": "e3d9bb4d6ab4cf37",
   "metadata": {
    "ExecuteTime": {
     "end_time": "2024-12-04T18:16:01.516747Z",
     "start_time": "2024-12-04T18:16:01.465840Z"
    }
   },
   "outputs": [
    {
     "data": {
      "text/html": [
       "\n",
       "<div id=\"altair-viz-223cda5ae0c64dea8dbe0aa728643bfa\"></div>\n",
       "<script type=\"text/javascript\">\n",
       "  var VEGA_DEBUG = (typeof VEGA_DEBUG == \"undefined\") ? {} : VEGA_DEBUG;\n",
       "  (function(spec, embedOpt){\n",
       "    let outputDiv = document.currentScript.previousElementSibling;\n",
       "    if (outputDiv.id !== \"altair-viz-223cda5ae0c64dea8dbe0aa728643bfa\") {\n",
       "      outputDiv = document.getElementById(\"altair-viz-223cda5ae0c64dea8dbe0aa728643bfa\");\n",
       "    }\n",
       "    const paths = {\n",
       "      \"vega\": \"https://cdn.jsdelivr.net/npm//vega@5?noext\",\n",
       "      \"vega-lib\": \"https://cdn.jsdelivr.net/npm//vega-lib?noext\",\n",
       "      \"vega-lite\": \"https://cdn.jsdelivr.net/npm//vega-lite@4.17.0?noext\",\n",
       "      \"vega-embed\": \"https://cdn.jsdelivr.net/npm//vega-embed@6?noext\",\n",
       "    };\n",
       "\n",
       "    function maybeLoadScript(lib, version) {\n",
       "      var key = `${lib.replace(\"-\", \"\")}_version`;\n",
       "      return (VEGA_DEBUG[key] == version) ?\n",
       "        Promise.resolve(paths[lib]) :\n",
       "        new Promise(function(resolve, reject) {\n",
       "          var s = document.createElement('script');\n",
       "          document.getElementsByTagName(\"head\")[0].appendChild(s);\n",
       "          s.async = true;\n",
       "          s.onload = () => {\n",
       "            VEGA_DEBUG[key] = version;\n",
       "            return resolve(paths[lib]);\n",
       "          };\n",
       "          s.onerror = () => reject(`Error loading script: ${paths[lib]}`);\n",
       "          s.src = paths[lib];\n",
       "        });\n",
       "    }\n",
       "\n",
       "    function showError(err) {\n",
       "      outputDiv.innerHTML = `<div class=\"error\" style=\"color:red;\">${err}</div>`;\n",
       "      throw err;\n",
       "    }\n",
       "\n",
       "    function displayChart(vegaEmbed) {\n",
       "      vegaEmbed(outputDiv, spec, embedOpt)\n",
       "        .catch(err => showError(`Javascript Error: ${err.message}<br>This usually means there's a typo in your chart specification. See the javascript console for the full traceback.`));\n",
       "    }\n",
       "\n",
       "    if(typeof define === \"function\" && define.amd) {\n",
       "      requirejs.config({paths});\n",
       "      require([\"vega-embed\"], displayChart, err => showError(`Error loading script: ${err.message}`));\n",
       "    } else {\n",
       "      maybeLoadScript(\"vega\", \"5\")\n",
       "        .then(() => maybeLoadScript(\"vega-lite\", \"4.17.0\"))\n",
       "        .then(() => maybeLoadScript(\"vega-embed\", \"6\"))\n",
       "        .catch(showError)\n",
       "        .then(() => displayChart(vegaEmbed));\n",
       "    }\n",
       "  })({\"config\": {\"view\": {\"continuousWidth\": 400, \"continuousHeight\": 300, \"stroke\": null}, \"axis\": {\"labelFontSize\": 22, \"labelFontWeight\": \"normal\", \"titleFontSize\": 28, \"titleFontWeight\": \"normal\"}, \"title\": {\"fontSize\": 28}}, \"data\": {\"name\": \"data-c5c6c1bde18ab3700bc9058f570c97ea\"}, \"mark\": {\"type\": \"boxplot\", \"median\": {\"stroke\": \"black\", \"strokeWidth\": 0.7}, \"ticks\": true}, \"encoding\": {\"x\": {\"axis\": {\"labelAngle\": -45, \"labelLimit\": 300}, \"field\": \"exp_config_name\", \"title\": null, \"type\": \"nominal\"}, \"y\": {\"field\": \"disparity_metric_value\", \"scale\": {\"zero\": false}, \"title\": \"Equalized_Odds_TPR\", \"type\": \"quantitative\"}}, \"height\": 400, \"width\": 400, \"$schema\": \"https://vega.github.io/schema/vega-lite/v4.17.0.json\", \"datasets\": {\"data-c5c6c1bde18ab3700bc9058f570c97ea\": [{\"exp_config_name\": \"acc_0_0_fair_1_0\", \"logical_pipeline_uuid\": \"Tm9uZSZESVImbHJfY2xm\", \"physical_pipeline_uuid\": \"10a4b262-5142-4d67-aceb-7c4e30102b28\", \"run_num\": 4, \"compound_pp_quality\": 0.9904970215934475, \"metric\": \"Equalized_Odds_TPR\", \"model_name\": \"lr_clf\", \"runtime_in_mins\": 0.23940963333333334, \"dataset_name\": \"folk_emp\", \"logical_pipeline_name\": \"None&DIR&lr_clf\", \"null_imputer_name\": \"None\", \"fairness_intervention_name\": \"DIR\", \"RAC1P_dis\": 0.9574132492113565, \"RAC1P_priv\": 0.9117082533589251, \"SEX&RAC1P_dis\": 0.9367088607594937, \"SEX&RAC1P_priv\": 0.9272058823529412, \"SEX_dis\": 0.9224137931034483, \"SEX_priv\": 0.9351851851851852, \"overall\": 0.9289976133651552, \"disparity_metric_value\": 0.009502978406552454}, {\"exp_config_name\": \"acc_0_0_fair_1_0\", \"logical_pipeline_uuid\": \"Tm9uZSZESVImbHJfY2xm\", \"physical_pipeline_uuid\": \"27e41a7c-d6bf-46f0-9110-40e96932e653\", \"run_num\": 5, \"compound_pp_quality\": 0.9882056718791412, \"metric\": \"Equalized_Odds_TPR\", \"model_name\": \"lr_clf\", \"runtime_in_mins\": 0.36641361666666666, \"dataset_name\": \"folk_emp\", \"logical_pipeline_name\": \"None&DIR&lr_clf\", \"null_imputer_name\": \"None\", \"fairness_intervention_name\": \"DIR\", \"RAC1P_dis\": 0.9429012345679012, \"RAC1P_priv\": 0.8827519379844961, \"SEX&RAC1P_dis\": 0.9155844155844156, \"SEX&RAC1P_priv\": 0.9037900874635568, \"SEX_dis\": 0.890625, \"SEX_priv\": 0.918859649122807, \"overall\": 0.905952380952381, \"disparity_metric_value\": 0.011794328120858788}, {\"exp_config_name\": \"acc_0_0_fair_1_0\", \"logical_pipeline_uuid\": \"Tm9uZSZESVImbHJfY2xm\", \"physical_pipeline_uuid\": \"2a1062df-0658-4bed-bebc-f08a64c100bc\", \"run_num\": 2, \"compound_pp_quality\": 0.9999438129403121, \"metric\": \"Equalized_Odds_TPR\", \"model_name\": \"lr_clf\", \"runtime_in_mins\": 0.23939645, \"dataset_name\": \"folk_emp\", \"logical_pipeline_name\": \"None&DIR&lr_clf\", \"null_imputer_name\": \"None\", \"fairness_intervention_name\": \"DIR\", \"RAC1P_dis\": 0.9453717754172989, \"RAC1P_priv\": 0.9097888675623801, \"SEX&RAC1P_dis\": 0.9235294117647059, \"SEX&RAC1P_priv\": 0.9235855988243938, \"SEX_dis\": 0.9074299634591961, \"SEX_priv\": 0.9386363636363636, \"overall\": 0.9235743680188124, \"disparity_metric_value\": -5.6187059687906604e-05}, {\"exp_config_name\": \"acc_0_0_fair_1_0\", \"logical_pipeline_uuid\": \"Tm9uZSZESVImbHJfY2xm\", \"physical_pipeline_uuid\": \"473666fc-7673-4c1a-988f-7d339730ef11\", \"run_num\": 1, \"compound_pp_quality\": 0.9803706312053799, \"metric\": \"Equalized_Odds_TPR\", \"model_name\": \"lr_clf\", \"runtime_in_mins\": 0.22176108333333333, \"dataset_name\": \"folk_emp\", \"logical_pipeline_name\": \"None&DIR&lr_clf\", \"null_imputer_name\": \"None\", \"fairness_intervention_name\": \"DIR\", \"RAC1P_dis\": 0.942367601246106, \"RAC1P_priv\": 0.8876712328767123, \"SEX&RAC1P_dis\": 0.9240924092409241, \"SEX&RAC1P_priv\": 0.904463040446304, \"SEX_dis\": 0.9028132992327366, \"SEX_priv\": 0.912041884816754, \"overall\": 0.9078871617731722, \"disparity_metric_value\": 0.019629368794620072}, {\"exp_config_name\": \"acc_0_0_fair_1_0\", \"logical_pipeline_uuid\": \"Tm9uZSZESVImbHJfY2xm\", \"physical_pipeline_uuid\": \"a4e709f5-5df7-4a13-8d4f-d3f1e38dc8e2\", \"run_num\": 3, \"compound_pp_quality\": 0.9487010318960356, \"metric\": \"Equalized_Odds_TPR\", \"model_name\": \"lr_clf\", \"runtime_in_mins\": 0.27845603333333335, \"dataset_name\": \"folk_emp\", \"logical_pipeline_name\": \"None&DIR&lr_clf\", \"null_imputer_name\": \"None\", \"fairness_intervention_name\": \"DIR\", \"RAC1P_dis\": 0.9667721518987342, \"RAC1P_priv\": 0.8892988929889298, \"SEX&RAC1P_dis\": 0.9601328903654485, \"SEX&RAC1P_priv\": 0.9088339222614841, \"SEX_dis\": 0.9243379571248423, \"SEX_priv\": 0.9122426868905742, \"overall\": 0.9178321678321678, \"disparity_metric_value\": 0.05129896810396439}, {\"exp_config_name\": \"acc_0_25_fair_0_75\", \"logical_pipeline_uuid\": \"Tm9uZSZESVImbGdibV9jbGY=\", \"physical_pipeline_uuid\": \"10ec22bd-bb2b-4b0b-9c70-e0c2868ed85f\", \"run_num\": 1, \"compound_pp_quality\": 0.922697223235796, \"metric\": \"Equalized_Odds_TPR\", \"model_name\": \"lgbm_clf\", \"runtime_in_mins\": 0.9932433666666667, \"dataset_name\": \"folk_emp\", \"logical_pipeline_name\": \"None&DIR&lgbm_clf\", \"null_imputer_name\": \"None\", \"fairness_intervention_name\": \"DIR\", \"RAC1P_dis\": 0.8551401869158879, \"RAC1P_priv\": 0.8182648401826484, \"SEX&RAC1P_dis\": 0.858085808580858, \"SEX&RAC1P_priv\": 0.8263598326359832, \"SEX_dis\": 0.8324808184143222, \"SEX_priv\": 0.831413612565445, \"overall\": 0.8318940702360391, \"disparity_metric_value\": 0.03172597594487481}, {\"exp_config_name\": \"acc_0_25_fair_0_75\", \"logical_pipeline_uuid\": \"Tm9uZSZESVImbGdibV9jbGY=\", \"physical_pipeline_uuid\": \"2001efbe-d5e3-4ded-afd0-791713baef03\", \"run_num\": 2, \"compound_pp_quality\": 0.9262340470594461, \"metric\": \"Equalized_Odds_TPR\", \"model_name\": \"lgbm_clf\", \"runtime_in_mins\": 1.5906995, \"dataset_name\": \"folk_emp\", \"logical_pipeline_name\": \"None&DIR&lgbm_clf\", \"null_imputer_name\": \"None\", \"fairness_intervention_name\": \"DIR\", \"RAC1P_dis\": 0.8694992412746586, \"RAC1P_priv\": 0.8310940499040307, \"SEX&RAC1P_dis\": 0.8705882352941177, \"SEX&RAC1P_priv\": 0.8398236590742102, \"SEX_dis\": 0.8428745432399513, \"SEX_priv\": 0.8488636363636364, \"overall\": 0.8459729570840682, \"disparity_metric_value\": 0.03076457621990747}, {\"exp_config_name\": \"acc_0_25_fair_0_75\", \"logical_pipeline_uuid\": \"Tm9uZSZESVImbGdibV9jbGY=\", \"physical_pipeline_uuid\": \"cae35392-63ad-4289-a244-ed998a037dab\", \"run_num\": 3, \"compound_pp_quality\": 0.9325414100460687, \"metric\": \"Equalized_Odds_TPR\", \"model_name\": \"lgbm_clf\", \"runtime_in_mins\": 2.245947633333333, \"dataset_name\": \"folk_emp\", \"logical_pipeline_name\": \"None&DIR&lgbm_clf\", \"null_imputer_name\": \"None\", \"fairness_intervention_name\": \"DIR\", \"RAC1P_dis\": 0.879746835443038, \"RAC1P_priv\": 0.8321033210332104, \"SEX&RAC1P_dis\": 0.867109634551495, \"SEX&RAC1P_priv\": 0.8459363957597174, \"SEX_dis\": 0.8562421185372006, \"SEX_priv\": 0.8439869989165764, \"overall\": 0.8496503496503497, \"disparity_metric_value\": 0.021173238791777682}, {\"exp_config_name\": \"acc_0_25_fair_0_75\", \"logical_pipeline_uuid\": \"Tm9uZSZESVImbGdibV9jbGY=\", \"physical_pipeline_uuid\": \"e65d4227-6d08-432d-8b7e-cf1aec38947f\", \"run_num\": 5, \"compound_pp_quality\": 0.9398866491664108, \"metric\": \"Equalized_Odds_TPR\", \"model_name\": \"lgbm_clf\", \"runtime_in_mins\": 0.31955815, \"dataset_name\": \"folk_emp\", \"logical_pipeline_name\": \"None&DIR&lgbm_clf\", \"null_imputer_name\": \"None\", \"fairness_intervention_name\": \"DIR\", \"RAC1P_dis\": 0.9228395061728395, \"RAC1P_priv\": 0.8498062015503876, \"SEX&RAC1P_dis\": 0.8896103896103896, \"SEX&RAC1P_priv\": 0.8753644314868805, \"SEX_dis\": 0.8776041666666666, \"SEX_priv\": 0.8782894736842105, \"overall\": 0.8779761904761905, \"disparity_metric_value\": 0.01424595812350915}, {\"exp_config_name\": \"acc_0_25_fair_0_75\", \"logical_pipeline_uuid\": \"Tm9uZSZESVImbGdibV9jbGY=\", \"physical_pipeline_uuid\": \"eb9b5a19-82f6-416c-bf7f-9471911d01c1\", \"run_num\": 4, \"compound_pp_quality\": 0.9445720796496668, \"metric\": \"Equalized_Odds_TPR\", \"model_name\": \"lgbm_clf\", \"runtime_in_mins\": 0.3491899333333333, \"dataset_name\": \"folk_emp\", \"logical_pipeline_name\": \"None&DIR&lgbm_clf\", \"null_imputer_name\": \"None\", \"fairness_intervention_name\": \"DIR\", \"RAC1P_dis\": 0.9211356466876972, \"RAC1P_priv\": 0.8877159309021113, \"SEX&RAC1P_dis\": 0.9082278481012658, \"SEX&RAC1P_priv\": 0.8985294117647059, \"SEX_dis\": 0.9014778325123153, \"SEX_priv\": 0.8993055555555556, \"overall\": 0.9003579952267303, \"disparity_metric_value\": 0.009698436336559868}, {\"exp_config_name\": \"acc_0_5_fair_0_5\", \"logical_pipeline_uuid\": \"Tm9uZSZESVImcmZfY2xm\", \"physical_pipeline_uuid\": \"07b5ccd5-a31a-40df-866d-e878edac7ba8\", \"run_num\": 5, \"compound_pp_quality\": 0.8939217419251164, \"metric\": \"Equalized_Odds_TPR\", \"model_name\": \"rf_clf\", \"runtime_in_mins\": 0.5909429666666667, \"dataset_name\": \"folk_emp\", \"logical_pipeline_name\": \"None&DIR&rf_clf\", \"null_imputer_name\": \"None\", \"fairness_intervention_name\": \"DIR\", \"RAC1P_dis\": 0.9243827160493827, \"RAC1P_priv\": 0.8527131782945736, \"SEX&RAC1P_dis\": 0.8928571428571429, \"SEX&RAC1P_priv\": 0.8775510204081632, \"SEX_dis\": 0.8697916666666666, \"SEX_priv\": 0.8892543859649122, \"overall\": 0.8803571428571428, \"disparity_metric_value\": 0.015306122448979664}, {\"exp_config_name\": \"acc_0_5_fair_0_5\", \"logical_pipeline_uuid\": \"Tm9uZSZESVImcmZfY2xm\", \"physical_pipeline_uuid\": \"25f8f8ee-416d-4ab7-b7f5-59f977922b92\", \"run_num\": 1, \"compound_pp_quality\": 0.8782634580099932, \"metric\": \"Equalized_Odds_TPR\", \"model_name\": \"rf_clf\", \"runtime_in_mins\": 0.7307960166666666, \"dataset_name\": \"folk_emp\", \"logical_pipeline_name\": \"None&DIR&rf_clf\", \"null_imputer_name\": \"None\", \"fairness_intervention_name\": \"DIR\", \"RAC1P_dis\": 0.9018691588785047, \"RAC1P_priv\": 0.8465753424657534, \"SEX&RAC1P_dis\": 0.9108910891089109, \"SEX&RAC1P_priv\": 0.8577405857740585, \"SEX_dis\": 0.8772378516624041, \"SEX_priv\": 0.8586387434554974, \"overall\": 0.8670120898100173, \"disparity_metric_value\": 0.053150503334852384}, {\"exp_config_name\": \"acc_0_5_fair_0_5\", \"logical_pipeline_uuid\": \"Tm9uZSZESVImcmZfY2xm\", \"physical_pipeline_uuid\": \"5734a395-9aba-48e5-93db-3110ef53510b\", \"run_num\": 2, \"compound_pp_quality\": 0.9038811806469531, \"metric\": \"Equalized_Odds_TPR\", \"model_name\": \"rf_clf\", \"runtime_in_mins\": 0.3749275833333333, \"dataset_name\": \"folk_emp\", \"logical_pipeline_name\": \"None&DIR&rf_clf\", \"null_imputer_name\": \"None\", \"fairness_intervention_name\": \"DIR\", \"RAC1P_dis\": 0.9180576631259484, \"RAC1P_priv\": 0.8809980806142035, \"SEX&RAC1P_dis\": 0.8970588235294118, \"SEX&RAC1P_priv\": 0.8949301983835415, \"SEX_dis\": 0.8855054811205847, \"SEX_priv\": 0.9045454545454545, \"overall\": 0.8953556731334509, \"disparity_metric_value\": 0.002128625145870311}, {\"exp_config_name\": \"acc_0_5_fair_0_5\", \"logical_pipeline_uuid\": \"Tm9uZSZESVImcmZfY2xm\", \"physical_pipeline_uuid\": \"9b20a654-b7bb-4036-90a1-6bfb70add4d3\", \"run_num\": 3, \"compound_pp_quality\": 0.8859352420708846, \"metric\": \"Equalized_Odds_TPR\", \"model_name\": \"rf_clf\", \"runtime_in_mins\": 0.36953139999999995, \"dataset_name\": \"folk_emp\", \"logical_pipeline_name\": \"None&DIR&rf_clf\", \"null_imputer_name\": \"None\", \"fairness_intervention_name\": \"DIR\", \"RAC1P_dis\": 0.9287974683544303, \"RAC1P_priv\": 0.8736162361623616, \"SEX&RAC1P_dis\": 0.9269102990033222, \"SEX&RAC1P_priv\": 0.8869257950530035, \"SEX_dis\": 0.8991172761664565, \"SEX_priv\": 0.8894907908992417, \"overall\": 0.8939393939393939, \"disparity_metric_value\": 0.03998450395031872}, {\"exp_config_name\": \"acc_0_5_fair_0_5\", \"logical_pipeline_uuid\": \"Tm9uZSZESVImcmZfY2xm\", \"physical_pipeline_uuid\": \"e428c255-a1da-4312-a369-e71a6cad70ec\", \"run_num\": 4, \"compound_pp_quality\": 0.8978266157229582, \"metric\": \"Equalized_Odds_TPR\", \"model_name\": \"rf_clf\", \"runtime_in_mins\": 0.37518238333333337, \"dataset_name\": \"folk_emp\", \"logical_pipeline_name\": \"None&DIR&rf_clf\", \"null_imputer_name\": \"None\", \"fairness_intervention_name\": \"DIR\", \"RAC1P_dis\": 0.9242902208201893, \"RAC1P_priv\": 0.8886756238003839, \"SEX&RAC1P_dis\": 0.9113924050632911, \"SEX&RAC1P_priv\": 0.9, \"SEX_dis\": 0.9039408866995073, \"SEX_priv\": 0.9004629629629629, \"overall\": 0.9021479713603818, \"disparity_metric_value\": 0.011392405063291089}, {\"exp_config_name\": \"acc_0_75_fair_0_25\", \"logical_pipeline_uuid\": \"Tm9uZSZESVImcmZfY2xm\", \"physical_pipeline_uuid\": \"29118464-4d6c-4ac9-9f57-378753656e1b\", \"run_num\": 5, \"compound_pp_quality\": 0.848109667549801, \"metric\": \"Equalized_Odds_TPR\", \"model_name\": \"rf_clf\", \"runtime_in_mins\": 0.37749893333333334, \"dataset_name\": \"folk_emp\", \"logical_pipeline_name\": \"None&DIR&rf_clf\", \"null_imputer_name\": \"None\", \"fairness_intervention_name\": \"DIR\", \"RAC1P_dis\": 0.9243827160493827, \"RAC1P_priv\": 0.8517441860465116, \"SEX&RAC1P_dis\": 0.8928571428571429, \"SEX&RAC1P_priv\": 0.8768221574344023, \"SEX_dis\": 0.8697916666666666, \"SEX_priv\": 0.8881578947368421, \"overall\": 0.8797619047619047, \"disparity_metric_value\": 0.016034985422740622}, {\"exp_config_name\": \"acc_0_75_fair_0_25\", \"logical_pipeline_uuid\": \"Tm9uZSZESVImcmZfY2xm\", \"physical_pipeline_uuid\": \"4127dfcc-8774-4868-8f9e-4e28d940d52d\", \"run_num\": 2, \"compound_pp_quality\": 0.8568860835433649, \"metric\": \"Equalized_Odds_TPR\", \"model_name\": \"rf_clf\", \"runtime_in_mins\": 0.3967929, \"dataset_name\": \"folk_emp\", \"logical_pipeline_name\": \"None&DIR&rf_clf\", \"null_imputer_name\": \"None\", \"fairness_intervention_name\": \"DIR\", \"RAC1P_dis\": 0.9180576631259484, \"RAC1P_priv\": 0.8809980806142035, \"SEX&RAC1P_dis\": 0.8970588235294118, \"SEX&RAC1P_priv\": 0.8949301983835415, \"SEX_dis\": 0.8855054811205847, \"SEX_priv\": 0.9045454545454545, \"overall\": 0.8953556731334509, \"disparity_metric_value\": 0.002128625145870311}, {\"exp_config_name\": \"acc_0_75_fair_0_25\", \"logical_pipeline_uuid\": \"Tm9uZSZESVImcmZfY2xm\", \"physical_pipeline_uuid\": \"5c31e717-da62-4ff5-8b6a-e4fe51294caa\", \"run_num\": 1, \"compound_pp_quality\": 0.8458600505300283, \"metric\": \"Equalized_Odds_TPR\", \"model_name\": \"rf_clf\", \"runtime_in_mins\": 0.49144118333333336, \"dataset_name\": \"folk_emp\", \"logical_pipeline_name\": \"None&DIR&rf_clf\", \"null_imputer_name\": \"None\", \"fairness_intervention_name\": \"DIR\", \"RAC1P_dis\": 0.897196261682243, \"RAC1P_priv\": 0.8447488584474886, \"SEX&RAC1P_dis\": 0.9042904290429042, \"SEX&RAC1P_priv\": 0.8556485355648535, \"SEX_dis\": 0.8759590792838875, \"SEX_priv\": 0.8544502617801047, \"overall\": 0.8641335636154289, \"disparity_metric_value\": 0.0486418934780507}, {\"exp_config_name\": \"acc_0_75_fair_0_25\", \"logical_pipeline_uuid\": \"Tm9uZSZESVImcmZfY2xm\", \"physical_pipeline_uuid\": \"6fea3046-5edc-48da-bf66-d3bd28a20a7d\", \"run_num\": 3, \"compound_pp_quality\": 0.8488951150814862, \"metric\": \"Equalized_Odds_TPR\", \"model_name\": \"rf_clf\", \"runtime_in_mins\": 0.3669617, \"dataset_name\": \"folk_emp\", \"logical_pipeline_name\": \"None&DIR&rf_clf\", \"null_imputer_name\": \"None\", \"fairness_intervention_name\": \"DIR\", \"RAC1P_dis\": 0.9287974683544303, \"RAC1P_priv\": 0.8736162361623616, \"SEX&RAC1P_dis\": 0.9269102990033222, \"SEX&RAC1P_priv\": 0.8869257950530035, \"SEX_dis\": 0.8991172761664565, \"SEX_priv\": 0.8894907908992417, \"overall\": 0.8939393939393939, \"disparity_metric_value\": 0.03998450395031872}, {\"exp_config_name\": \"acc_0_75_fair_0_25\", \"logical_pipeline_uuid\": \"Tm9uZSZESVImcmZfY2xm\", \"physical_pipeline_uuid\": \"de58d6fc-c4e3-4a8b-9fac-2e2ae41785e1\", \"run_num\": 4, \"compound_pp_quality\": 0.8524361261160827, \"metric\": \"Equalized_Odds_TPR\", \"model_name\": \"rf_clf\", \"runtime_in_mins\": 0.37674836666666667, \"dataset_name\": \"folk_emp\", \"logical_pipeline_name\": \"None&DIR&rf_clf\", \"null_imputer_name\": \"None\", \"fairness_intervention_name\": \"DIR\", \"RAC1P_dis\": 0.9242902208201893, \"RAC1P_priv\": 0.8886756238003839, \"SEX&RAC1P_dis\": 0.9113924050632911, \"SEX&RAC1P_priv\": 0.9, \"SEX_dis\": 0.9039408866995073, \"SEX_priv\": 0.9004629629629629, \"overall\": 0.9021479713603818, \"disparity_metric_value\": 0.011392405063291089}, {\"exp_config_name\": \"acc_1_0_fair_0_0\", \"logical_pipeline_uuid\": \"Tm9uZSZOT19GQUlSTkVTU19JTlRFUlZFTlRJT04mcmZfY2xm\", \"physical_pipeline_uuid\": \"04361871-f4b5-42e2-891b-74ffddc2342b\", \"run_num\": 3, \"compound_pp_quality\": 0.8122792719369737, \"metric\": \"Equalized_Odds_TPR\", \"model_name\": \"rf_clf\", \"runtime_in_mins\": 1.8072868666666666, \"dataset_name\": \"folk_emp\", \"logical_pipeline_name\": \"None&NO_FAIRNESS_INTERVENTION&rf_clf\", \"null_imputer_name\": \"None\", \"fairness_intervention_name\": \"NO_FAIRNESS_INTERVENTION\", \"RAC1P_dis\": 0.9129746835443038, \"RAC1P_priv\": 0.8468634686346863, \"SEX&RAC1P_dis\": 0.9003322259136213, \"SEX&RAC1P_priv\": 0.8650176678445229, \"SEX_dis\": 0.8738965952080706, \"SEX_priv\": 0.8689057421451788, \"overall\": 0.8712121212121212, \"disparity_metric_value\": 0.035314558069098334}, {\"exp_config_name\": \"acc_1_0_fair_0_0\", \"logical_pipeline_uuid\": \"Tm9uZSZOT19GQUlSTkVTU19JTlRFUlZFTlRJT04mcmZfY2xm\", \"physical_pipeline_uuid\": \"262520f3-9c0d-434b-b1d9-726af3d7b117\", \"run_num\": 4, \"compound_pp_quality\": 0.8077544426494345, \"metric\": \"Equalized_Odds_TPR\", \"model_name\": \"rf_clf\", \"runtime_in_mins\": 0.37527183333333336, \"dataset_name\": \"folk_emp\", \"logical_pipeline_name\": \"None&NO_FAIRNESS_INTERVENTION&rf_clf\", \"null_imputer_name\": \"None\", \"fairness_intervention_name\": \"NO_FAIRNESS_INTERVENTION\", \"RAC1P_dis\": 0.916403785488959, \"RAC1P_priv\": 0.8819577735124761, \"SEX&RAC1P_dis\": 0.9113924050632911, \"SEX&RAC1P_priv\": 0.8911764705882353, \"SEX_dis\": 0.8977832512315271, \"SEX_priv\": 0.8923611111111112, \"overall\": 0.8949880668257757, \"disparity_metric_value\": 0.020215934475055763}, {\"exp_config_name\": \"acc_1_0_fair_0_0\", \"logical_pipeline_uuid\": \"Tm9uZSZOT19GQUlSTkVTU19JTlRFUlZFTlRJT04mcmZfY2xm\", \"physical_pipeline_uuid\": \"4c12117f-8fa2-46f0-b083-453d06acf10d\", \"run_num\": 1, \"compound_pp_quality\": 0.8113667117726657, \"metric\": \"Equalized_Odds_TPR\", \"model_name\": \"rf_clf\", \"runtime_in_mins\": 0.6259399499999999, \"dataset_name\": \"folk_emp\", \"logical_pipeline_name\": \"None&NO_FAIRNESS_INTERVENTION&rf_clf\", \"null_imputer_name\": \"None\", \"fairness_intervention_name\": \"NO_FAIRNESS_INTERVENTION\", \"RAC1P_dis\": 0.8925233644859814, \"RAC1P_priv\": 0.845662100456621, \"SEX&RAC1P_dis\": 0.8943894389438944, \"SEX&RAC1P_priv\": 0.8563458856345886, \"SEX_dis\": 0.8695652173913043, \"SEX_priv\": 0.8575916230366493, \"overall\": 0.8629821531375935, \"disparity_metric_value\": 0.038043553309305866}, {\"exp_config_name\": \"acc_1_0_fair_0_0\", \"logical_pipeline_uuid\": \"Tm9uZSZOT19GQUlSTkVTU19JTlRFUlZFTlRJT04mcmZfY2xm\", \"physical_pipeline_uuid\": \"f8faa13a-a1b9-4e2c-af8e-83f3f94475fe\", \"run_num\": 2, \"compound_pp_quality\": 0.8101876675603217, \"metric\": \"Equalized_Odds_TPR\", \"model_name\": \"rf_clf\", \"runtime_in_mins\": 0.37080680000000005, \"dataset_name\": \"folk_emp\", \"logical_pipeline_name\": \"None&NO_FAIRNESS_INTERVENTION&rf_clf\", \"null_imputer_name\": \"None\", \"fairness_intervention_name\": \"NO_FAIRNESS_INTERVENTION\", \"RAC1P_dis\": 0.9150227617602428, \"RAC1P_priv\": 0.8714011516314779, \"SEX&RAC1P_dis\": 0.8970588235294118, \"SEX&RAC1P_priv\": 0.8861131520940485, \"SEX_dis\": 0.879415347137637, \"SEX_priv\": 0.8965909090909091, \"overall\": 0.8883009994121105, \"disparity_metric_value\": 0.010945671435363291}, {\"exp_config_name\": \"acc_1_0_fair_0_0\", \"logical_pipeline_uuid\": \"Tm9uZSZOT19GQUlSTkVTU19JTlRFUlZFTlRJT04mcmZfY2xm\", \"physical_pipeline_uuid\": \"ff4518c9-1014-46ef-abae-8a25ed099035\", \"run_num\": 5, \"compound_pp_quality\": 0.8032564450474898, \"metric\": \"Equalized_Odds_TPR\", \"model_name\": \"rf_clf\", \"runtime_in_mins\": 0.36789839999999996, \"dataset_name\": \"folk_emp\", \"logical_pipeline_name\": \"None&NO_FAIRNESS_INTERVENTION&rf_clf\", \"null_imputer_name\": \"None\", \"fairness_intervention_name\": \"NO_FAIRNESS_INTERVENTION\", \"RAC1P_dis\": 0.9259259259259259, \"RAC1P_priv\": 0.8527131782945736, \"SEX&RAC1P_dis\": 0.8928571428571429, \"SEX&RAC1P_priv\": 0.8782798833819242, \"SEX_dis\": 0.87109375, \"SEX_priv\": 0.8892543859649122, \"overall\": 0.8809523809523809, \"disparity_metric_value\": 0.014577259475218707}]}}, {\"mode\": \"vega-lite\"});\n",
       "</script>"
      ],
      "text/plain": [
       "alt.Chart(...)"
      ]
     },
     "execution_count": 13,
     "metadata": {},
     "output_type": "execute_result"
    }
   ],
   "source": [
    "create_box_plot_per_cost_model(to_plot=best_lp_metrics_per_exp_config_df, metric_name=\"Equalized_Odds_TPR\", group=GROUP)"
   ]
  },
  {
   "cell_type": "code",
   "execution_count": 14,
   "id": "e9b12e534e376279",
   "metadata": {
    "ExecuteTime": {
     "end_time": "2024-12-04T18:16:01.569128Z",
     "start_time": "2024-12-04T18:16:01.526239Z"
    }
   },
   "outputs": [
    {
     "data": {
      "text/html": [
       "\n",
       "<div id=\"altair-viz-d33a9122d72c40e396a2e342af4b11ab\"></div>\n",
       "<script type=\"text/javascript\">\n",
       "  var VEGA_DEBUG = (typeof VEGA_DEBUG == \"undefined\") ? {} : VEGA_DEBUG;\n",
       "  (function(spec, embedOpt){\n",
       "    let outputDiv = document.currentScript.previousElementSibling;\n",
       "    if (outputDiv.id !== \"altair-viz-d33a9122d72c40e396a2e342af4b11ab\") {\n",
       "      outputDiv = document.getElementById(\"altair-viz-d33a9122d72c40e396a2e342af4b11ab\");\n",
       "    }\n",
       "    const paths = {\n",
       "      \"vega\": \"https://cdn.jsdelivr.net/npm//vega@5?noext\",\n",
       "      \"vega-lib\": \"https://cdn.jsdelivr.net/npm//vega-lib?noext\",\n",
       "      \"vega-lite\": \"https://cdn.jsdelivr.net/npm//vega-lite@4.17.0?noext\",\n",
       "      \"vega-embed\": \"https://cdn.jsdelivr.net/npm//vega-embed@6?noext\",\n",
       "    };\n",
       "\n",
       "    function maybeLoadScript(lib, version) {\n",
       "      var key = `${lib.replace(\"-\", \"\")}_version`;\n",
       "      return (VEGA_DEBUG[key] == version) ?\n",
       "        Promise.resolve(paths[lib]) :\n",
       "        new Promise(function(resolve, reject) {\n",
       "          var s = document.createElement('script');\n",
       "          document.getElementsByTagName(\"head\")[0].appendChild(s);\n",
       "          s.async = true;\n",
       "          s.onload = () => {\n",
       "            VEGA_DEBUG[key] = version;\n",
       "            return resolve(paths[lib]);\n",
       "          };\n",
       "          s.onerror = () => reject(`Error loading script: ${paths[lib]}`);\n",
       "          s.src = paths[lib];\n",
       "        });\n",
       "    }\n",
       "\n",
       "    function showError(err) {\n",
       "      outputDiv.innerHTML = `<div class=\"error\" style=\"color:red;\">${err}</div>`;\n",
       "      throw err;\n",
       "    }\n",
       "\n",
       "    function displayChart(vegaEmbed) {\n",
       "      vegaEmbed(outputDiv, spec, embedOpt)\n",
       "        .catch(err => showError(`Javascript Error: ${err.message}<br>This usually means there's a typo in your chart specification. See the javascript console for the full traceback.`));\n",
       "    }\n",
       "\n",
       "    if(typeof define === \"function\" && define.amd) {\n",
       "      requirejs.config({paths});\n",
       "      require([\"vega-embed\"], displayChart, err => showError(`Error loading script: ${err.message}`));\n",
       "    } else {\n",
       "      maybeLoadScript(\"vega\", \"5\")\n",
       "        .then(() => maybeLoadScript(\"vega-lite\", \"4.17.0\"))\n",
       "        .then(() => maybeLoadScript(\"vega-embed\", \"6\"))\n",
       "        .catch(showError)\n",
       "        .then(() => displayChart(vegaEmbed));\n",
       "    }\n",
       "  })({\"config\": {\"view\": {\"continuousWidth\": 400, \"continuousHeight\": 300, \"stroke\": null}, \"axis\": {\"labelFontSize\": 22, \"labelFontWeight\": \"normal\", \"titleFontSize\": 28, \"titleFontWeight\": \"normal\"}, \"title\": {\"fontSize\": 28}}, \"data\": {\"name\": \"data-31bee3a40972f049ee506e4e1efd05ff\"}, \"mark\": {\"type\": \"boxplot\", \"median\": {\"stroke\": \"black\", \"strokeWidth\": 0.7}, \"ticks\": true}, \"encoding\": {\"x\": {\"axis\": {\"labelAngle\": -45, \"labelLimit\": 300}, \"field\": \"exp_config_name\", \"title\": null, \"type\": \"nominal\"}, \"y\": {\"field\": \"disparity_metric_value\", \"scale\": {\"zero\": false}, \"title\": \"Equalized_Odds_FPR\", \"type\": \"quantitative\"}}, \"height\": 400, \"width\": 400, \"$schema\": \"https://vega.github.io/schema/vega-lite/v4.17.0.json\", \"datasets\": {\"data-31bee3a40972f049ee506e4e1efd05ff\": [{\"exp_config_name\": \"acc_0_0_fair_1_0\", \"logical_pipeline_uuid\": \"Tm9uZSZESVImbHJfY2xm\", \"physical_pipeline_uuid\": \"10a4b262-5142-4d67-aceb-7c4e30102b28\", \"run_num\": 4, \"compound_pp_quality\": 0.9904970215934475, \"metric\": \"Equalized_Odds_FPR\", \"model_name\": \"lr_clf\", \"runtime_in_mins\": 0.23940963333333334, \"dataset_name\": \"folk_emp\", \"logical_pipeline_name\": \"None&DIR&lr_clf\", \"null_imputer_name\": \"None\", \"fairness_intervention_name\": \"DIR\", \"RAC1P_dis\": 0.6289308176100629, \"RAC1P_priv\": 0.5430932703659976, \"SEX&RAC1P_dis\": 0.6401515151515151, \"SEX&RAC1P_priv\": 0.5575471698113208, \"SEX_dis\": 0.5679676985195155, \"SEX_priv\": 0.5817555938037866, \"overall\": 0.5740181268882175, \"disparity_metric_value\": 0.08260434534019434}, {\"exp_config_name\": \"acc_0_0_fair_1_0\", \"logical_pipeline_uuid\": \"Tm9uZSZESVImbHJfY2xm\", \"physical_pipeline_uuid\": \"27e41a7c-d6bf-46f0-9110-40e96932e653\", \"run_num\": 5, \"compound_pp_quality\": 0.9882056718791412, \"metric\": \"Equalized_Odds_FPR\", \"model_name\": \"lr_clf\", \"runtime_in_mins\": 0.36641361666666666, \"dataset_name\": \"folk_emp\", \"logical_pipeline_name\": \"None&DIR&lr_clf\", \"null_imputer_name\": \"None\", \"fairness_intervention_name\": \"DIR\", \"RAC1P_dis\": 0.6273291925465838, \"RAC1P_priv\": 0.5232974910394266, \"SEX&RAC1P_dis\": 0.6309963099630996, \"SEX&RAC1P_priv\": 0.5433746425166825, \"SEX_dis\": 0.5706521739130435, \"SEX_priv\": 0.5496575342465754, \"overall\": 0.5613636363636364, \"disparity_metric_value\": 0.08762166744641708}, {\"exp_config_name\": \"acc_0_0_fair_1_0\", \"logical_pipeline_uuid\": \"Tm9uZSZESVImbHJfY2xm\", \"physical_pipeline_uuid\": \"2a1062df-0658-4bed-bebc-f08a64c100bc\", \"run_num\": 2, \"compound_pp_quality\": 0.9999438129403121, \"metric\": \"Equalized_Odds_FPR\", \"model_name\": \"lr_clf\", \"runtime_in_mins\": 0.23939645, \"dataset_name\": \"folk_emp\", \"logical_pipeline_name\": \"None&DIR&lr_clf\", \"null_imputer_name\": \"None\", \"fairness_intervention_name\": \"DIR\", \"RAC1P_dis\": 0.653276955602537, \"RAC1P_priv\": 0.5326876513317191, \"SEX&RAC1P_dis\": 0.6704545454545454, \"SEX&RAC1P_priv\": 0.5526570048309178, \"SEX_dis\": 0.5950413223140496, \"SEX_priv\": 0.5532286212914486, \"overall\": 0.5765973826020016, \"disparity_metric_value\": 0.11779754062362757}, {\"exp_config_name\": \"acc_0_0_fair_1_0\", \"logical_pipeline_uuid\": \"Tm9uZSZESVImbHJfY2xm\", \"physical_pipeline_uuid\": \"473666fc-7673-4c1a-988f-7d339730ef11\", \"run_num\": 1, \"compound_pp_quality\": 0.9803706312053799, \"metric\": \"Equalized_Odds_FPR\", \"model_name\": \"lr_clf\", \"runtime_in_mins\": 0.22176108333333333, \"dataset_name\": \"folk_emp\", \"logical_pipeline_name\": \"None&DIR&lr_clf\", \"null_imputer_name\": \"None\", \"fairness_intervention_name\": \"DIR\", \"RAC1P_dis\": 0.6513157894736842, \"RAC1P_priv\": 0.5117719950433705, \"SEX&RAC1P_dis\": 0.6470588235294118, \"SEX&RAC1P_priv\": 0.5406746031746031, \"SEX_dis\": 0.55, \"SEX_priv\": 0.578268876611418, \"overall\": 0.56215360253365, \"disparity_metric_value\": 0.10638422035480866}, {\"exp_config_name\": \"acc_0_0_fair_1_0\", \"logical_pipeline_uuid\": \"Tm9uZSZESVImbHJfY2xm\", \"physical_pipeline_uuid\": \"a4e709f5-5df7-4a13-8d4f-d3f1e38dc8e2\", \"run_num\": 3, \"compound_pp_quality\": 0.9487010318960356, \"metric\": \"Equalized_Odds_FPR\", \"model_name\": \"lr_clf\", \"runtime_in_mins\": 0.27845603333333335, \"dataset_name\": \"folk_emp\", \"logical_pipeline_name\": \"None&DIR&lr_clf\", \"null_imputer_name\": \"None\", \"fairness_intervention_name\": \"DIR\", \"RAC1P_dis\": 0.6281512605042017, \"RAC1P_priv\": 0.525990099009901, \"SEX&RAC1P_dis\": 0.6605166051660517, \"SEX&RAC1P_priv\": 0.5380059230009872, \"SEX_dis\": 0.5908460471567267, \"SEX_priv\": 0.5293072824156305, \"overall\": 0.5638629283489096, \"disparity_metric_value\": 0.12251068216506455}, {\"exp_config_name\": \"acc_0_25_fair_0_75\", \"logical_pipeline_uuid\": \"Tm9uZSZESVImbGdibV9jbGY=\", \"physical_pipeline_uuid\": \"10ec22bd-bb2b-4b0b-9c70-e0c2868ed85f\", \"run_num\": 1, \"compound_pp_quality\": 0.922697223235796, \"metric\": \"Equalized_Odds_FPR\", \"model_name\": \"lgbm_clf\", \"runtime_in_mins\": 0.9932433666666667, \"dataset_name\": \"folk_emp\", \"logical_pipeline_name\": \"None&DIR&lgbm_clf\", \"null_imputer_name\": \"None\", \"fairness_intervention_name\": \"DIR\", \"RAC1P_dis\": 0.4583333333333333, \"RAC1P_priv\": 0.3543990086741016, \"SEX&RAC1P_dis\": 0.49019607843137253, \"SEX&RAC1P_priv\": 0.36706349206349204, \"SEX_dis\": 0.4111111111111111, \"SEX_priv\": 0.3664825046040516, \"overall\": 0.3919239904988123, \"disparity_metric_value\": 0.12313258636788049}, {\"exp_config_name\": \"acc_0_25_fair_0_75\", \"logical_pipeline_uuid\": \"Tm9uZSZESVImbGdibV9jbGY=\", \"physical_pipeline_uuid\": \"2001efbe-d5e3-4ded-afd0-791713baef03\", \"run_num\": 2, \"compound_pp_quality\": 0.9262340470594461, \"metric\": \"Equalized_Odds_FPR\", \"model_name\": \"lgbm_clf\", \"runtime_in_mins\": 1.5906995, \"dataset_name\": \"folk_emp\", \"logical_pipeline_name\": \"None&DIR&lgbm_clf\", \"null_imputer_name\": \"None\", \"fairness_intervention_name\": \"DIR\", \"RAC1P_dis\": 0.4186046511627907, \"RAC1P_priv\": 0.32929782082324455, \"SEX&RAC1P_dis\": 0.4583333333333333, \"SEX&RAC1P_priv\": 0.33719806763285026, \"SEX_dis\": 0.40082644628099173, \"SEX_priv\": 0.31239092495637, \"overall\": 0.36181678214010776, \"disparity_metric_value\": 0.12113526570048305}, {\"exp_config_name\": \"acc_0_25_fair_0_75\", \"logical_pipeline_uuid\": \"Tm9uZSZESVImbGdibV9jbGY=\", \"physical_pipeline_uuid\": \"cae35392-63ad-4289-a244-ed998a037dab\", \"run_num\": 3, \"compound_pp_quality\": 0.9325414100460687, \"metric\": \"Equalized_Odds_FPR\", \"model_name\": \"lgbm_clf\", \"runtime_in_mins\": 2.245947633333333, \"dataset_name\": \"folk_emp\", \"logical_pipeline_name\": \"None&DIR&lgbm_clf\", \"null_imputer_name\": \"None\", \"fairness_intervention_name\": \"DIR\", \"RAC1P_dis\": 0.43907563025210083, \"RAC1P_priv\": 0.36014851485148514, \"SEX&RAC1P_dis\": 0.4981549815498155, \"SEX&RAC1P_priv\": 0.36031589338598224, \"SEX_dis\": 0.43134535367545074, \"SEX_priv\": 0.33570159857904086, \"overall\": 0.3894080996884735, \"disparity_metric_value\": 0.13783908816383328}, {\"exp_config_name\": \"acc_0_25_fair_0_75\", \"logical_pipeline_uuid\": \"Tm9uZSZESVImbGdibV9jbGY=\", \"physical_pipeline_uuid\": \"e65d4227-6d08-432d-8b7e-cf1aec38947f\", \"run_num\": 5, \"compound_pp_quality\": 0.9398866491664108, \"metric\": \"Equalized_Odds_FPR\", \"model_name\": \"lgbm_clf\", \"runtime_in_mins\": 0.31955815, \"dataset_name\": \"folk_emp\", \"logical_pipeline_name\": \"None&DIR&lgbm_clf\", \"null_imputer_name\": \"None\", \"fairness_intervention_name\": \"DIR\", \"RAC1P_dis\": 0.4575569358178054, \"RAC1P_priv\": 0.35961768219832735, \"SEX&RAC1P_dis\": 0.4907749077490775, \"SEX&RAC1P_priv\": 0.3708293612964728, \"SEX_dis\": 0.44429347826086957, \"SEX_priv\": 0.3339041095890411, \"overall\": 0.39545454545454545, \"disparity_metric_value\": 0.11994554645260469}, {\"exp_config_name\": \"acc_0_25_fair_0_75\", \"logical_pipeline_uuid\": \"Tm9uZSZESVImbGdibV9jbGY=\", \"physical_pipeline_uuid\": \"eb9b5a19-82f6-416c-bf7f-9471911d01c1\", \"run_num\": 4, \"compound_pp_quality\": 0.9445720796496668, \"metric\": \"Equalized_Odds_FPR\", \"model_name\": \"lgbm_clf\", \"runtime_in_mins\": 0.3491899333333333, \"dataset_name\": \"folk_emp\", \"logical_pipeline_name\": \"None&DIR&lgbm_clf\", \"null_imputer_name\": \"None\", \"fairness_intervention_name\": \"DIR\", \"RAC1P_dis\": 0.469601677148847, \"RAC1P_priv\": 0.3884297520661157, \"SEX&RAC1P_dis\": 0.5340909090909091, \"SEX&RAC1P_priv\": 0.3886792452830189, \"SEX_dis\": 0.4508748317631225, \"SEX_priv\": 0.37521514629948366, \"overall\": 0.4176737160120846, \"disparity_metric_value\": 0.14541166380789017}, {\"exp_config_name\": \"acc_0_5_fair_0_5\", \"logical_pipeline_uuid\": \"Tm9uZSZESVImcmZfY2xm\", \"physical_pipeline_uuid\": \"07b5ccd5-a31a-40df-866d-e878edac7ba8\", \"run_num\": 5, \"compound_pp_quality\": 0.8939217419251164, \"metric\": \"Equalized_Odds_FPR\", \"model_name\": \"rf_clf\", \"runtime_in_mins\": 0.5909429666666667, \"dataset_name\": \"folk_emp\", \"logical_pipeline_name\": \"None&DIR&rf_clf\", \"null_imputer_name\": \"None\", \"fairness_intervention_name\": \"DIR\", \"RAC1P_dis\": 0.463768115942029, \"RAC1P_priv\": 0.35842293906810035, \"SEX&RAC1P_dis\": 0.4907749077490775, \"SEX&RAC1P_priv\": 0.37273593898951385, \"SEX_dis\": 0.45108695652173914, \"SEX_priv\": 0.3287671232876712, \"overall\": 0.396969696969697, \"disparity_metric_value\": 0.11803896875956366}, {\"exp_config_name\": \"acc_0_5_fair_0_5\", \"logical_pipeline_uuid\": \"Tm9uZSZESVImcmZfY2xm\", \"physical_pipeline_uuid\": \"25f8f8ee-416d-4ab7-b7f5-59f977922b92\", \"run_num\": 1, \"compound_pp_quality\": 0.8782634580099932, \"metric\": \"Equalized_Odds_FPR\", \"model_name\": \"rf_clf\", \"runtime_in_mins\": 0.7307960166666666, \"dataset_name\": \"folk_emp\", \"logical_pipeline_name\": \"None&DIR&rf_clf\", \"null_imputer_name\": \"None\", \"fairness_intervention_name\": \"DIR\", \"RAC1P_dis\": 0.43201754385964913, \"RAC1P_priv\": 0.3469640644361834, \"SEX&RAC1P_dis\": 0.49019607843137253, \"SEX&RAC1P_priv\": 0.3492063492063492, \"SEX_dis\": 0.42083333333333334, \"SEX_priv\": 0.32044198895027626, \"overall\": 0.37767220902612825, \"disparity_metric_value\": 0.14098972922502334}, {\"exp_config_name\": \"acc_0_5_fair_0_5\", \"logical_pipeline_uuid\": \"Tm9uZSZESVImcmZfY2xm\", \"physical_pipeline_uuid\": \"5734a395-9aba-48e5-93db-3110ef53510b\", \"run_num\": 2, \"compound_pp_quality\": 0.9038811806469531, \"metric\": \"Equalized_Odds_FPR\", \"model_name\": \"rf_clf\", \"runtime_in_mins\": 0.3749275833333333, \"dataset_name\": \"folk_emp\", \"logical_pipeline_name\": \"None&DIR&rf_clf\", \"null_imputer_name\": \"None\", \"fairness_intervention_name\": \"DIR\", \"RAC1P_dis\": 0.47357293868921774, \"RAC1P_priv\": 0.3789346246973366, \"SEX&RAC1P_dis\": 0.5416666666666666, \"SEX&RAC1P_priv\": 0.38067632850241545, \"SEX_dis\": 0.4724517906336088, \"SEX_priv\": 0.33856893542757416, \"overall\": 0.4133949191685912, \"disparity_metric_value\": 0.16099033816425118}, {\"exp_config_name\": \"acc_0_5_fair_0_5\", \"logical_pipeline_uuid\": \"Tm9uZSZESVImcmZfY2xm\", \"physical_pipeline_uuid\": \"9b20a654-b7bb-4036-90a1-6bfb70add4d3\", \"run_num\": 3, \"compound_pp_quality\": 0.8859352420708846, \"metric\": \"Equalized_Odds_FPR\", \"model_name\": \"rf_clf\", \"runtime_in_mins\": 0.36953139999999995, \"dataset_name\": \"folk_emp\", \"logical_pipeline_name\": \"None&DIR&rf_clf\", \"null_imputer_name\": \"None\", \"fairness_intervention_name\": \"DIR\", \"RAC1P_dis\": 0.46218487394957986, \"RAC1P_priv\": 0.38242574257425743, \"SEX&RAC1P_dis\": 0.5571955719557196, \"SEX&RAC1P_priv\": 0.37314906219151034, \"SEX_dis\": 0.47572815533980584, \"SEX_priv\": 0.33037300177619894, \"overall\": 0.411993769470405, \"disparity_metric_value\": 0.18404650976420922}, {\"exp_config_name\": \"acc_0_5_fair_0_5\", \"logical_pipeline_uuid\": \"Tm9uZSZESVImcmZfY2xm\", \"physical_pipeline_uuid\": \"e428c255-a1da-4312-a369-e71a6cad70ec\", \"run_num\": 4, \"compound_pp_quality\": 0.8978266157229582, \"metric\": \"Equalized_Odds_FPR\", \"model_name\": \"rf_clf\", \"runtime_in_mins\": 0.37518238333333337, \"dataset_name\": \"folk_emp\", \"logical_pipeline_name\": \"None&DIR&rf_clf\", \"null_imputer_name\": \"None\", \"fairness_intervention_name\": \"DIR\", \"RAC1P_dis\": 0.4779874213836478, \"RAC1P_priv\": 0.3907910271546635, \"SEX&RAC1P_dis\": 0.5340909090909091, \"SEX&RAC1P_priv\": 0.39433962264150946, \"SEX_dis\": 0.4535666218034993, \"SEX_priv\": 0.38209982788296043, \"overall\": 0.42220543806646527, \"disparity_metric_value\": 0.1397512864493996}, {\"exp_config_name\": \"acc_0_75_fair_0_25\", \"logical_pipeline_uuid\": \"Tm9uZSZESVImcmZfY2xm\", \"physical_pipeline_uuid\": \"29118464-4d6c-4ac9-9f57-378753656e1b\", \"run_num\": 5, \"compound_pp_quality\": 0.848109667549801, \"metric\": \"Equalized_Odds_FPR\", \"model_name\": \"rf_clf\", \"runtime_in_mins\": 0.37749893333333334, \"dataset_name\": \"folk_emp\", \"logical_pipeline_name\": \"None&DIR&rf_clf\", \"null_imputer_name\": \"None\", \"fairness_intervention_name\": \"DIR\", \"RAC1P_dis\": 0.463768115942029, \"RAC1P_priv\": 0.35842293906810035, \"SEX&RAC1P_dis\": 0.4907749077490775, \"SEX&RAC1P_priv\": 0.37273593898951385, \"SEX_dis\": 0.45108695652173914, \"SEX_priv\": 0.3287671232876712, \"overall\": 0.396969696969697, \"disparity_metric_value\": 0.11803896875956366}, {\"exp_config_name\": \"acc_0_75_fair_0_25\", \"logical_pipeline_uuid\": \"Tm9uZSZESVImcmZfY2xm\", \"physical_pipeline_uuid\": \"4127dfcc-8774-4868-8f9e-4e28d940d52d\", \"run_num\": 2, \"compound_pp_quality\": 0.8568860835433649, \"metric\": \"Equalized_Odds_FPR\", \"model_name\": \"rf_clf\", \"runtime_in_mins\": 0.3967929, \"dataset_name\": \"folk_emp\", \"logical_pipeline_name\": \"None&DIR&rf_clf\", \"null_imputer_name\": \"None\", \"fairness_intervention_name\": \"DIR\", \"RAC1P_dis\": 0.47357293868921774, \"RAC1P_priv\": 0.3789346246973366, \"SEX&RAC1P_dis\": 0.5416666666666666, \"SEX&RAC1P_priv\": 0.38067632850241545, \"SEX_dis\": 0.4724517906336088, \"SEX_priv\": 0.33856893542757416, \"overall\": 0.4133949191685912, \"disparity_metric_value\": 0.16099033816425118}, {\"exp_config_name\": \"acc_0_75_fair_0_25\", \"logical_pipeline_uuid\": \"Tm9uZSZESVImcmZfY2xm\", \"physical_pipeline_uuid\": \"5c31e717-da62-4ff5-8b6a-e4fe51294caa\", \"run_num\": 1, \"compound_pp_quality\": 0.8458600505300283, \"metric\": \"Equalized_Odds_FPR\", \"model_name\": \"rf_clf\", \"runtime_in_mins\": 0.49144118333333336, \"dataset_name\": \"folk_emp\", \"logical_pipeline_name\": \"None&DIR&rf_clf\", \"null_imputer_name\": \"None\", \"fairness_intervention_name\": \"DIR\", \"RAC1P_dis\": 0.41228070175438597, \"RAC1P_priv\": 0.34324659231722426, \"SEX&RAC1P_dis\": 0.4627450980392157, \"SEX&RAC1P_priv\": 0.34424603174603174, \"SEX_dis\": 0.40555555555555556, \"SEX_priv\": 0.31860036832412525, \"overall\": 0.3681710213776722, \"disparity_metric_value\": 0.11849906629318396}, {\"exp_config_name\": \"acc_0_75_fair_0_25\", \"logical_pipeline_uuid\": \"Tm9uZSZESVImcmZfY2xm\", \"physical_pipeline_uuid\": \"6fea3046-5edc-48da-bf66-d3bd28a20a7d\", \"run_num\": 3, \"compound_pp_quality\": 0.8488951150814862, \"metric\": \"Equalized_Odds_FPR\", \"model_name\": \"rf_clf\", \"runtime_in_mins\": 0.3669617, \"dataset_name\": \"folk_emp\", \"logical_pipeline_name\": \"None&DIR&rf_clf\", \"null_imputer_name\": \"None\", \"fairness_intervention_name\": \"DIR\", \"RAC1P_dis\": 0.46218487394957986, \"RAC1P_priv\": 0.38242574257425743, \"SEX&RAC1P_dis\": 0.5571955719557196, \"SEX&RAC1P_priv\": 0.37314906219151034, \"SEX_dis\": 0.47572815533980584, \"SEX_priv\": 0.33037300177619894, \"overall\": 0.411993769470405, \"disparity_metric_value\": 0.18404650976420922}, {\"exp_config_name\": \"acc_0_75_fair_0_25\", \"logical_pipeline_uuid\": \"Tm9uZSZESVImcmZfY2xm\", \"physical_pipeline_uuid\": \"de58d6fc-c4e3-4a8b-9fac-2e2ae41785e1\", \"run_num\": 4, \"compound_pp_quality\": 0.8524361261160827, \"metric\": \"Equalized_Odds_FPR\", \"model_name\": \"rf_clf\", \"runtime_in_mins\": 0.37674836666666667, \"dataset_name\": \"folk_emp\", \"logical_pipeline_name\": \"None&DIR&rf_clf\", \"null_imputer_name\": \"None\", \"fairness_intervention_name\": \"DIR\", \"RAC1P_dis\": 0.4779874213836478, \"RAC1P_priv\": 0.3907910271546635, \"SEX&RAC1P_dis\": 0.5340909090909091, \"SEX&RAC1P_priv\": 0.39433962264150946, \"SEX_dis\": 0.4535666218034993, \"SEX_priv\": 0.38209982788296043, \"overall\": 0.42220543806646527, \"disparity_metric_value\": 0.1397512864493996}, {\"exp_config_name\": \"acc_1_0_fair_0_0\", \"logical_pipeline_uuid\": \"Tm9uZSZOT19GQUlSTkVTU19JTlRFUlZFTlRJT04mcmZfY2xm\", \"physical_pipeline_uuid\": \"04361871-f4b5-42e2-891b-74ffddc2342b\", \"run_num\": 3, \"compound_pp_quality\": 0.8122792719369737, \"metric\": \"Equalized_Odds_FPR\", \"model_name\": \"rf_clf\", \"runtime_in_mins\": 1.8072868666666666, \"dataset_name\": \"folk_emp\", \"logical_pipeline_name\": \"None&NO_FAIRNESS_INTERVENTION&rf_clf\", \"null_imputer_name\": \"None\", \"fairness_intervention_name\": \"NO_FAIRNESS_INTERVENTION\", \"RAC1P_dis\": 0.4117647058823529, \"RAC1P_priv\": 0.33910891089108913, \"SEX&RAC1P_dis\": 0.4944649446494465, \"SEX&RAC1P_priv\": 0.33168805528134254, \"SEX_dis\": 0.42441054091539526, \"SEX_priv\": 0.2912966252220249, \"overall\": 0.3660436137071651, \"disparity_metric_value\": 0.16277688936810397}, {\"exp_config_name\": \"acc_1_0_fair_0_0\", \"logical_pipeline_uuid\": \"Tm9uZSZOT19GQUlSTkVTU19JTlRFUlZFTlRJT04mcmZfY2xm\", \"physical_pipeline_uuid\": \"262520f3-9c0d-434b-b1d9-726af3d7b117\", \"run_num\": 4, \"compound_pp_quality\": 0.8077544426494345, \"metric\": \"Equalized_Odds_FPR\", \"model_name\": \"rf_clf\", \"runtime_in_mins\": 0.37527183333333336, \"dataset_name\": \"folk_emp\", \"logical_pipeline_name\": \"None&NO_FAIRNESS_INTERVENTION&rf_clf\", \"null_imputer_name\": \"None\", \"fairness_intervention_name\": \"NO_FAIRNESS_INTERVENTION\", \"RAC1P_dis\": 0.46540880503144655, \"RAC1P_priv\": 0.3730814639905549, \"SEX&RAC1P_dis\": 0.5340909090909091, \"SEX&RAC1P_priv\": 0.3745283018867924, \"SEX_dis\": 0.4414535666218035, \"SEX_priv\": 0.3614457831325301, \"overall\": 0.40634441087613293, \"disparity_metric_value\": 0.15956260720411664}, {\"exp_config_name\": \"acc_1_0_fair_0_0\", \"logical_pipeline_uuid\": \"Tm9uZSZOT19GQUlSTkVTU19JTlRFUlZFTlRJT04mcmZfY2xm\", \"physical_pipeline_uuid\": \"4c12117f-8fa2-46f0-b083-453d06acf10d\", \"run_num\": 1, \"compound_pp_quality\": 0.8113667117726657, \"metric\": \"Equalized_Odds_FPR\", \"model_name\": \"rf_clf\", \"runtime_in_mins\": 0.6259399499999999, \"dataset_name\": \"folk_emp\", \"logical_pipeline_name\": \"None&NO_FAIRNESS_INTERVENTION&rf_clf\", \"null_imputer_name\": \"None\", \"fairness_intervention_name\": \"NO_FAIRNESS_INTERVENTION\", \"RAC1P_dis\": 0.40789473684210525, \"RAC1P_priv\": 0.3382899628252788, \"SEX&RAC1P_dis\": 0.4588235294117647, \"SEX&RAC1P_priv\": 0.3392857142857143, \"SEX_dis\": 0.4013888888888889, \"SEX_priv\": 0.31307550644567217, \"overall\": 0.36342042755344417, \"disparity_metric_value\": 0.11953781512605038}, {\"exp_config_name\": \"acc_1_0_fair_0_0\", \"logical_pipeline_uuid\": \"Tm9uZSZOT19GQUlSTkVTU19JTlRFUlZFTlRJT04mcmZfY2xm\", \"physical_pipeline_uuid\": \"f8faa13a-a1b9-4e2c-af8e-83f3f94475fe\", \"run_num\": 2, \"compound_pp_quality\": 0.8101876675603217, \"metric\": \"Equalized_Odds_FPR\", \"model_name\": \"rf_clf\", \"runtime_in_mins\": 0.37080680000000005, \"dataset_name\": \"folk_emp\", \"logical_pipeline_name\": \"None&NO_FAIRNESS_INTERVENTION&rf_clf\", \"null_imputer_name\": \"None\", \"fairness_intervention_name\": \"NO_FAIRNESS_INTERVENTION\", \"RAC1P_dis\": 0.4608879492600423, \"RAC1P_priv\": 0.36319612590799033, \"SEX&RAC1P_dis\": 0.5416666666666666, \"SEX&RAC1P_priv\": 0.36231884057971014, \"SEX_dis\": 0.4641873278236915, \"SEX_priv\": 0.3158813263525305, \"overall\": 0.3987682832948422, \"disparity_metric_value\": 0.17934782608695649}, {\"exp_config_name\": \"acc_1_0_fair_0_0\", \"logical_pipeline_uuid\": \"Tm9uZSZOT19GQUlSTkVTU19JTlRFUlZFTlRJT04mcmZfY2xm\", \"physical_pipeline_uuid\": \"ff4518c9-1014-46ef-abae-8a25ed099035\", \"run_num\": 5, \"compound_pp_quality\": 0.8032564450474898, \"metric\": \"Equalized_Odds_FPR\", \"model_name\": \"rf_clf\", \"runtime_in_mins\": 0.36789839999999996, \"dataset_name\": \"folk_emp\", \"logical_pipeline_name\": \"None&NO_FAIRNESS_INTERVENTION&rf_clf\", \"null_imputer_name\": \"None\", \"fairness_intervention_name\": \"NO_FAIRNESS_INTERVENTION\", \"RAC1P_dis\": 0.463768115942029, \"RAC1P_priv\": 0.35961768219832735, \"SEX&RAC1P_dis\": 0.4907749077490775, \"SEX&RAC1P_priv\": 0.3736892278360343, \"SEX_dis\": 0.452445652173913, \"SEX_priv\": 0.3287671232876712, \"overall\": 0.3977272727272727, \"disparity_metric_value\": 0.1170856799130432}]}}, {\"mode\": \"vega-lite\"});\n",
       "</script>"
      ],
      "text/plain": [
       "alt.Chart(...)"
      ]
     },
     "execution_count": 14,
     "metadata": {},
     "output_type": "execute_result"
    }
   ],
   "source": [
    "create_box_plot_per_cost_model(to_plot=best_lp_metrics_per_exp_config_df, metric_name=\"Equalized_Odds_FPR\", group=GROUP)"
   ]
  },
  {
   "cell_type": "code",
   "execution_count": 15,
   "id": "c52b3e6f89c9092a",
   "metadata": {
    "ExecuteTime": {
     "end_time": "2024-12-04T18:16:01.626999Z",
     "start_time": "2024-12-04T18:16:01.576798Z"
    }
   },
   "outputs": [
    {
     "data": {
      "text/html": [
       "\n",
       "<div id=\"altair-viz-d28aa6e2c0ee4ce0bec1e5c2be8e64f5\"></div>\n",
       "<script type=\"text/javascript\">\n",
       "  var VEGA_DEBUG = (typeof VEGA_DEBUG == \"undefined\") ? {} : VEGA_DEBUG;\n",
       "  (function(spec, embedOpt){\n",
       "    let outputDiv = document.currentScript.previousElementSibling;\n",
       "    if (outputDiv.id !== \"altair-viz-d28aa6e2c0ee4ce0bec1e5c2be8e64f5\") {\n",
       "      outputDiv = document.getElementById(\"altair-viz-d28aa6e2c0ee4ce0bec1e5c2be8e64f5\");\n",
       "    }\n",
       "    const paths = {\n",
       "      \"vega\": \"https://cdn.jsdelivr.net/npm//vega@5?noext\",\n",
       "      \"vega-lib\": \"https://cdn.jsdelivr.net/npm//vega-lib?noext\",\n",
       "      \"vega-lite\": \"https://cdn.jsdelivr.net/npm//vega-lite@4.17.0?noext\",\n",
       "      \"vega-embed\": \"https://cdn.jsdelivr.net/npm//vega-embed@6?noext\",\n",
       "    };\n",
       "\n",
       "    function maybeLoadScript(lib, version) {\n",
       "      var key = `${lib.replace(\"-\", \"\")}_version`;\n",
       "      return (VEGA_DEBUG[key] == version) ?\n",
       "        Promise.resolve(paths[lib]) :\n",
       "        new Promise(function(resolve, reject) {\n",
       "          var s = document.createElement('script');\n",
       "          document.getElementsByTagName(\"head\")[0].appendChild(s);\n",
       "          s.async = true;\n",
       "          s.onload = () => {\n",
       "            VEGA_DEBUG[key] = version;\n",
       "            return resolve(paths[lib]);\n",
       "          };\n",
       "          s.onerror = () => reject(`Error loading script: ${paths[lib]}`);\n",
       "          s.src = paths[lib];\n",
       "        });\n",
       "    }\n",
       "\n",
       "    function showError(err) {\n",
       "      outputDiv.innerHTML = `<div class=\"error\" style=\"color:red;\">${err}</div>`;\n",
       "      throw err;\n",
       "    }\n",
       "\n",
       "    function displayChart(vegaEmbed) {\n",
       "      vegaEmbed(outputDiv, spec, embedOpt)\n",
       "        .catch(err => showError(`Javascript Error: ${err.message}<br>This usually means there's a typo in your chart specification. See the javascript console for the full traceback.`));\n",
       "    }\n",
       "\n",
       "    if(typeof define === \"function\" && define.amd) {\n",
       "      requirejs.config({paths});\n",
       "      require([\"vega-embed\"], displayChart, err => showError(`Error loading script: ${err.message}`));\n",
       "    } else {\n",
       "      maybeLoadScript(\"vega\", \"5\")\n",
       "        .then(() => maybeLoadScript(\"vega-lite\", \"4.17.0\"))\n",
       "        .then(() => maybeLoadScript(\"vega-embed\", \"6\"))\n",
       "        .catch(showError)\n",
       "        .then(() => displayChart(vegaEmbed));\n",
       "    }\n",
       "  })({\"config\": {\"view\": {\"continuousWidth\": 400, \"continuousHeight\": 300, \"stroke\": null}, \"axis\": {\"labelFontSize\": 22, \"labelFontWeight\": \"normal\", \"titleFontSize\": 28, \"titleFontWeight\": \"normal\"}, \"title\": {\"fontSize\": 28}}, \"data\": {\"name\": \"data-be5595a92e5d39def68e584f2900285e\"}, \"mark\": {\"type\": \"boxplot\", \"median\": {\"stroke\": \"black\", \"strokeWidth\": 0.7}, \"ticks\": true}, \"encoding\": {\"x\": {\"axis\": {\"labelAngle\": -45, \"labelLimit\": 300}, \"field\": \"exp_config_name\", \"title\": null, \"type\": \"nominal\"}, \"y\": {\"field\": \"disparity_metric_value\", \"scale\": {\"zero\": false}, \"title\": \"Label_Stability_Difference\", \"type\": \"quantitative\"}}, \"height\": 400, \"width\": 400, \"$schema\": \"https://vega.github.io/schema/vega-lite/v4.17.0.json\", \"datasets\": {\"data-be5595a92e5d39def68e584f2900285e\": [{\"exp_config_name\": \"acc_0_0_fair_1_0\", \"logical_pipeline_uuid\": \"Tm9uZSZESVImbHJfY2xm\", \"physical_pipeline_uuid\": \"10a4b262-5142-4d67-aceb-7c4e30102b28\", \"run_num\": 4, \"compound_pp_quality\": 0.9904970215934475, \"metric\": \"Label_Stability_Difference\", \"model_name\": \"lr_clf\", \"runtime_in_mins\": 0.23940963333333334, \"dataset_name\": \"folk_emp\", \"logical_pipeline_name\": \"None&DIR&lr_clf\", \"null_imputer_name\": \"None\", \"fairness_intervention_name\": \"DIR\", \"RAC1P_dis\": 0.982142214221422, \"RAC1P_priv\": 0.9674536791953414, \"SEX&RAC1P_dis\": 0.9788275862068966, \"SEX&RAC1P_priv\": 0.9714710743801653, \"SEX_dis\": 0.9679999999999999, \"SEX_priv\": 0.978159169550173, \"overall\": 0.9728933333333334, \"disparity_metric_value\": 0.007356511826731249}, {\"exp_config_name\": \"acc_0_0_fair_1_0\", \"logical_pipeline_uuid\": \"Tm9uZSZESVImbHJfY2xm\", \"physical_pipeline_uuid\": \"27e41a7c-d6bf-46f0-9110-40e96932e653\", \"run_num\": 5, \"compound_pp_quality\": 0.9882056718791412, \"metric\": \"Label_Stability_Difference\", \"model_name\": \"lr_clf\", \"runtime_in_mins\": 0.36641361666666666, \"dataset_name\": \"folk_emp\", \"logical_pipeline_name\": \"None&DIR&lr_clf\", \"null_imputer_name\": \"None\", \"fairness_intervention_name\": \"DIR\", \"RAC1P_dis\": 0.9822458001768347, \"RAC1P_priv\": 0.9695452113429641, \"SEX&RAC1P_dis\": 0.9834196891191711, \"SEX&RAC1P_priv\": 0.9721602643535728, \"SEX_dis\": 0.9760904255319148, \"SEX_priv\": 0.9725668449197861, \"overall\": 0.9743333333333334, \"disparity_metric_value\": 0.01125942476559827}, {\"exp_config_name\": \"acc_0_0_fair_1_0\", \"logical_pipeline_uuid\": \"Tm9uZSZESVImbHJfY2xm\", \"physical_pipeline_uuid\": \"2a1062df-0658-4bed-bebc-f08a64c100bc\", \"run_num\": 2, \"compound_pp_quality\": 0.9999438129403121, \"metric\": \"Label_Stability_Difference\", \"model_name\": \"lr_clf\", \"runtime_in_mins\": 0.23939645, \"dataset_name\": \"folk_emp\", \"logical_pipeline_name\": \"None&DIR&lr_clf\", \"null_imputer_name\": \"None\", \"fairness_intervention_name\": \"DIR\", \"RAC1P_dis\": 0.976148409893993, \"RAC1P_priv\": 0.9705995717344754, \"SEX&RAC1P_dis\": 0.9752317880794701, \"SEX&RAC1P_priv\": 0.9720534223706176, \"SEX_dis\": 0.9717388493859082, \"SEX_priv\": 0.9737095664143152, \"overall\": 0.9726933333333333, \"disparity_metric_value\": 0.0031783657088524375}, {\"exp_config_name\": \"acc_0_0_fair_1_0\", \"logical_pipeline_uuid\": \"Tm9uZSZESVImbHJfY2xm\", \"physical_pipeline_uuid\": \"473666fc-7673-4c1a-988f-7d339730ef11\", \"run_num\": 1, \"compound_pp_quality\": 0.9803706312053799, \"metric\": \"Label_Stability_Difference\", \"model_name\": \"lr_clf\", \"runtime_in_mins\": 0.22176108333333333, \"dataset_name\": \"folk_emp\", \"logical_pipeline_name\": \"None&DIR&lr_clf\", \"null_imputer_name\": \"None\", \"fairness_intervention_name\": \"DIR\", \"RAC1P_dis\": 0.9740619307832422, \"RAC1P_priv\": 0.9577707676130388, \"SEX&RAC1P_dis\": 0.9749820788530466, \"SEX&RAC1P_priv\": 0.9611629811629812, \"SEX_dis\": 0.9636484687083888, \"SEX_priv\": 0.9638184245660882, \"overall\": 0.9637333333333332, \"disparity_metric_value\": 0.013819097690065396}, {\"exp_config_name\": \"acc_0_0_fair_1_0\", \"logical_pipeline_uuid\": \"Tm9uZSZESVImbHJfY2xm\", \"physical_pipeline_uuid\": \"a4e709f5-5df7-4a13-8d4f-d3f1e38dc8e2\", \"run_num\": 3, \"compound_pp_quality\": 0.9487010318960356, \"metric\": \"Label_Stability_Difference\", \"model_name\": \"lr_clf\", \"runtime_in_mins\": 0.27845603333333335, \"dataset_name\": \"folk_emp\", \"logical_pipeline_name\": \"None&DIR&lr_clf\", \"null_imputer_name\": \"None\", \"fairness_intervention_name\": \"DIR\", \"RAC1P_dis\": 0.9796389891696752, \"RAC1P_priv\": 0.9707822410147992, \"SEX&RAC1P_dis\": 0.9818881118881119, \"SEX&RAC1P_priv\": 0.9722075782537067, \"SEX_dis\": 0.9769352708058123, \"SEX_priv\": 0.9711170928667563, \"overall\": 0.9740533333333333, \"disparity_metric_value\": 0.00968053363440513}, {\"exp_config_name\": \"acc_0_25_fair_0_75\", \"logical_pipeline_uuid\": \"Tm9uZSZESVImbGdibV9jbGY=\", \"physical_pipeline_uuid\": \"10ec22bd-bb2b-4b0b-9c70-e0c2868ed85f\", \"run_num\": 1, \"compound_pp_quality\": 0.922697223235796, \"metric\": \"Label_Stability_Difference\", \"model_name\": \"lgbm_clf\", \"runtime_in_mins\": 0.9932433666666667, \"dataset_name\": \"folk_emp\", \"logical_pipeline_name\": \"None&DIR&lgbm_clf\", \"null_imputer_name\": \"None\", \"fairness_intervention_name\": \"DIR\", \"RAC1P_dis\": 0.9659380692167576, \"RAC1P_priv\": 0.9632807570977917, \"SEX&RAC1P_dis\": 0.9636559139784947, \"SEX&RAC1P_priv\": 0.9643898443898443, \"SEX_dis\": 0.9633022636484688, \"SEX_priv\": 0.9652069425901202, \"overall\": 0.9642533333333334, \"disparity_metric_value\": -0.0007339304113496148}, {\"exp_config_name\": \"acc_0_25_fair_0_75\", \"logical_pipeline_uuid\": \"Tm9uZSZESVImbGdibV9jbGY=\", \"physical_pipeline_uuid\": \"2001efbe-d5e3-4ded-afd0-791713baef03\", \"run_num\": 2, \"compound_pp_quality\": 0.9262340470594461, \"metric\": \"Label_Stability_Difference\", \"model_name\": \"lgbm_clf\", \"runtime_in_mins\": 1.5906995, \"dataset_name\": \"folk_emp\", \"logical_pipeline_name\": \"None&DIR&lgbm_clf\", \"null_imputer_name\": \"None\", \"fairness_intervention_name\": \"DIR\", \"RAC1P_dis\": 0.9052650176678447, \"RAC1P_priv\": 0.9122055674518201, \"SEX&RAC1P_dis\": 0.9076821192052981, \"SEX&RAC1P_priv\": 0.9100667779632721, \"SEX_dis\": 0.911131221719457, \"SEX_priv\": 0.9079421885753615, \"overall\": 0.9095866666666668, \"disparity_metric_value\": -0.002384658757974001}, {\"exp_config_name\": \"acc_0_25_fair_0_75\", \"logical_pipeline_uuid\": \"Tm9uZSZESVImbGdibV9jbGY=\", \"physical_pipeline_uuid\": \"cae35392-63ad-4289-a244-ed998a037dab\", \"run_num\": 3, \"compound_pp_quality\": 0.9325414100460687, \"metric\": \"Label_Stability_Difference\", \"model_name\": \"lgbm_clf\", \"runtime_in_mins\": 2.245947633333333, \"dataset_name\": \"folk_emp\", \"logical_pipeline_name\": \"None&DIR&lgbm_clf\", \"null_imputer_name\": \"None\", \"fairness_intervention_name\": \"DIR\", \"RAC1P_dis\": 0.9311913357400722, \"RAC1P_priv\": 0.9306342494714587, \"SEX&RAC1P_dis\": 0.9332167832167831, \"SEX&RAC1P_priv\": 0.9302800658978584, \"SEX_dis\": 0.9336591809775429, \"SEX_priv\": 0.9279676985195155, \"overall\": 0.93084, \"disparity_metric_value\": 0.002936717318924753}, {\"exp_config_name\": \"acc_0_25_fair_0_75\", \"logical_pipeline_uuid\": \"Tm9uZSZESVImbGdibV9jbGY=\", \"physical_pipeline_uuid\": \"e65d4227-6d08-432d-8b7e-cf1aec38947f\", \"run_num\": 5, \"compound_pp_quality\": 0.9398866491664108, \"metric\": \"Label_Stability_Difference\", \"model_name\": \"lgbm_clf\", \"runtime_in_mins\": 0.31955815, \"dataset_name\": \"folk_emp\", \"logical_pipeline_name\": \"None&DIR&lgbm_clf\", \"null_imputer_name\": \"None\", \"fairness_intervention_name\": \"DIR\", \"RAC1P_dis\": 0.9669672855879753, \"RAC1P_priv\": 0.9641733547351524, \"SEX&RAC1P_dis\": 0.9633160621761658, \"SEX&RAC1P_priv\": 0.9656836018174308, \"SEX_dis\": 0.9631914893617021, \"SEX_priv\": 0.9672727272727273, \"overall\": 0.9652266666666666, \"disparity_metric_value\": -0.002367539641265015}, {\"exp_config_name\": \"acc_0_25_fair_0_75\", \"logical_pipeline_uuid\": \"Tm9uZSZESVImbGdibV9jbGY=\", \"physical_pipeline_uuid\": \"eb9b5a19-82f6-416c-bf7f-9471911d01c1\", \"run_num\": 4, \"compound_pp_quality\": 0.9445720796496668, \"metric\": \"Label_Stability_Difference\", \"model_name\": \"lgbm_clf\", \"runtime_in_mins\": 0.3491899333333333, \"dataset_name\": \"folk_emp\", \"logical_pipeline_name\": \"None&DIR&lgbm_clf\", \"null_imputer_name\": \"None\", \"fairness_intervention_name\": \"DIR\", \"RAC1P_dis\": 0.9668046804680467, \"RAC1P_priv\": 0.961270513499206, \"SEX&RAC1P_dis\": 0.968896551724138, \"SEX&RAC1P_priv\": 0.9619834710743802, \"SEX_dis\": 0.9656077170418006, \"SEX_priv\": 0.9608581314878893, \"overall\": 0.9633200000000001, \"disparity_metric_value\": 0.006913080649757819}, {\"exp_config_name\": \"acc_0_5_fair_0_5\", \"logical_pipeline_uuid\": \"Tm9uZSZESVImcmZfY2xm\", \"physical_pipeline_uuid\": \"07b5ccd5-a31a-40df-866d-e878edac7ba8\", \"run_num\": 5, \"compound_pp_quality\": 0.8939217419251164, \"metric\": \"Label_Stability_Difference\", \"model_name\": \"rf_clf\", \"runtime_in_mins\": 0.5909429666666667, \"dataset_name\": \"folk_emp\", \"logical_pipeline_name\": \"None&DIR&rf_clf\", \"null_imputer_name\": \"None\", \"fairness_intervention_name\": \"DIR\", \"RAC1P_dis\": 0.977683465959328, \"RAC1P_priv\": 0.9741680042803639, \"SEX&RAC1P_dis\": 0.9753367875647669, \"SEX&RAC1P_priv\": 0.9755307724080959, \"SEX_dis\": 0.9750265957446809, \"SEX_priv\": 0.9759625668449198, \"overall\": 0.9754933333333333, \"disparity_metric_value\": -0.00019398484332899812}, {\"exp_config_name\": \"acc_0_5_fair_0_5\", \"logical_pipeline_uuid\": \"Tm9uZSZESVImcmZfY2xm\", \"physical_pipeline_uuid\": \"25f8f8ee-416d-4ab7-b7f5-59f977922b92\", \"run_num\": 1, \"compound_pp_quality\": 0.8782634580099932, \"metric\": \"Label_Stability_Difference\", \"model_name\": \"rf_clf\", \"runtime_in_mins\": 0.7307960166666666, \"dataset_name\": \"folk_emp\", \"logical_pipeline_name\": \"None&DIR&rf_clf\", \"null_imputer_name\": \"None\", \"fairness_intervention_name\": \"DIR\", \"RAC1P_dis\": 0.9404735883424409, \"RAC1P_priv\": 0.9468138801261831, \"SEX&RAC1P_dis\": 0.9297491039426522, \"SEX&RAC1P_priv\": 0.9478624078624078, \"SEX_dis\": 0.943462050599201, \"SEX_priv\": 0.9455273698264353, \"overall\": 0.9444933333333335, \"disparity_metric_value\": -0.01811330391975563}, {\"exp_config_name\": \"acc_0_5_fair_0_5\", \"logical_pipeline_uuid\": \"Tm9uZSZESVImcmZfY2xm\", \"physical_pipeline_uuid\": \"5734a395-9aba-48e5-93db-3110ef53510b\", \"run_num\": 2, \"compound_pp_quality\": 0.9038811806469531, \"metric\": \"Label_Stability_Difference\", \"model_name\": \"rf_clf\", \"runtime_in_mins\": 0.3749275833333333, \"dataset_name\": \"folk_emp\", \"logical_pipeline_name\": \"None&DIR&rf_clf\", \"null_imputer_name\": \"None\", \"fairness_intervention_name\": \"DIR\", \"RAC1P_dis\": 0.966077738515901, \"RAC1P_priv\": 0.9632762312633834, \"SEX&RAC1P_dis\": 0.9677483443708609, \"SEX&RAC1P_priv\": 0.9634724540901503, \"SEX_dis\": 0.9659469941822884, \"SEX_priv\": 0.9626152787336546, \"overall\": 0.9643333333333334, \"disparity_metric_value\": 0.004275890280710626}, {\"exp_config_name\": \"acc_0_5_fair_0_5\", \"logical_pipeline_uuid\": \"Tm9uZSZESVImcmZfY2xm\", \"physical_pipeline_uuid\": \"9b20a654-b7bb-4036-90a1-6bfb70add4d3\", \"run_num\": 3, \"compound_pp_quality\": 0.8859352420708846, \"metric\": \"Label_Stability_Difference\", \"model_name\": \"rf_clf\", \"runtime_in_mins\": 0.36953139999999995, \"dataset_name\": \"folk_emp\", \"logical_pipeline_name\": \"None&DIR&rf_clf\", \"null_imputer_name\": \"None\", \"fairness_intervention_name\": \"DIR\", \"RAC1P_dis\": 0.971841155234657, \"RAC1P_priv\": 0.974016913319239, \"SEX&RAC1P_dis\": 0.9711188811188811, \"SEX&RAC1P_priv\": 0.9737067545304777, \"SEX_dis\": 0.9751651254953766, \"SEX_priv\": 0.9712247644683715, \"overall\": 0.9732133333333333, \"disparity_metric_value\": -0.0025878734115966084}, {\"exp_config_name\": \"acc_0_5_fair_0_5\", \"logical_pipeline_uuid\": \"Tm9uZSZESVImcmZfY2xm\", \"physical_pipeline_uuid\": \"e428c255-a1da-4312-a369-e71a6cad70ec\", \"run_num\": 4, \"compound_pp_quality\": 0.8978266157229582, \"metric\": \"Label_Stability_Difference\", \"model_name\": \"rf_clf\", \"runtime_in_mins\": 0.37518238333333337, \"dataset_name\": \"folk_emp\", \"logical_pipeline_name\": \"None&DIR&rf_clf\", \"null_imputer_name\": \"None\", \"fairness_intervention_name\": \"DIR\", \"RAC1P_dis\": 0.972889288928893, \"RAC1P_priv\": 0.9666066701958709, \"SEX&RAC1P_dis\": 0.9738620689655173, \"SEX&RAC1P_priv\": 0.9677520661157025, \"SEX_dis\": 0.9717556270096462, \"SEX_priv\": 0.9658961937716263, \"overall\": 0.9689333333333332, \"disparity_metric_value\": 0.006110002849814777}, {\"exp_config_name\": \"acc_0_75_fair_0_25\", \"logical_pipeline_uuid\": \"Tm9uZSZESVImcmZfY2xm\", \"physical_pipeline_uuid\": \"29118464-4d6c-4ac9-9f57-378753656e1b\", \"run_num\": 5, \"compound_pp_quality\": 0.848109667549801, \"metric\": \"Label_Stability_Difference\", \"model_name\": \"rf_clf\", \"runtime_in_mins\": 0.37749893333333334, \"dataset_name\": \"folk_emp\", \"logical_pipeline_name\": \"None&DIR&rf_clf\", \"null_imputer_name\": \"None\", \"fairness_intervention_name\": \"DIR\", \"RAC1P_dis\": 0.972130857648099, \"RAC1P_priv\": 0.9666345639379347, \"SEX&RAC1P_dis\": 0.9680138169257341, \"SEX&RAC1P_priv\": 0.9688723667905823, \"SEX_dis\": 0.967154255319149, \"SEX_priv\": 0.9702673796791443, \"overall\": 0.9687066666666666, \"disparity_metric_value\": -0.0008585498648482348}, {\"exp_config_name\": \"acc_0_75_fair_0_25\", \"logical_pipeline_uuid\": \"Tm9uZSZESVImcmZfY2xm\", \"physical_pipeline_uuid\": \"4127dfcc-8774-4868-8f9e-4e28d940d52d\", \"run_num\": 2, \"compound_pp_quality\": 0.8568860835433649, \"metric\": \"Label_Stability_Difference\", \"model_name\": \"rf_clf\", \"runtime_in_mins\": 0.3967929, \"dataset_name\": \"folk_emp\", \"logical_pipeline_name\": \"None&DIR&rf_clf\", \"null_imputer_name\": \"None\", \"fairness_intervention_name\": \"DIR\", \"RAC1P_dis\": 0.966077738515901, \"RAC1P_priv\": 0.9632762312633834, \"SEX&RAC1P_dis\": 0.9677483443708609, \"SEX&RAC1P_priv\": 0.9634724540901503, \"SEX_dis\": 0.9659469941822884, \"SEX_priv\": 0.9626152787336546, \"overall\": 0.9643333333333334, \"disparity_metric_value\": 0.004275890280710626}, {\"exp_config_name\": \"acc_0_75_fair_0_25\", \"logical_pipeline_uuid\": \"Tm9uZSZESVImcmZfY2xm\", \"physical_pipeline_uuid\": \"5c31e717-da62-4ff5-8b6a-e4fe51294caa\", \"run_num\": 1, \"compound_pp_quality\": 0.8458600505300283, \"metric\": \"Label_Stability_Difference\", \"model_name\": \"rf_clf\", \"runtime_in_mins\": 0.49144118333333336, \"dataset_name\": \"folk_emp\", \"logical_pipeline_name\": \"None&DIR&rf_clf\", \"null_imputer_name\": \"None\", \"fairness_intervention_name\": \"DIR\", \"RAC1P_dis\": 0.8895446265938068, \"RAC1P_priv\": 0.900651945320715, \"SEX&RAC1P_dis\": 0.8779928315412185, \"SEX&RAC1P_priv\": 0.900835380835381, \"SEX_dis\": 0.8941145139813582, \"SEX_priv\": 0.8990654205607477, \"overall\": 0.8965866666666668, \"disparity_metric_value\": -0.022842549294162406}, {\"exp_config_name\": \"acc_0_75_fair_0_25\", \"logical_pipeline_uuid\": \"Tm9uZSZESVImcmZfY2xm\", \"physical_pipeline_uuid\": \"6fea3046-5edc-48da-bf66-d3bd28a20a7d\", \"run_num\": 3, \"compound_pp_quality\": 0.8488951150814862, \"metric\": \"Label_Stability_Difference\", \"model_name\": \"rf_clf\", \"runtime_in_mins\": 0.3669617, \"dataset_name\": \"folk_emp\", \"logical_pipeline_name\": \"None&DIR&rf_clf\", \"null_imputer_name\": \"None\", \"fairness_intervention_name\": \"DIR\", \"RAC1P_dis\": 0.971841155234657, \"RAC1P_priv\": 0.974016913319239, \"SEX&RAC1P_dis\": 0.9711188811188811, \"SEX&RAC1P_priv\": 0.9737067545304777, \"SEX_dis\": 0.9751651254953766, \"SEX_priv\": 0.9712247644683715, \"overall\": 0.9732133333333333, \"disparity_metric_value\": -0.0025878734115966084}, {\"exp_config_name\": \"acc_0_75_fair_0_25\", \"logical_pipeline_uuid\": \"Tm9uZSZESVImcmZfY2xm\", \"physical_pipeline_uuid\": \"de58d6fc-c4e3-4a8b-9fac-2e2ae41785e1\", \"run_num\": 4, \"compound_pp_quality\": 0.8524361261160827, \"metric\": \"Label_Stability_Difference\", \"model_name\": \"rf_clf\", \"runtime_in_mins\": 0.37674836666666667, \"dataset_name\": \"folk_emp\", \"logical_pipeline_name\": \"None&DIR&rf_clf\", \"null_imputer_name\": \"None\", \"fairness_intervention_name\": \"DIR\", \"RAC1P_dis\": 0.972889288928893, \"RAC1P_priv\": 0.9666066701958709, \"SEX&RAC1P_dis\": 0.9738620689655173, \"SEX&RAC1P_priv\": 0.9677520661157025, \"SEX_dis\": 0.9717556270096462, \"SEX_priv\": 0.9658961937716263, \"overall\": 0.9689333333333332, \"disparity_metric_value\": 0.006110002849814777}, {\"exp_config_name\": \"acc_1_0_fair_0_0\", \"logical_pipeline_uuid\": \"Tm9uZSZOT19GQUlSTkVTU19JTlRFUlZFTlRJT04mcmZfY2xm\", \"physical_pipeline_uuid\": \"04361871-f4b5-42e2-891b-74ffddc2342b\", \"run_num\": 3, \"compound_pp_quality\": 0.8122792719369737, \"metric\": \"Label_Stability_Difference\", \"model_name\": \"rf_clf\", \"runtime_in_mins\": 1.8072868666666666, \"dataset_name\": \"folk_emp\", \"logical_pipeline_name\": \"None&NO_FAIRNESS_INTERVENTION&rf_clf\", \"null_imputer_name\": \"None\", \"fairness_intervention_name\": \"NO_FAIRNESS_INTERVENTION\", \"RAC1P_dis\": 0.9216606498194945, \"RAC1P_priv\": 0.941416490486258, \"SEX&RAC1P_dis\": 0.9062237762237763, \"SEX&RAC1P_priv\": 0.9406919275123559, \"SEX_dis\": 0.9279524438573317, \"SEX_priv\": 0.9404037685060566, \"overall\": 0.9341200000000001, \"disparity_metric_value\": -0.03446815128857961}, {\"exp_config_name\": \"acc_1_0_fair_0_0\", \"logical_pipeline_uuid\": \"Tm9uZSZOT19GQUlSTkVTU19JTlRFUlZFTlRJT04mcmZfY2xm\", \"physical_pipeline_uuid\": \"262520f3-9c0d-434b-b1d9-726af3d7b117\", \"run_num\": 4, \"compound_pp_quality\": 0.8077544426494345, \"metric\": \"Label_Stability_Difference\", \"model_name\": \"rf_clf\", \"runtime_in_mins\": 0.37527183333333336, \"dataset_name\": \"folk_emp\", \"logical_pipeline_name\": \"None&NO_FAIRNESS_INTERVENTION&rf_clf\", \"null_imputer_name\": \"None\", \"fairness_intervention_name\": \"NO_FAIRNESS_INTERVENTION\", \"RAC1P_dis\": 0.9744014401440143, \"RAC1P_priv\": 0.9670725251455796, \"SEX&RAC1P_dis\": 0.9731724137931036, \"SEX&RAC1P_priv\": 0.9689752066115703, \"SEX_dis\": 0.9708295819935691, \"SEX_priv\": 0.9686643598615917, \"overall\": 0.9697866666666667, \"disparity_metric_value\": 0.004197207181533269}, {\"exp_config_name\": \"acc_1_0_fair_0_0\", \"logical_pipeline_uuid\": \"Tm9uZSZOT19GQUlSTkVTU19JTlRFUlZFTlRJT04mcmZfY2xm\", \"physical_pipeline_uuid\": \"4c12117f-8fa2-46f0-b083-453d06acf10d\", \"run_num\": 1, \"compound_pp_quality\": 0.8113667117726657, \"metric\": \"Label_Stability_Difference\", \"model_name\": \"rf_clf\", \"runtime_in_mins\": 0.6259399499999999, \"dataset_name\": \"folk_emp\", \"logical_pipeline_name\": \"None&NO_FAIRNESS_INTERVENTION&rf_clf\", \"null_imputer_name\": \"None\", \"fairness_intervention_name\": \"NO_FAIRNESS_INTERVENTION\", \"RAC1P_dis\": 0.8682331511839708, \"RAC1P_priv\": 0.8805047318611987, \"SEX&RAC1P_dis\": 0.8529032258064516, \"SEX&RAC1P_priv\": 0.8812940212940212, \"SEX_dis\": 0.8720372836218376, \"SEX_priv\": 0.8799999999999999, \"overall\": 0.8760133333333333, \"disparity_metric_value\": -0.02839079548756962}, {\"exp_config_name\": \"acc_1_0_fair_0_0\", \"logical_pipeline_uuid\": \"Tm9uZSZOT19GQUlSTkVTU19JTlRFUlZFTlRJT04mcmZfY2xm\", \"physical_pipeline_uuid\": \"f8faa13a-a1b9-4e2c-af8e-83f3f94475fe\", \"run_num\": 2, \"compound_pp_quality\": 0.8101876675603217, \"metric\": \"Label_Stability_Difference\", \"model_name\": \"rf_clf\", \"runtime_in_mins\": 0.37080680000000005, \"dataset_name\": \"folk_emp\", \"logical_pipeline_name\": \"None&NO_FAIRNESS_INTERVENTION&rf_clf\", \"null_imputer_name\": \"None\", \"fairness_intervention_name\": \"NO_FAIRNESS_INTERVENTION\", \"RAC1P_dis\": 0.9677385159010601, \"RAC1P_priv\": 0.9614775160599571, \"SEX&RAC1P_dis\": 0.9658278145695365, \"SEX&RAC1P_priv\": 0.963338898163606, \"SEX_dis\": 0.9643956043956045, \"SEX_priv\": 0.9632484514796971, \"overall\": 0.9638399999999998, \"disparity_metric_value\": 0.002488916405930519}, {\"exp_config_name\": \"acc_1_0_fair_0_0\", \"logical_pipeline_uuid\": \"Tm9uZSZOT19GQUlSTkVTU19JTlRFUlZFTlRJT04mcmZfY2xm\", \"physical_pipeline_uuid\": \"ff4518c9-1014-46ef-abae-8a25ed099035\", \"run_num\": 5, \"compound_pp_quality\": 0.8032564450474898, \"metric\": \"Label_Stability_Difference\", \"model_name\": \"rf_clf\", \"runtime_in_mins\": 0.36789839999999996, \"dataset_name\": \"folk_emp\", \"logical_pipeline_name\": \"None&NO_FAIRNESS_INTERVENTION&rf_clf\", \"null_imputer_name\": \"None\", \"fairness_intervention_name\": \"NO_FAIRNESS_INTERVENTION\", \"RAC1P_dis\": 0.9713881520778074, \"RAC1P_priv\": 0.967597645799893, \"SEX&RAC1P_dis\": 0.9691882556131263, \"SEX&RAC1P_priv\": 0.9689880214787279, \"SEX_dis\": 0.9685904255319149, \"SEX_priv\": 0.9694652406417111, \"overall\": 0.9690266666666666, \"disparity_metric_value\": 0.00020023413439840265}]}}, {\"mode\": \"vega-lite\"});\n",
       "</script>"
      ],
      "text/plain": [
       "alt.Chart(...)"
      ]
     },
     "execution_count": 15,
     "metadata": {},
     "output_type": "execute_result"
    }
   ],
   "source": [
    "create_box_plot_per_cost_model(to_plot=best_lp_metrics_per_exp_config_df, metric_name=\"Label_Stability_Difference\", group=GROUP)"
   ]
  },
  {
   "cell_type": "code",
   "execution_count": null,
   "id": "ddbf2df1ce330560",
   "metadata": {
    "ExecuteTime": {
     "end_time": "2024-12-04T18:16:01.637247Z",
     "start_time": "2024-12-04T18:16:01.635740Z"
    }
   },
   "outputs": [],
   "source": []
  }
 ],
 "metadata": {
  "kernelspec": {
   "display_name": "Python 3 (ipykernel)",
   "language": "python",
   "name": "python3"
  },
  "language_info": {
   "codemirror_mode": {
    "name": "ipython",
    "version": 3
   },
   "file_extension": ".py",
   "mimetype": "text/x-python",
   "name": "python",
   "nbconvert_exporter": "python",
   "pygments_lexer": "ipython3",
   "version": "3.9.6"
  }
 },
 "nbformat": 4,
 "nbformat_minor": 5
}
